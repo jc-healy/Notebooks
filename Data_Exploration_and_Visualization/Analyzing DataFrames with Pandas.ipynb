{
 "cells": [
  {
   "cell_type": "markdown",
   "metadata": {},
   "source": [
    "# CLASSIFICATION: UNCLASSIFIED"
   ]
  },
  {
   "cell_type": "markdown",
   "metadata": {},
   "source": [
    "## Background \n",
    "Python has a few central structures for storing data - lists, sets, and dicts - and there are other common ones in external libraries - such as numpy.array and numpy.matrix. None of these are ideal for analyzing tabular data, in which we have rows with columns of different types (e.g. numerical, date, text, category), much like tables in database. This could be accomplished with the builtin types, but it would be very cumbersome to do some types of analysis.\n",
    "\n",
    "Pandas is a package that allows you to represent tabular data as a DataFrame and perform many useful operations on it, such as:\n",
    "* subsetting rows and columns based on complex criteria\n",
    "* grouping and aggregating\n",
    "* joining \n",
    "* creating new columns as functions of existing ones\n",
    "* sorting by multiple columns\n",
    "\n",
    "Pandas will allow you do anything you could do in a database, plus much more.\n",
    "\n",
    "This notebook will outline many of the functions available in pandas. Generally, it will demonstrate some common or simpler usages of the function. You can always look at the documentation using help(pd.function) to get a full list of capabilities."
   ]
  },
  {
   "cell_type": "code",
   "execution_count": 1,
   "metadata": {},
   "outputs": [],
   "source": [
    "import pandas as pd"
   ]
  },
  {
   "cell_type": "code",
   "execution_count": 2,
   "metadata": {},
   "outputs": [
    {
     "data": {
      "text/plain": [
       "True"
      ]
     },
     "execution_count": 2,
     "metadata": {},
     "output_type": "execute_result"
    }
   ],
   "source": [
    "#pull_data\n",
    "import get_data\n",
    "get_data.get_file(\"cast.csv\", \"../data/\")\n",
    "get_data.get_file(\"release_dates.csv\", \"../data/\")\n",
    "get_data.get_file(\"titles.csv\", \"../data/\")"
   ]
  },
  {
   "cell_type": "markdown",
   "metadata": {},
   "source": [
    "## I/O and Basics \n",
    "\n",
    "We will import some data to play with - the IMDB database.\n",
    "\n",
    "We read this in with the \"from\\_csv\" command. There are many formats that pandas can accept directly - dictionaries, lists of lists, json, Excel, to name a few. Similarly, it is easy to output a DataFrame to any of these formats, using the .to_\\* commands\n",
    "\n",
    "Note that this is a relatively large data set (3.7M rows) but pandas will handle it reasonably well"
   ]
  },
  {
   "cell_type": "code",
   "execution_count": 3,
   "metadata": {},
   "outputs": [
    {
     "name": "stdout",
     "output_type": "stream",
     "text": [
      "(3768347, 6)\n",
      "CPU times: user 4.9 s, sys: 388 ms, total: 5.29 s\n",
      "Wall time: 5.3 s\n"
     ]
    }
   ],
   "source": [
    "%%time\n",
    "cast = pd.DataFrame.from_csv('../data/cast.csv', index_col=None) \n",
    "print(cast.shape)"
   ]
  },
  {
   "cell_type": "markdown",
   "metadata": {},
   "source": [
    "As demonstrated above, a DataFrame as a \"shape\" attribute, much like a numpy matrix. We can also call some functions on it, such as head() and tail() which return DataFrames which are subsets of the data."
   ]
  },
  {
   "cell_type": "code",
   "execution_count": 4,
   "metadata": {},
   "outputs": [
    {
     "data": {
      "text/html": [
       "<div>\n",
       "<style>\n",
       "    .dataframe thead tr:only-child th {\n",
       "        text-align: right;\n",
       "    }\n",
       "\n",
       "    .dataframe thead th {\n",
       "        text-align: left;\n",
       "    }\n",
       "\n",
       "    .dataframe tbody tr th {\n",
       "        vertical-align: top;\n",
       "    }\n",
       "</style>\n",
       "<table border=\"1\" class=\"dataframe\">\n",
       "  <thead>\n",
       "    <tr style=\"text-align: right;\">\n",
       "      <th></th>\n",
       "      <th>title</th>\n",
       "      <th>year</th>\n",
       "      <th>name</th>\n",
       "      <th>type</th>\n",
       "      <th>character</th>\n",
       "      <th>n</th>\n",
       "    </tr>\n",
       "  </thead>\n",
       "  <tbody>\n",
       "    <tr>\n",
       "      <th>0</th>\n",
       "      <td>The Core</td>\n",
       "      <td>2003</td>\n",
       "      <td>Alejandro Abellan</td>\n",
       "      <td>actor</td>\n",
       "      <td>U.S.S. Soldier</td>\n",
       "      <td>NaN</td>\n",
       "    </tr>\n",
       "    <tr>\n",
       "      <th>1</th>\n",
       "      <td>Il momento di uccidere</td>\n",
       "      <td>1968</td>\n",
       "      <td>Remo De Angelis</td>\n",
       "      <td>actor</td>\n",
       "      <td>Dago</td>\n",
       "      <td>9.0</td>\n",
       "    </tr>\n",
       "    <tr>\n",
       "      <th>2</th>\n",
       "      <td>Across the Divide</td>\n",
       "      <td>1921</td>\n",
       "      <td>Thomas Delmar</td>\n",
       "      <td>actor</td>\n",
       "      <td>Dago</td>\n",
       "      <td>4.0</td>\n",
       "    </tr>\n",
       "  </tbody>\n",
       "</table>\n",
       "</div>"
      ],
      "text/plain": [
       "                    title  year               name   type       character    n\n",
       "0                The Core  2003  Alejandro Abellan  actor  U.S.S. Soldier  NaN\n",
       "1  Il momento di uccidere  1968    Remo De Angelis  actor            Dago  9.0\n",
       "2       Across the Divide  1921      Thomas Delmar  actor            Dago  4.0"
      ]
     },
     "execution_count": 4,
     "metadata": {},
     "output_type": "execute_result"
    }
   ],
   "source": [
    "cast.head(3)"
   ]
  },
  {
   "cell_type": "code",
   "execution_count": 5,
   "metadata": {},
   "outputs": [
    {
     "data": {
      "text/html": [
       "<div>\n",
       "<style>\n",
       "    .dataframe thead tr:only-child th {\n",
       "        text-align: right;\n",
       "    }\n",
       "\n",
       "    .dataframe thead th {\n",
       "        text-align: left;\n",
       "    }\n",
       "\n",
       "    .dataframe tbody tr th {\n",
       "        vertical-align: top;\n",
       "    }\n",
       "</style>\n",
       "<table border=\"1\" class=\"dataframe\">\n",
       "  <thead>\n",
       "    <tr style=\"text-align: right;\">\n",
       "      <th></th>\n",
       "      <th>title</th>\n",
       "      <th>year</th>\n",
       "      <th>name</th>\n",
       "      <th>type</th>\n",
       "      <th>character</th>\n",
       "      <th>n</th>\n",
       "    </tr>\n",
       "  </thead>\n",
       "  <tbody>\n",
       "    <tr>\n",
       "      <th>3768344</th>\n",
       "      <td>Para Para Para</td>\n",
       "      <td>2015</td>\n",
       "      <td>Birgul Yilmaz</td>\n",
       "      <td>actress</td>\n",
       "      <td>Guleser</td>\n",
       "      <td>NaN</td>\n",
       "    </tr>\n",
       "    <tr>\n",
       "      <th>3768345</th>\n",
       "      <td>Necroville</td>\n",
       "      <td>2007</td>\n",
       "      <td>Julian Wolf</td>\n",
       "      <td>actress</td>\n",
       "      <td>S&amp;M Zombie</td>\n",
       "      <td>NaN</td>\n",
       "    </tr>\n",
       "    <tr>\n",
       "      <th>3768346</th>\n",
       "      <td>We Not Naughty</td>\n",
       "      <td>2012</td>\n",
       "      <td>Yun Xiang</td>\n",
       "      <td>actress</td>\n",
       "      <td>Bao's mother</td>\n",
       "      <td>NaN</td>\n",
       "    </tr>\n",
       "  </tbody>\n",
       "</table>\n",
       "</div>"
      ],
      "text/plain": [
       "                  title  year           name     type     character   n\n",
       "3768344  Para Para Para  2015  Birgul Yilmaz  actress       Guleser NaN\n",
       "3768345      Necroville  2007    Julian Wolf  actress    S&M Zombie NaN\n",
       "3768346  We Not Naughty  2012      Yun Xiang  actress  Bao's mother NaN"
      ]
     },
     "execution_count": 5,
     "metadata": {},
     "output_type": "execute_result"
    }
   ],
   "source": [
    "cast.tail(3)"
   ]
  },
  {
   "cell_type": "markdown",
   "metadata": {},
   "source": [
    "It should be noted that almost all operations on a DataFrame return a new DataFrame and are not done in-place on the original object. So, unless we assign the result to a variable, there is no effect. \n",
    "\n",
    "So, if I want to keep the first 10 rows, I could do the following."
   ]
  },
  {
   "cell_type": "code",
   "execution_count": 6,
   "metadata": {},
   "outputs": [
    {
     "name": "stdout",
     "output_type": "stream",
     "text": [
      "Shape of cast is (3768347, 6)\n",
      "Shape of cast10 is (10, 6)\n"
     ]
    }
   ],
   "source": [
    "cast10 = cast.head(10)\n",
    "print('Shape of cast is', cast.shape)\n",
    "print('Shape of cast10 is', cast10.shape)"
   ]
  },
  {
   "cell_type": "markdown",
   "metadata": {},
   "source": [
    "## Series, DataFrames and Indices\n",
    "\n",
    "The building block of a DataFrame is the Series, which is essentially one column of the DataFrame. More specifically, it is a one-dimensional array with a particular type of data (e.g. int) and indexed. \n",
    "\n",
    "Indexes can also be of any type and need not be unique. If an index is not specified upon creation, the default is to simply use a numerical index from 0 to $n-1$, as seen in the DataFrame above, shown in the the unlabelled bolded column.\n",
    "\n",
    "DataFrames are then a collection of these Series, joined on the index, resulting in two-dimensional data structure, with an index and labels for each Series to represent columns. The data types can vary across Series."
   ]
  },
  {
   "cell_type": "code",
   "execution_count": 7,
   "metadata": {},
   "outputs": [
    {
     "name": "stdout",
     "output_type": "stream",
     "text": [
      "<class 'pandas.core.series.Series'>\n"
     ]
    },
    {
     "data": {
      "text/plain": [
       "0    2003\n",
       "1    1968\n",
       "2    1921\n",
       "3    2012\n",
       "4    1950\n",
       "Name: year, dtype: int64"
      ]
     },
     "execution_count": 7,
     "metadata": {},
     "output_type": "execute_result"
    }
   ],
   "source": [
    "print(type(cast['year']))\n",
    "cast['year'].head(5)"
   ]
  },
  {
   "cell_type": "code",
   "execution_count": 8,
   "metadata": {},
   "outputs": [
    {
     "name": "stdout",
     "output_type": "stream",
     "text": [
      "<class 'pandas.core.series.Series'>\n"
     ]
    },
    {
     "data": {
      "text/plain": [
       "0    actor\n",
       "1    actor\n",
       "2    actor\n",
       "3    actor\n",
       "4    actor\n",
       "Name: type, dtype: object"
      ]
     },
     "execution_count": 8,
     "metadata": {},
     "output_type": "execute_result"
    }
   ],
   "source": [
    "print(type(cast['type']))\n",
    "cast['type'].head(5)"
   ]
  },
  {
   "cell_type": "code",
   "execution_count": 9,
   "metadata": {},
   "outputs": [
    {
     "data": {
      "text/plain": [
       "[0, 1, 2, 3, 4]"
      ]
     },
     "execution_count": 9,
     "metadata": {},
     "output_type": "execute_result"
    }
   ],
   "source": [
    "#convert index to list to see first 5 elements\n",
    "list(cast.index)[:5]"
   ]
  },
  {
   "cell_type": "markdown",
   "metadata": {},
   "source": [
    "## Selection, Boolean Indexing and Setting\n",
    "\n",
    "Here are some examples of common ways to subset data in pandas, similar to using a WHERE clause in SQL.\n",
    "\n",
    "First, we can get a particular column, which gives us a Series. There are two ways to do this, either df['column_name'] or df.column_name as long as the column name is alphanumeric."
   ]
  },
  {
   "cell_type": "code",
   "execution_count": 10,
   "metadata": {},
   "outputs": [
    {
     "data": {
      "text/plain": [
       "0    actor\n",
       "1    actor\n",
       "2    actor\n",
       "3    actor\n",
       "4    actor\n",
       "Name: type, dtype: object"
      ]
     },
     "execution_count": 10,
     "metadata": {},
     "output_type": "execute_result"
    }
   ],
   "source": [
    "cast['type'].head(5)"
   ]
  },
  {
   "cell_type": "code",
   "execution_count": 11,
   "metadata": {},
   "outputs": [
    {
     "data": {
      "text/plain": [
       "0    actor\n",
       "1    actor\n",
       "2    actor\n",
       "3    actor\n",
       "4    actor\n",
       "Name: type, dtype: object"
      ]
     },
     "execution_count": 11,
     "metadata": {},
     "output_type": "execute_result"
    }
   ],
   "source": [
    "cast.type.head(5)"
   ]
  },
  {
   "cell_type": "markdown",
   "metadata": {},
   "source": [
    "We can also select rows and columns in various ways."
   ]
  },
  {
   "cell_type": "code",
   "execution_count": 12,
   "metadata": {},
   "outputs": [
    {
     "data": {
      "text/html": [
       "<div>\n",
       "<table border=\"1\" class=\"dataframe\">\n",
       "  <thead>\n",
       "    <tr style=\"text-align: right;\">\n",
       "      <th></th>\n",
       "      <th>title</th>\n",
       "      <th>year</th>\n",
       "      <th>name</th>\n",
       "      <th>type</th>\n",
       "      <th>character</th>\n",
       "      <th>n</th>\n",
       "    </tr>\n",
       "  </thead>\n",
       "  <tbody>\n",
       "    <tr>\n",
       "      <th>3</th>\n",
       "      <td>Revan</td>\n",
       "      <td>2012</td>\n",
       "      <td>Diego James</td>\n",
       "      <td>actor</td>\n",
       "      <td>Dago</td>\n",
       "      <td>NaN</td>\n",
       "    </tr>\n",
       "    <tr>\n",
       "      <th>4</th>\n",
       "      <td>Un homme marche dans la ville</td>\n",
       "      <td>1950</td>\n",
       "      <td>Fabien Loris</td>\n",
       "      <td>actor</td>\n",
       "      <td>Dago</td>\n",
       "      <td>12.0</td>\n",
       "    </tr>\n",
       "    <tr>\n",
       "      <th>5</th>\n",
       "      <td>Malaria</td>\n",
       "      <td>1943</td>\n",
       "      <td>Michel Salina</td>\n",
       "      <td>actor</td>\n",
       "      <td>Dago</td>\n",
       "      <td>10.0</td>\n",
       "    </tr>\n",
       "    <tr>\n",
       "      <th>6</th>\n",
       "      <td>Ladies' Night</td>\n",
       "      <td>2003</td>\n",
       "      <td>Hugo Silva (III)</td>\n",
       "      <td>actor</td>\n",
       "      <td>Dago</td>\n",
       "      <td>5.0</td>\n",
       "    </tr>\n",
       "    <tr>\n",
       "      <th>7</th>\n",
       "      <td>You Didn't Know</td>\n",
       "      <td>2014</td>\n",
       "      <td>Tony Smith (LXXVI)</td>\n",
       "      <td>actor</td>\n",
       "      <td>Dago</td>\n",
       "      <td>NaN</td>\n",
       "    </tr>\n",
       "    <tr>\n",
       "      <th>8</th>\n",
       "      <td>Pecos è qui: prega e muori!</td>\n",
       "      <td>1967</td>\n",
       "      <td>Ignazio Spalla</td>\n",
       "      <td>actor</td>\n",
       "      <td>Dago</td>\n",
       "      <td>4.0</td>\n",
       "    </tr>\n",
       "    <tr>\n",
       "      <th>9</th>\n",
       "      <td>The Crop</td>\n",
       "      <td>2004</td>\n",
       "      <td>Vincent Stone</td>\n",
       "      <td>actor</td>\n",
       "      <td>Dago</td>\n",
       "      <td>5.0</td>\n",
       "    </tr>\n",
       "  </tbody>\n",
       "</table>\n",
       "</div>"
      ],
      "text/plain": [
       "                           title  year                name   type character  \\\n",
       "3                          Revan  2012         Diego James  actor      Dago   \n",
       "4  Un homme marche dans la ville  1950        Fabien Loris  actor      Dago   \n",
       "5                        Malaria  1943       Michel Salina  actor      Dago   \n",
       "6                  Ladies' Night  2003    Hugo Silva (III)  actor      Dago   \n",
       "7                You Didn't Know  2014  Tony Smith (LXXVI)  actor      Dago   \n",
       "8    Pecos è qui: prega e muori!  1967      Ignazio Spalla  actor      Dago   \n",
       "9                       The Crop  2004       Vincent Stone  actor      Dago   \n",
       "\n",
       "      n  \n",
       "3   NaN  \n",
       "4  12.0  \n",
       "5  10.0  \n",
       "6   5.0  \n",
       "7   NaN  \n",
       "8   4.0  \n",
       "9   5.0  "
      ]
     },
     "execution_count": 12,
     "metadata": {},
     "output_type": "execute_result"
    }
   ],
   "source": [
    "cast[3:10]"
   ]
  },
  {
   "cell_type": "code",
   "execution_count": 13,
   "metadata": {},
   "outputs": [
    {
     "data": {
      "text/html": [
       "<div>\n",
       "<table border=\"1\" class=\"dataframe\">\n",
       "  <thead>\n",
       "    <tr style=\"text-align: right;\">\n",
       "      <th></th>\n",
       "      <th>title</th>\n",
       "      <th>year</th>\n",
       "    </tr>\n",
       "  </thead>\n",
       "  <tbody>\n",
       "    <tr>\n",
       "      <th>0</th>\n",
       "      <td>The Core</td>\n",
       "      <td>2003</td>\n",
       "    </tr>\n",
       "    <tr>\n",
       "      <th>1</th>\n",
       "      <td>Il momento di uccidere</td>\n",
       "      <td>1968</td>\n",
       "    </tr>\n",
       "    <tr>\n",
       "      <th>2</th>\n",
       "      <td>Across the Divide</td>\n",
       "      <td>1921</td>\n",
       "    </tr>\n",
       "    <tr>\n",
       "      <th>3</th>\n",
       "      <td>Revan</td>\n",
       "      <td>2012</td>\n",
       "    </tr>\n",
       "    <tr>\n",
       "      <th>4</th>\n",
       "      <td>Un homme marche dans la ville</td>\n",
       "      <td>1950</td>\n",
       "    </tr>\n",
       "    <tr>\n",
       "      <th>5</th>\n",
       "      <td>Malaria</td>\n",
       "      <td>1943</td>\n",
       "    </tr>\n",
       "    <tr>\n",
       "      <th>6</th>\n",
       "      <td>Ladies' Night</td>\n",
       "      <td>2003</td>\n",
       "    </tr>\n",
       "    <tr>\n",
       "      <th>7</th>\n",
       "      <td>You Didn't Know</td>\n",
       "      <td>2014</td>\n",
       "    </tr>\n",
       "    <tr>\n",
       "      <th>8</th>\n",
       "      <td>Pecos è qui: prega e muori!</td>\n",
       "      <td>1967</td>\n",
       "    </tr>\n",
       "    <tr>\n",
       "      <th>9</th>\n",
       "      <td>The Crop</td>\n",
       "      <td>2004</td>\n",
       "    </tr>\n",
       "  </tbody>\n",
       "</table>\n",
       "</div>"
      ],
      "text/plain": [
       "                           title  year\n",
       "0                       The Core  2003\n",
       "1         Il momento di uccidere  1968\n",
       "2              Across the Divide  1921\n",
       "3                          Revan  2012\n",
       "4  Un homme marche dans la ville  1950\n",
       "5                        Malaria  1943\n",
       "6                  Ladies' Night  2003\n",
       "7                You Didn't Know  2014\n",
       "8    Pecos è qui: prega e muori!  1967\n",
       "9                       The Crop  2004"
      ]
     },
     "execution_count": 13,
     "metadata": {},
     "output_type": "execute_result"
    }
   ],
   "source": [
    "cast[['title', 'year']].head(10)"
   ]
  },
  {
   "cell_type": "code",
   "execution_count": 14,
   "metadata": {},
   "outputs": [
    {
     "data": {
      "text/html": [
       "<div>\n",
       "<table border=\"1\" class=\"dataframe\">\n",
       "  <thead>\n",
       "    <tr style=\"text-align: right;\">\n",
       "      <th></th>\n",
       "      <th>name</th>\n",
       "      <th>type</th>\n",
       "    </tr>\n",
       "  </thead>\n",
       "  <tbody>\n",
       "    <tr>\n",
       "      <th>3</th>\n",
       "      <td>Diego James</td>\n",
       "      <td>actor</td>\n",
       "    </tr>\n",
       "    <tr>\n",
       "      <th>4</th>\n",
       "      <td>Fabien Loris</td>\n",
       "      <td>actor</td>\n",
       "    </tr>\n",
       "  </tbody>\n",
       "</table>\n",
       "</div>"
      ],
      "text/plain": [
       "           name   type\n",
       "3   Diego James  actor\n",
       "4  Fabien Loris  actor"
      ]
     },
     "execution_count": 14,
     "metadata": {},
     "output_type": "execute_result"
    }
   ],
   "source": [
    "cast.iloc[3:5, 2:4]"
   ]
  },
  {
   "cell_type": "code",
   "execution_count": 15,
   "metadata": {},
   "outputs": [
    {
     "data": {
      "text/html": [
       "<div>\n",
       "<table border=\"1\" class=\"dataframe\">\n",
       "  <thead>\n",
       "    <tr style=\"text-align: right;\">\n",
       "      <th></th>\n",
       "      <th>name</th>\n",
       "      <th>type</th>\n",
       "    </tr>\n",
       "  </thead>\n",
       "  <tbody>\n",
       "    <tr>\n",
       "      <th>3</th>\n",
       "      <td>Diego James</td>\n",
       "      <td>actor</td>\n",
       "    </tr>\n",
       "    <tr>\n",
       "      <th>4</th>\n",
       "      <td>Fabien Loris</td>\n",
       "      <td>actor</td>\n",
       "    </tr>\n",
       "    <tr>\n",
       "      <th>5</th>\n",
       "      <td>Michel Salina</td>\n",
       "      <td>actor</td>\n",
       "    </tr>\n",
       "  </tbody>\n",
       "</table>\n",
       "</div>"
      ],
      "text/plain": [
       "            name   type\n",
       "3    Diego James  actor\n",
       "4   Fabien Loris  actor\n",
       "5  Michel Salina  actor"
      ]
     },
     "execution_count": 15,
     "metadata": {},
     "output_type": "execute_result"
    }
   ],
   "source": [
    "cast.loc[3:5, ['name','type']] #as the documentation will tell you, unlike most python ranges, the end point value is included here"
   ]
  },
  {
   "cell_type": "markdown",
   "metadata": {},
   "source": [
    "Now to get into some of the real power of pandas, we can filter rows in many complex ways.\n",
    "\n",
    "It is useful to understand what is going on. The filtering is done by passing a Boolean Series to the DataFrame. This Boolean Series can be generated by applying operations to other Series in the DataFrame and can be combined in many ways. In particular:\n",
    "* AND is given by &\n",
    "* OR is given by |\n",
    "* NOT is given by ~\n",
    "\n",
    "Parentheses are quite important as these operators take precedence. A > 1 & B > 2 will be parsed as A > (1 & B) > 2 which will fail."
   ]
  },
  {
   "cell_type": "code",
   "execution_count": 16,
   "metadata": {},
   "outputs": [
    {
     "data": {
      "text/plain": [
       "0    False\n",
       "1    False\n",
       "2    False\n",
       "3    False\n",
       "4    False\n",
       "Name: year, dtype: bool"
      ]
     },
     "execution_count": 16,
     "metadata": {},
     "output_type": "execute_result"
    }
   ],
   "source": [
    "( cast.year > 2014 ).head() #this is the Boolean Series created by the criteria below"
   ]
  },
  {
   "cell_type": "code",
   "execution_count": 17,
   "metadata": {},
   "outputs": [
    {
     "data": {
      "text/html": [
       "<div>\n",
       "<table border=\"1\" class=\"dataframe\">\n",
       "  <thead>\n",
       "    <tr style=\"text-align: right;\">\n",
       "      <th></th>\n",
       "      <th>title</th>\n",
       "      <th>year</th>\n",
       "      <th>name</th>\n",
       "      <th>type</th>\n",
       "      <th>character</th>\n",
       "      <th>n</th>\n",
       "    </tr>\n",
       "  </thead>\n",
       "  <tbody>\n",
       "    <tr>\n",
       "      <th>7</th>\n",
       "      <td>You Didn't Know</td>\n",
       "      <td>2014</td>\n",
       "      <td>Tony Smith (LXXVI)</td>\n",
       "      <td>actor</td>\n",
       "      <td>Dago</td>\n",
       "      <td>NaN</td>\n",
       "    </tr>\n",
       "    <tr>\n",
       "      <th>31</th>\n",
       "      <td>A Horse Story</td>\n",
       "      <td>2015</td>\n",
       "      <td>Josh Kopell</td>\n",
       "      <td>actor</td>\n",
       "      <td>Billy Wells</td>\n",
       "      <td>NaN</td>\n",
       "    </tr>\n",
       "    <tr>\n",
       "      <th>35</th>\n",
       "      <td>Northmen - A Viking Saga</td>\n",
       "      <td>2014</td>\n",
       "      <td>Johan Hegg</td>\n",
       "      <td>actor</td>\n",
       "      <td>Valli</td>\n",
       "      <td>NaN</td>\n",
       "    </tr>\n",
       "    <tr>\n",
       "      <th>48</th>\n",
       "      <td>Karthikeya</td>\n",
       "      <td>2014</td>\n",
       "      <td>Swathi Reddy</td>\n",
       "      <td>actress</td>\n",
       "      <td>Valli</td>\n",
       "      <td>NaN</td>\n",
       "    </tr>\n",
       "    <tr>\n",
       "      <th>49</th>\n",
       "      <td>Sathuranga Vettai</td>\n",
       "      <td>2014</td>\n",
       "      <td>Senthi</td>\n",
       "      <td>actress</td>\n",
       "      <td>Valli</td>\n",
       "      <td>9.0</td>\n",
       "    </tr>\n",
       "    <tr>\n",
       "      <th>77</th>\n",
       "      <td>Brotherhood</td>\n",
       "      <td>2014</td>\n",
       "      <td>John D. Green Sr.</td>\n",
       "      <td>actor</td>\n",
       "      <td>Blade</td>\n",
       "      <td>NaN</td>\n",
       "    </tr>\n",
       "    <tr>\n",
       "      <th>86</th>\n",
       "      <td>Random</td>\n",
       "      <td>2014</td>\n",
       "      <td>Mike Lepera</td>\n",
       "      <td>actor</td>\n",
       "      <td>Blade</td>\n",
       "      <td>NaN</td>\n",
       "    </tr>\n",
       "    <tr>\n",
       "      <th>95</th>\n",
       "      <td>The Chemist</td>\n",
       "      <td>2015</td>\n",
       "      <td>Sasha Mitchell</td>\n",
       "      <td>actor</td>\n",
       "      <td>Blade</td>\n",
       "      <td>NaN</td>\n",
       "    </tr>\n",
       "    <tr>\n",
       "      <th>122</th>\n",
       "      <td>Finding Oblivion</td>\n",
       "      <td>2014</td>\n",
       "      <td>Tyanna Bone</td>\n",
       "      <td>actress</td>\n",
       "      <td>Blade</td>\n",
       "      <td>67.0</td>\n",
       "    </tr>\n",
       "    <tr>\n",
       "      <th>131</th>\n",
       "      <td>Sannhetens løgn</td>\n",
       "      <td>2015</td>\n",
       "      <td>Daniel Bratteli</td>\n",
       "      <td>actor</td>\n",
       "      <td>Morten</td>\n",
       "      <td>NaN</td>\n",
       "    </tr>\n",
       "  </tbody>\n",
       "</table>\n",
       "</div>"
      ],
      "text/plain": [
       "                        title  year                name     type    character  \\\n",
       "7             You Didn't Know  2014  Tony Smith (LXXVI)    actor         Dago   \n",
       "31              A Horse Story  2015         Josh Kopell    actor  Billy Wells   \n",
       "35   Northmen - A Viking Saga  2014          Johan Hegg    actor        Valli   \n",
       "48                 Karthikeya  2014        Swathi Reddy  actress        Valli   \n",
       "49          Sathuranga Vettai  2014              Senthi  actress        Valli   \n",
       "77                Brotherhood  2014   John D. Green Sr.    actor        Blade   \n",
       "86                     Random  2014         Mike Lepera    actor        Blade   \n",
       "95                The Chemist  2015      Sasha Mitchell    actor        Blade   \n",
       "122          Finding Oblivion  2014         Tyanna Bone  actress        Blade   \n",
       "131           Sannhetens løgn  2015     Daniel Bratteli    actor       Morten   \n",
       "\n",
       "        n  \n",
       "7     NaN  \n",
       "31    NaN  \n",
       "35    NaN  \n",
       "48    NaN  \n",
       "49    9.0  \n",
       "77    NaN  \n",
       "86    NaN  \n",
       "95    NaN  \n",
       "122  67.0  \n",
       "131   NaN  "
      ]
     },
     "execution_count": 17,
     "metadata": {},
     "output_type": "execute_result"
    }
   ],
   "source": [
    "cast[cast.year >= 2014].head(10)"
   ]
  },
  {
   "cell_type": "code",
   "execution_count": 18,
   "metadata": {},
   "outputs": [
    {
     "data": {
      "text/html": [
       "<div>\n",
       "<table border=\"1\" class=\"dataframe\">\n",
       "  <thead>\n",
       "    <tr style=\"text-align: right;\">\n",
       "      <th></th>\n",
       "      <th>title</th>\n",
       "      <th>year</th>\n",
       "      <th>name</th>\n",
       "      <th>type</th>\n",
       "      <th>character</th>\n",
       "      <th>n</th>\n",
       "    </tr>\n",
       "  </thead>\n",
       "  <tbody>\n",
       "    <tr>\n",
       "      <th>48</th>\n",
       "      <td>Karthikeya</td>\n",
       "      <td>2014</td>\n",
       "      <td>Swathi Reddy</td>\n",
       "      <td>actress</td>\n",
       "      <td>Valli</td>\n",
       "      <td>NaN</td>\n",
       "    </tr>\n",
       "    <tr>\n",
       "      <th>49</th>\n",
       "      <td>Sathuranga Vettai</td>\n",
       "      <td>2014</td>\n",
       "      <td>Senthi</td>\n",
       "      <td>actress</td>\n",
       "      <td>Valli</td>\n",
       "      <td>9.0</td>\n",
       "    </tr>\n",
       "    <tr>\n",
       "      <th>122</th>\n",
       "      <td>Finding Oblivion</td>\n",
       "      <td>2014</td>\n",
       "      <td>Tyanna Bone</td>\n",
       "      <td>actress</td>\n",
       "      <td>Blade</td>\n",
       "      <td>67.0</td>\n",
       "    </tr>\n",
       "    <tr>\n",
       "      <th>1723</th>\n",
       "      <td>KILD TV</td>\n",
       "      <td>2015</td>\n",
       "      <td>Haley Hussey</td>\n",
       "      <td>actress</td>\n",
       "      <td>Harvey</td>\n",
       "      <td>16.0</td>\n",
       "    </tr>\n",
       "    <tr>\n",
       "      <th>1724</th>\n",
       "      <td>Bee Sting</td>\n",
       "      <td>2014</td>\n",
       "      <td>Diva Nelson</td>\n",
       "      <td>actress</td>\n",
       "      <td>Harvey</td>\n",
       "      <td>5.0</td>\n",
       "    </tr>\n",
       "    <tr>\n",
       "      <th>1929</th>\n",
       "      <td>Q-4: Dream Corporation</td>\n",
       "      <td>2015</td>\n",
       "      <td>Erin Maxwell Albert</td>\n",
       "      <td>actress</td>\n",
       "      <td>Indigo</td>\n",
       "      <td>NaN</td>\n",
       "    </tr>\n",
       "    <tr>\n",
       "      <th>1930</th>\n",
       "      <td>Mr. Blue Shirt: The Inspiration</td>\n",
       "      <td>2015</td>\n",
       "      <td>Katherine Grant (V)</td>\n",
       "      <td>actress</td>\n",
       "      <td>Indigo</td>\n",
       "      <td>NaN</td>\n",
       "    </tr>\n",
       "    <tr>\n",
       "      <th>1935</th>\n",
       "      <td>Dream in Indigo</td>\n",
       "      <td>2016</td>\n",
       "      <td>Shoniqua Shandai</td>\n",
       "      <td>actress</td>\n",
       "      <td>Indigo</td>\n",
       "      <td>NaN</td>\n",
       "    </tr>\n",
       "    <tr>\n",
       "      <th>2020</th>\n",
       "      <td>The Tailor of Autumn</td>\n",
       "      <td>2015</td>\n",
       "      <td>Heidi Yardley</td>\n",
       "      <td>actress</td>\n",
       "      <td>Oberon</td>\n",
       "      <td>NaN</td>\n",
       "    </tr>\n",
       "    <tr>\n",
       "      <th>2137</th>\n",
       "      <td>Ch/B</td>\n",
       "      <td>2014</td>\n",
       "      <td>Olga Dibtseva</td>\n",
       "      <td>actress</td>\n",
       "      <td>Correspondent</td>\n",
       "      <td>NaN</td>\n",
       "    </tr>\n",
       "  </tbody>\n",
       "</table>\n",
       "</div>"
      ],
      "text/plain": [
       "                                title  year                 name     type  \\\n",
       "48                         Karthikeya  2014         Swathi Reddy  actress   \n",
       "49                  Sathuranga Vettai  2014               Senthi  actress   \n",
       "122                  Finding Oblivion  2014          Tyanna Bone  actress   \n",
       "1723                          KILD TV  2015         Haley Hussey  actress   \n",
       "1724                        Bee Sting  2014          Diva Nelson  actress   \n",
       "1929           Q-4: Dream Corporation  2015  Erin Maxwell Albert  actress   \n",
       "1930  Mr. Blue Shirt: The Inspiration  2015  Katherine Grant (V)  actress   \n",
       "1935                  Dream in Indigo  2016     Shoniqua Shandai  actress   \n",
       "2020             The Tailor of Autumn  2015        Heidi Yardley  actress   \n",
       "2137                             Ch/B  2014        Olga Dibtseva  actress   \n",
       "\n",
       "          character     n  \n",
       "48            Valli   NaN  \n",
       "49            Valli   9.0  \n",
       "122           Blade  67.0  \n",
       "1723         Harvey  16.0  \n",
       "1724         Harvey   5.0  \n",
       "1929         Indigo   NaN  \n",
       "1930         Indigo   NaN  \n",
       "1935         Indigo   NaN  \n",
       "2020         Oberon   NaN  \n",
       "2137  Correspondent   NaN  "
      ]
     },
     "execution_count": 18,
     "metadata": {},
     "output_type": "execute_result"
    }
   ],
   "source": [
    "cast[(cast.year >= 2014) & (cast.type == 'actress') & ~(cast.character == 'Orderly')].head(10)"
   ]
  },
  {
   "cell_type": "markdown",
   "metadata": {},
   "source": [
    "Generally, an Boolean Series or list that is the same length as the DataFrame (i.e. len(boolean_series) == df.shape[0]) can be passed as a filter. "
   ]
  },
  {
   "cell_type": "markdown",
   "metadata": {},
   "source": [
    "It is also possible to assign values based on filtering. Just like before, we use a Boolean Series to select rows and, usually, select a column and assign a replacement value.\n",
    "\n",
    "The replacement value need not be constant, as long as it is the same size of the data it is replacing. \n",
    "\n",
    "This is similar to an UPDATE statement in SQL."
   ]
  },
  {
   "cell_type": "code",
   "execution_count": 19,
   "metadata": {},
   "outputs": [],
   "source": [
    "myfilter = (cast.year == 2014)\n",
    "cast.loc[myfilter, 'year'] = 2014 #won't actually change the data in this case"
   ]
  },
  {
   "cell_type": "code",
   "execution_count": 20,
   "metadata": {
    "collapsed": true
   },
   "outputs": [],
   "source": [
    "cast.loc[myfilter, 'title'] = cast.title[myfilter] #again, won't change the data in this case"
   ]
  },
  {
   "cell_type": "markdown",
   "metadata": {},
   "source": [
    "## Sorting and Dropping and Filling\n",
    "\n",
    "Here are some common miscellaneous opertions that can be performed on a DataFrame.\n",
    "\n",
    "We can first drop rows or columns, using the drop function. Notice the \"axis\" command, which is common in pandas. Many functions can operation on either rows or columns, and axis=0 and axis=1 specify these, respectively. axis=0 is the default and if we had not specified the axis, the command would have failed as there are no rows with an index value of 'title'."
   ]
  },
  {
   "cell_type": "code",
   "execution_count": 21,
   "metadata": {},
   "outputs": [
    {
     "data": {
      "text/html": [
       "<div>\n",
       "<table border=\"1\" class=\"dataframe\">\n",
       "  <thead>\n",
       "    <tr style=\"text-align: right;\">\n",
       "      <th></th>\n",
       "      <th>year</th>\n",
       "      <th>type</th>\n",
       "      <th>character</th>\n",
       "      <th>n</th>\n",
       "    </tr>\n",
       "  </thead>\n",
       "  <tbody>\n",
       "    <tr>\n",
       "      <th>0</th>\n",
       "      <td>2003</td>\n",
       "      <td>actor</td>\n",
       "      <td>U.S.S. Soldier</td>\n",
       "      <td>NaN</td>\n",
       "    </tr>\n",
       "    <tr>\n",
       "      <th>1</th>\n",
       "      <td>1968</td>\n",
       "      <td>actor</td>\n",
       "      <td>Dago</td>\n",
       "      <td>9.0</td>\n",
       "    </tr>\n",
       "    <tr>\n",
       "      <th>2</th>\n",
       "      <td>1921</td>\n",
       "      <td>actor</td>\n",
       "      <td>Dago</td>\n",
       "      <td>4.0</td>\n",
       "    </tr>\n",
       "    <tr>\n",
       "      <th>3</th>\n",
       "      <td>2012</td>\n",
       "      <td>actor</td>\n",
       "      <td>Dago</td>\n",
       "      <td>NaN</td>\n",
       "    </tr>\n",
       "    <tr>\n",
       "      <th>4</th>\n",
       "      <td>1950</td>\n",
       "      <td>actor</td>\n",
       "      <td>Dago</td>\n",
       "      <td>12.0</td>\n",
       "    </tr>\n",
       "  </tbody>\n",
       "</table>\n",
       "</div>"
      ],
      "text/plain": [
       "   year   type       character     n\n",
       "0  2003  actor  U.S.S. Soldier   NaN\n",
       "1  1968  actor            Dago   9.0\n",
       "2  1921  actor            Dago   4.0\n",
       "3  2012  actor            Dago   NaN\n",
       "4  1950  actor            Dago  12.0"
      ]
     },
     "execution_count": 21,
     "metadata": {},
     "output_type": "execute_result"
    }
   ],
   "source": [
    "cast.drop(['title', 'name'], axis=1).head(5)"
   ]
  },
  {
   "cell_type": "markdown",
   "metadata": {},
   "source": [
    "Drop_duplicates will keep only unique rows, similar to a SELECT DISTINCT in SQL."
   ]
  },
  {
   "cell_type": "code",
   "execution_count": 22,
   "metadata": {},
   "outputs": [
    {
     "data": {
      "text/html": [
       "<div>\n",
       "<table border=\"1\" class=\"dataframe\">\n",
       "  <thead>\n",
       "    <tr style=\"text-align: right;\">\n",
       "      <th></th>\n",
       "      <th>year</th>\n",
       "    </tr>\n",
       "  </thead>\n",
       "  <tbody>\n",
       "    <tr>\n",
       "      <th>0</th>\n",
       "      <td>2003</td>\n",
       "    </tr>\n",
       "    <tr>\n",
       "      <th>1</th>\n",
       "      <td>1968</td>\n",
       "    </tr>\n",
       "    <tr>\n",
       "      <th>2</th>\n",
       "      <td>1921</td>\n",
       "    </tr>\n",
       "    <tr>\n",
       "      <th>3</th>\n",
       "      <td>2012</td>\n",
       "    </tr>\n",
       "    <tr>\n",
       "      <th>4</th>\n",
       "      <td>1950</td>\n",
       "    </tr>\n",
       "    <tr>\n",
       "      <th>5</th>\n",
       "      <td>1943</td>\n",
       "    </tr>\n",
       "    <tr>\n",
       "      <th>7</th>\n",
       "      <td>2014</td>\n",
       "    </tr>\n",
       "    <tr>\n",
       "      <th>8</th>\n",
       "      <td>1967</td>\n",
       "    </tr>\n",
       "    <tr>\n",
       "      <th>9</th>\n",
       "      <td>2004</td>\n",
       "    </tr>\n",
       "    <tr>\n",
       "      <th>10</th>\n",
       "      <td>1977</td>\n",
       "    </tr>\n",
       "  </tbody>\n",
       "</table>\n",
       "</div>"
      ],
      "text/plain": [
       "    year\n",
       "0   2003\n",
       "1   1968\n",
       "2   1921\n",
       "3   2012\n",
       "4   1950\n",
       "5   1943\n",
       "7   2014\n",
       "8   1967\n",
       "9   2004\n",
       "10  1977"
      ]
     },
     "execution_count": 22,
     "metadata": {},
     "output_type": "execute_result"
    }
   ],
   "source": [
    "cast[['year']].drop_duplicates().head(10)"
   ]
  },
  {
   "cell_type": "markdown",
   "metadata": {},
   "source": [
    "We can also sort on column values. The by argument indicated the columns and the ascending argument is a Boolean or binary list indicating whether each column should be sorted ascending. \n",
    "\n",
    "There is an additional argument inplace which, if set to True, will do the sorting in place (i.e. will not return a new DataFrame)"
   ]
  },
  {
   "cell_type": "code",
   "execution_count": 23,
   "metadata": {},
   "outputs": [
    {
     "data": {
      "text/html": [
       "<div>\n",
       "<table border=\"1\" class=\"dataframe\">\n",
       "  <thead>\n",
       "    <tr style=\"text-align: right;\">\n",
       "      <th></th>\n",
       "      <th>title</th>\n",
       "      <th>year</th>\n",
       "      <th>name</th>\n",
       "      <th>type</th>\n",
       "      <th>character</th>\n",
       "      <th>n</th>\n",
       "    </tr>\n",
       "  </thead>\n",
       "  <tbody>\n",
       "    <tr>\n",
       "      <th>244930</th>\n",
       "      <td>Miss Jerry</td>\n",
       "      <td>1894</td>\n",
       "      <td>William Courtenay</td>\n",
       "      <td>actor</td>\n",
       "      <td>Mr. Hamilton</td>\n",
       "      <td>NaN</td>\n",
       "    </tr>\n",
       "    <tr>\n",
       "      <th>2151447</th>\n",
       "      <td>Miss Jerry</td>\n",
       "      <td>1894</td>\n",
       "      <td>Chauncey Depew</td>\n",
       "      <td>actor</td>\n",
       "      <td>Himself - the Director of the New York Central...</td>\n",
       "      <td>NaN</td>\n",
       "    </tr>\n",
       "    <tr>\n",
       "      <th>3189637</th>\n",
       "      <td>Miss Jerry</td>\n",
       "      <td>1894</td>\n",
       "      <td>Blanche Bayliss</td>\n",
       "      <td>actress</td>\n",
       "      <td>Miss Geraldine Holbrook</td>\n",
       "      <td>NaN</td>\n",
       "    </tr>\n",
       "    <tr>\n",
       "      <th>498817</th>\n",
       "      <td>Can Can</td>\n",
       "      <td>1898</td>\n",
       "      <td>Mlle. Fraidora</td>\n",
       "      <td>actress</td>\n",
       "      <td>Herself</td>\n",
       "      <td>NaN</td>\n",
       "    </tr>\n",
       "    <tr>\n",
       "      <th>1087425</th>\n",
       "      <td>Jeffries-Sharkey Contest</td>\n",
       "      <td>1899</td>\n",
       "      <td>William A. Brady</td>\n",
       "      <td>actor</td>\n",
       "      <td>Himself</td>\n",
       "      <td>NaN</td>\n",
       "    </tr>\n",
       "  </tbody>\n",
       "</table>\n",
       "</div>"
      ],
      "text/plain": [
       "                            title  year               name     type  \\\n",
       "244930                 Miss Jerry  1894  William Courtenay    actor   \n",
       "2151447                Miss Jerry  1894     Chauncey Depew    actor   \n",
       "3189637                Miss Jerry  1894    Blanche Bayliss  actress   \n",
       "498817                    Can Can  1898     Mlle. Fraidora  actress   \n",
       "1087425  Jeffries-Sharkey Contest  1899   William A. Brady    actor   \n",
       "\n",
       "                                                 character   n  \n",
       "244930                                        Mr. Hamilton NaN  \n",
       "2151447  Himself - the Director of the New York Central... NaN  \n",
       "3189637                            Miss Geraldine Holbrook NaN  \n",
       "498817                                             Herself NaN  \n",
       "1087425                                            Himself NaN  "
      ]
     },
     "execution_count": 23,
     "metadata": {},
     "output_type": "execute_result"
    }
   ],
   "source": [
    "cast.sort_values(by = ['year', 'title'], ascending = [1, 0]).head()"
   ]
  },
  {
   "cell_type": "markdown",
   "metadata": {},
   "source": [
    "A very useful function is fillna which will replace all missing values with a specified value."
   ]
  },
  {
   "cell_type": "code",
   "execution_count": 24,
   "metadata": {},
   "outputs": [
    {
     "data": {
      "text/html": [
       "<div>\n",
       "<table border=\"1\" class=\"dataframe\">\n",
       "  <thead>\n",
       "    <tr style=\"text-align: right;\">\n",
       "      <th></th>\n",
       "      <th>title</th>\n",
       "      <th>year</th>\n",
       "      <th>name</th>\n",
       "      <th>type</th>\n",
       "      <th>character</th>\n",
       "      <th>n</th>\n",
       "    </tr>\n",
       "  </thead>\n",
       "  <tbody>\n",
       "    <tr>\n",
       "      <th>0</th>\n",
       "      <td>The Core</td>\n",
       "      <td>2003</td>\n",
       "      <td>Alejandro Abellan</td>\n",
       "      <td>actor</td>\n",
       "      <td>U.S.S. Soldier</td>\n",
       "      <td>-1.0</td>\n",
       "    </tr>\n",
       "    <tr>\n",
       "      <th>1</th>\n",
       "      <td>Il momento di uccidere</td>\n",
       "      <td>1968</td>\n",
       "      <td>Remo De Angelis</td>\n",
       "      <td>actor</td>\n",
       "      <td>Dago</td>\n",
       "      <td>9.0</td>\n",
       "    </tr>\n",
       "    <tr>\n",
       "      <th>2</th>\n",
       "      <td>Across the Divide</td>\n",
       "      <td>1921</td>\n",
       "      <td>Thomas Delmar</td>\n",
       "      <td>actor</td>\n",
       "      <td>Dago</td>\n",
       "      <td>4.0</td>\n",
       "    </tr>\n",
       "    <tr>\n",
       "      <th>3</th>\n",
       "      <td>Revan</td>\n",
       "      <td>2012</td>\n",
       "      <td>Diego James</td>\n",
       "      <td>actor</td>\n",
       "      <td>Dago</td>\n",
       "      <td>-1.0</td>\n",
       "    </tr>\n",
       "    <tr>\n",
       "      <th>4</th>\n",
       "      <td>Un homme marche dans la ville</td>\n",
       "      <td>1950</td>\n",
       "      <td>Fabien Loris</td>\n",
       "      <td>actor</td>\n",
       "      <td>Dago</td>\n",
       "      <td>12.0</td>\n",
       "    </tr>\n",
       "  </tbody>\n",
       "</table>\n",
       "</div>"
      ],
      "text/plain": [
       "                           title  year               name   type  \\\n",
       "0                       The Core  2003  Alejandro Abellan  actor   \n",
       "1         Il momento di uccidere  1968    Remo De Angelis  actor   \n",
       "2              Across the Divide  1921      Thomas Delmar  actor   \n",
       "3                          Revan  2012        Diego James  actor   \n",
       "4  Un homme marche dans la ville  1950       Fabien Loris  actor   \n",
       "\n",
       "        character     n  \n",
       "0  U.S.S. Soldier  -1.0  \n",
       "1            Dago   9.0  \n",
       "2            Dago   4.0  \n",
       "3            Dago  -1.0  \n",
       "4            Dago  12.0  "
      ]
     },
     "execution_count": 24,
     "metadata": {},
     "output_type": "execute_result"
    }
   ],
   "source": [
    "cast.fillna(-1).head()"
   ]
  },
  {
   "cell_type": "markdown",
   "metadata": {},
   "source": [
    "This is similar to filtering and setting with pd.isnull which returns a Boolean series indicating whether values are missing."
   ]
  },
  {
   "cell_type": "code",
   "execution_count": 25,
   "metadata": {},
   "outputs": [
    {
     "data": {
      "text/html": [
       "<div>\n",
       "<table border=\"1\" class=\"dataframe\">\n",
       "  <thead>\n",
       "    <tr style=\"text-align: right;\">\n",
       "      <th></th>\n",
       "      <th>title</th>\n",
       "      <th>year</th>\n",
       "      <th>name</th>\n",
       "      <th>type</th>\n",
       "      <th>character</th>\n",
       "      <th>n</th>\n",
       "    </tr>\n",
       "  </thead>\n",
       "  <tbody>\n",
       "    <tr>\n",
       "      <th>0</th>\n",
       "      <td>The Core</td>\n",
       "      <td>2003</td>\n",
       "      <td>Alejandro Abellan</td>\n",
       "      <td>actor</td>\n",
       "      <td>U.S.S. Soldier</td>\n",
       "      <td>-1.0</td>\n",
       "    </tr>\n",
       "    <tr>\n",
       "      <th>1</th>\n",
       "      <td>Il momento di uccidere</td>\n",
       "      <td>1968</td>\n",
       "      <td>Remo De Angelis</td>\n",
       "      <td>actor</td>\n",
       "      <td>Dago</td>\n",
       "      <td>9.0</td>\n",
       "    </tr>\n",
       "    <tr>\n",
       "      <th>2</th>\n",
       "      <td>Across the Divide</td>\n",
       "      <td>1921</td>\n",
       "      <td>Thomas Delmar</td>\n",
       "      <td>actor</td>\n",
       "      <td>Dago</td>\n",
       "      <td>4.0</td>\n",
       "    </tr>\n",
       "    <tr>\n",
       "      <th>3</th>\n",
       "      <td>Revan</td>\n",
       "      <td>2012</td>\n",
       "      <td>Diego James</td>\n",
       "      <td>actor</td>\n",
       "      <td>Dago</td>\n",
       "      <td>-1.0</td>\n",
       "    </tr>\n",
       "    <tr>\n",
       "      <th>4</th>\n",
       "      <td>Un homme marche dans la ville</td>\n",
       "      <td>1950</td>\n",
       "      <td>Fabien Loris</td>\n",
       "      <td>actor</td>\n",
       "      <td>Dago</td>\n",
       "      <td>12.0</td>\n",
       "    </tr>\n",
       "  </tbody>\n",
       "</table>\n",
       "</div>"
      ],
      "text/plain": [
       "                           title  year               name   type  \\\n",
       "0                       The Core  2003  Alejandro Abellan  actor   \n",
       "1         Il momento di uccidere  1968    Remo De Angelis  actor   \n",
       "2              Across the Divide  1921      Thomas Delmar  actor   \n",
       "3                          Revan  2012        Diego James  actor   \n",
       "4  Un homme marche dans la ville  1950       Fabien Loris  actor   \n",
       "\n",
       "        character     n  \n",
       "0  U.S.S. Soldier  -1.0  \n",
       "1            Dago   9.0  \n",
       "2            Dago   4.0  \n",
       "3            Dago  -1.0  \n",
       "4            Dago  12.0  "
      ]
     },
     "execution_count": 25,
     "metadata": {},
     "output_type": "execute_result"
    }
   ],
   "source": [
    "cast.loc[pd.isnull(cast.n),['n']] = -1\n",
    "cast.head(5)"
   ]
  },
  {
   "cell_type": "markdown",
   "metadata": {},
   "source": [
    "## Information and Summarization \n",
    "\n",
    "There are two easy ways we can learn about a DataFrame:\n",
    "* attributes - called by df.attribute which gives information about the DataFrame\n",
    "* functions - called by df.function() which applies functions over the columns of a DataFrame. Or we can apply the function to a particular Series, df.column_name.function()\n",
    "\n"
   ]
  },
  {
   "cell_type": "code",
   "execution_count": 26,
   "metadata": {},
   "outputs": [
    {
     "data": {
      "text/plain": [
       "Index(['title', 'year', 'name', 'type', 'character', 'n'], dtype='object')"
      ]
     },
     "execution_count": 26,
     "metadata": {},
     "output_type": "execute_result"
    }
   ],
   "source": [
    "cast.columns"
   ]
  },
  {
   "cell_type": "code",
   "execution_count": 27,
   "metadata": {},
   "outputs": [
    {
     "name": "stdout",
     "output_type": "stream",
     "text": [
      "<class 'pandas.core.frame.DataFrame'>\n",
      "RangeIndex: 3768347 entries, 0 to 3768346\n",
      "Data columns (total 6 columns):\n",
      "title        object\n",
      "year         int64\n",
      "name         object\n",
      "type         object\n",
      "character    object\n",
      "n            float64\n",
      "dtypes: float64(1), int64(1), object(4)\n",
      "memory usage: 172.5+ MB\n"
     ]
    }
   ],
   "source": [
    "cast.info()"
   ]
  },
  {
   "cell_type": "code",
   "execution_count": 28,
   "metadata": {},
   "outputs": [
    {
     "data": {
      "text/plain": [
       "title        3768347\n",
       "year         3768347\n",
       "name         3768347\n",
       "type         3768347\n",
       "character    3768347\n",
       "n            3768347\n",
       "dtype: int64"
      ]
     },
     "execution_count": 28,
     "metadata": {},
     "output_type": "execute_result"
    }
   ],
   "source": [
    "cast.count()"
   ]
  },
  {
   "cell_type": "code",
   "execution_count": 29,
   "metadata": {},
   "outputs": [
    {
     "data": {
      "text/plain": [
       "title                    #5\n",
       "year                   1894\n",
       "name         !Mystery Girl!\n",
       "type                  actor\n",
       "character           !Nanseb\n",
       "n                        -1\n",
       "dtype: object"
      ]
     },
     "execution_count": 29,
     "metadata": {},
     "output_type": "execute_result"
    }
   ],
   "source": [
    "cast.min()"
   ]
  },
  {
   "cell_type": "code",
   "execution_count": 30,
   "metadata": {},
   "outputs": [
    {
     "data": {
      "text/plain": [
       "title        è solo questione di tempo\n",
       "year                              2021\n",
       "name                   Þórður Ólafsson\n",
       "type                           actress\n",
       "character                    üzletkötõ\n",
       "n                                33613\n",
       "dtype: object"
      ]
     },
     "execution_count": 30,
     "metadata": {},
     "output_type": "execute_result"
    }
   ],
   "source": [
    "cast.max()"
   ]
  },
  {
   "cell_type": "code",
   "execution_count": 31,
   "metadata": {},
   "outputs": [
    {
     "data": {
      "text/plain": [
       "36224442.0"
      ]
     },
     "execution_count": 31,
     "metadata": {},
     "output_type": "execute_result"
    }
   ],
   "source": [
    "cast.n.sum()"
   ]
  },
  {
   "cell_type": "code",
   "execution_count": 32,
   "metadata": {},
   "outputs": [
    {
     "data": {
      "text/plain": [
       "1984.7142383649914"
      ]
     },
     "execution_count": 32,
     "metadata": {},
     "output_type": "execute_result"
    }
   ],
   "source": [
    "cast.year.mean()"
   ]
  },
  {
   "cell_type": "code",
   "execution_count": 33,
   "metadata": {},
   "outputs": [
    {
     "data": {
      "text/plain": [
       "1995.0"
      ]
     },
     "execution_count": 33,
     "metadata": {},
     "output_type": "execute_result"
    }
   ],
   "source": [
    "cast.year.median()"
   ]
  },
  {
   "cell_type": "code",
   "execution_count": 34,
   "metadata": {},
   "outputs": [
    {
     "data": {
      "text/plain": [
       "0    2014\n",
       "dtype: int64"
      ]
     },
     "execution_count": 34,
     "metadata": {},
     "output_type": "execute_result"
    }
   ],
   "source": [
    "cast.year.mode()"
   ]
  },
  {
   "cell_type": "code",
   "execution_count": 35,
   "metadata": {},
   "outputs": [
    {
     "data": {
      "text/html": [
       "<div>\n",
       "<table border=\"1\" class=\"dataframe\">\n",
       "  <thead>\n",
       "    <tr style=\"text-align: right;\">\n",
       "      <th></th>\n",
       "      <th>year</th>\n",
       "      <th>n</th>\n",
       "    </tr>\n",
       "  </thead>\n",
       "  <tbody>\n",
       "    <tr>\n",
       "      <th>count</th>\n",
       "      <td>3.768347e+06</td>\n",
       "      <td>3.768347e+06</td>\n",
       "    </tr>\n",
       "    <tr>\n",
       "      <th>mean</th>\n",
       "      <td>1.984714e+03</td>\n",
       "      <td>9.612820e+00</td>\n",
       "    </tr>\n",
       "    <tr>\n",
       "      <th>std</th>\n",
       "      <td>2.808852e+01</td>\n",
       "      <td>2.518619e+01</td>\n",
       "    </tr>\n",
       "    <tr>\n",
       "      <th>min</th>\n",
       "      <td>1.894000e+03</td>\n",
       "      <td>-1.000000e+00</td>\n",
       "    </tr>\n",
       "    <tr>\n",
       "      <th>25%</th>\n",
       "      <td>1.963000e+03</td>\n",
       "      <td>-1.000000e+00</td>\n",
       "    </tr>\n",
       "    <tr>\n",
       "      <th>50%</th>\n",
       "      <td>1.995000e+03</td>\n",
       "      <td>4.000000e+00</td>\n",
       "    </tr>\n",
       "    <tr>\n",
       "      <th>75%</th>\n",
       "      <td>2.009000e+03</td>\n",
       "      <td>1.300000e+01</td>\n",
       "    </tr>\n",
       "    <tr>\n",
       "      <th>max</th>\n",
       "      <td>2.021000e+03</td>\n",
       "      <td>3.361300e+04</td>\n",
       "    </tr>\n",
       "  </tbody>\n",
       "</table>\n",
       "</div>"
      ],
      "text/plain": [
       "               year             n\n",
       "count  3.768347e+06  3.768347e+06\n",
       "mean   1.984714e+03  9.612820e+00\n",
       "std    2.808852e+01  2.518619e+01\n",
       "min    1.894000e+03 -1.000000e+00\n",
       "25%    1.963000e+03 -1.000000e+00\n",
       "50%    1.995000e+03  4.000000e+00\n",
       "75%    2.009000e+03  1.300000e+01\n",
       "max    2.021000e+03  3.361300e+04"
      ]
     },
     "execution_count": 35,
     "metadata": {},
     "output_type": "execute_result"
    }
   ],
   "source": [
    "cast.describe()"
   ]
  },
  {
   "cell_type": "markdown",
   "metadata": {},
   "source": [
    "## Grouping\n",
    "\n",
    "It is often useful to perform the above operations but to subsets of the data. For example, we might want to know the statistics of 'year' based on the actor/actress split. \n",
    "\n",
    "This is done in pandas using first using groupby. This produces a groupby object that can be treated similarly to a DataFrame, such as by selecting columns and applying functions to them. The computation is done by group. \n",
    "\n",
    "The result we get from the operation will have the grouped columns as index and the calculated values as columns of a DataFrame. If there is only one calculated value the result will be a Series. We can use reset_index() to bring the index back as columns. \n",
    "\n",
    "Of course, this is similar to GROUP BY in SQL."
   ]
  },
  {
   "cell_type": "code",
   "execution_count": 36,
   "metadata": {},
   "outputs": [
    {
     "data": {
      "text/plain": [
       "type\n",
       "actor      1993\n",
       "actress    1998\n",
       "Name: year, dtype: int64"
      ]
     },
     "execution_count": 36,
     "metadata": {},
     "output_type": "execute_result"
    }
   ],
   "source": [
    "cast.groupby('type')['year'].median()"
   ]
  },
  {
   "cell_type": "code",
   "execution_count": 37,
   "metadata": {},
   "outputs": [
    {
     "data": {
      "text/html": [
       "<div>\n",
       "<table border=\"1\" class=\"dataframe\">\n",
       "  <thead>\n",
       "    <tr style=\"text-align: right;\">\n",
       "      <th></th>\n",
       "      <th>type</th>\n",
       "      <th>year</th>\n",
       "    </tr>\n",
       "  </thead>\n",
       "  <tbody>\n",
       "    <tr>\n",
       "      <th>0</th>\n",
       "      <td>actor</td>\n",
       "      <td>1993</td>\n",
       "    </tr>\n",
       "    <tr>\n",
       "      <th>1</th>\n",
       "      <td>actress</td>\n",
       "      <td>1998</td>\n",
       "    </tr>\n",
       "  </tbody>\n",
       "</table>\n",
       "</div>"
      ],
      "text/plain": [
       "      type  year\n",
       "0    actor  1993\n",
       "1  actress  1998"
      ]
     },
     "execution_count": 37,
     "metadata": {},
     "output_type": "execute_result"
    }
   ],
   "source": [
    "cast.groupby('type')['year'].median().reset_index()"
   ]
  },
  {
   "cell_type": "code",
   "execution_count": 38,
   "metadata": {},
   "outputs": [
    {
     "data": {
      "text/plain": [
       "name\n",
       "Bess Flowers       807\n",
       "Herman Hack        663\n",
       "Sam Harris (II)    621\n",
       "Lee Phelps         612\n",
       "Frank O'Connor     600\n",
       "Harold Miller      572\n",
       "Tom London         563\n",
       "Frank Ellis        539\n",
       "Larry Steers       535\n",
       "Franklyn Farnum    531\n",
       "dtype: int64"
      ]
     },
     "execution_count": 38,
     "metadata": {},
     "output_type": "execute_result"
    }
   ],
   "source": [
    "cast.groupby('name').size().sort_values(ascending=0).head(10) #count number of records per actor and sort; note we are sorting a Series so don't specify a column"
   ]
  },
  {
   "cell_type": "markdown",
   "metadata": {},
   "source": [
    "We can also write our own custom functions. lambda functions are incredibly useful here. "
   ]
  },
  {
   "cell_type": "code",
   "execution_count": 39,
   "metadata": {},
   "outputs": [
    {
     "data": {
      "text/html": [
       "<div>\n",
       "<table border=\"1\" class=\"dataframe\">\n",
       "  <thead>\n",
       "    <tr style=\"text-align: right;\">\n",
       "      <th></th>\n",
       "      <th>min_year_no_1800</th>\n",
       "    </tr>\n",
       "    <tr>\n",
       "      <th>type</th>\n",
       "      <th></th>\n",
       "    </tr>\n",
       "  </thead>\n",
       "  <tbody>\n",
       "    <tr>\n",
       "      <th>actor</th>\n",
       "      <td>1900</td>\n",
       "    </tr>\n",
       "    <tr>\n",
       "      <th>actress</th>\n",
       "      <td>1905</td>\n",
       "    </tr>\n",
       "  </tbody>\n",
       "</table>\n",
       "</div>"
      ],
      "text/plain": [
       "         min_year_no_1800\n",
       "type                     \n",
       "actor                1900\n",
       "actress              1905"
      ]
     },
     "execution_count": 39,
     "metadata": {},
     "output_type": "execute_result"
    }
   ],
   "source": [
    "cast.groupby('type').year.agg({'min_year_no_1800': lambda x: min([a for a in x if a >=1900])}) "
   ]
  },
  {
   "cell_type": "markdown",
   "metadata": {},
   "source": [
    "## String and Date Operations\n",
    "\n",
    "There are two sets of perations that are useful when columns are strings or dates:\n",
    "* df.string_column.str.\\* which are functions to call on the string\n",
    "* df.date_column.dt.\\* which are attributes of the date that can be accessed\n",
    "\n",
    "We will read in data with some date info to demonstrate these."
   ]
  },
  {
   "cell_type": "code",
   "execution_count": 40,
   "metadata": {},
   "outputs": [
    {
     "data": {
      "text/html": [
       "<div>\n",
       "<table border=\"1\" class=\"dataframe\">\n",
       "  <thead>\n",
       "    <tr style=\"text-align: right;\">\n",
       "      <th></th>\n",
       "      <th>title</th>\n",
       "      <th>year</th>\n",
       "      <th>country</th>\n",
       "      <th>date</th>\n",
       "    </tr>\n",
       "  </thead>\n",
       "  <tbody>\n",
       "    <tr>\n",
       "      <th>0</th>\n",
       "      <td>0_1_0</td>\n",
       "      <td>2008.0</td>\n",
       "      <td>Poland</td>\n",
       "      <td>2008-11-14 00:00:00</td>\n",
       "    </tr>\n",
       "    <tr>\n",
       "      <th>1</th>\n",
       "      <td>Ai no Sanka</td>\n",
       "      <td>1967.0</td>\n",
       "      <td>Japan</td>\n",
       "      <td>1967-01-01 00:00:00</td>\n",
       "    </tr>\n",
       "    <tr>\n",
       "      <th>2</th>\n",
       "      <td>A Thousand to One</td>\n",
       "      <td>1920.0</td>\n",
       "      <td>USA</td>\n",
       "      <td>1920-12-07 00:00:00</td>\n",
       "    </tr>\n",
       "    <tr>\n",
       "      <th>3</th>\n",
       "      <td>A Prince of a King</td>\n",
       "      <td>1923.0</td>\n",
       "      <td>USA</td>\n",
       "      <td>1923-10-13 00:00:00</td>\n",
       "    </tr>\n",
       "    <tr>\n",
       "      <th>4</th>\n",
       "      <td>A Prince of a King</td>\n",
       "      <td>1923.0</td>\n",
       "      <td>Netherlands</td>\n",
       "      <td>1924-08-08 00:00:00</td>\n",
       "    </tr>\n",
       "  </tbody>\n",
       "</table>\n",
       "</div>"
      ],
      "text/plain": [
       "                title    year      country                 date\n",
       "0               0_1_0  2008.0       Poland  2008-11-14 00:00:00\n",
       "1         Ai no Sanka  1967.0        Japan  1967-01-01 00:00:00\n",
       "2   A Thousand to One  1920.0          USA  1920-12-07 00:00:00\n",
       "3  A Prince of a King  1923.0          USA  1923-10-13 00:00:00\n",
       "4  A Prince of a King  1923.0  Netherlands  1924-08-08 00:00:00"
      ]
     },
     "execution_count": 40,
     "metadata": {},
     "output_type": "execute_result"
    }
   ],
   "source": [
    "release_dates = pd.read_csv('../data/release_dates.csv', index_col=None)\n",
    "release_dates.head()"
   ]
  },
  {
   "cell_type": "code",
   "execution_count": 41,
   "metadata": {
    "collapsed": true
   },
   "outputs": [],
   "source": [
    "release_dates.date = pd.to_datetime(release_dates.date) #convert to date"
   ]
  },
  {
   "cell_type": "code",
   "execution_count": 42,
   "metadata": {},
   "outputs": [
    {
     "data": {
      "text/plain": [
       "0    319\n",
       "1      1\n",
       "2    342\n",
       "3    286\n",
       "4    221\n",
       "Name: date, dtype: int64"
      ]
     },
     "execution_count": 42,
     "metadata": {},
     "output_type": "execute_result"
    }
   ],
   "source": [
    "release_dates.date.dt.dayofyear.head()"
   ]
  },
  {
   "cell_type": "code",
   "execution_count": 43,
   "metadata": {},
   "outputs": [
    {
     "data": {
      "text/plain": [
       "0    11\n",
       "1     1\n",
       "2    12\n",
       "3    10\n",
       "4     8\n",
       "Name: date, dtype: int64"
      ]
     },
     "execution_count": 43,
     "metadata": {},
     "output_type": "execute_result"
    }
   ],
   "source": [
    "release_dates.date.dt.month.head()"
   ]
  },
  {
   "cell_type": "code",
   "execution_count": 44,
   "metadata": {},
   "outputs": [
    {
     "data": {
      "text/plain": [
       "0          Poland\n",
       "4     Netherlands\n",
       "7     Netherlands\n",
       "18    Netherlands\n",
       "25        Finland\n",
       "Name: country, dtype: object"
      ]
     },
     "execution_count": 44,
     "metadata": {},
     "output_type": "execute_result"
    }
   ],
   "source": [
    "release_dates.country[release_dates.country.str.contains(\"land\")].head(5)"
   ]
  },
  {
   "cell_type": "code",
   "execution_count": 45,
   "metadata": {},
   "outputs": [
    {
     "data": {
      "text/plain": [
       "1     Japan\n",
       "6     Japan\n",
       "15    Japan\n",
       "41    Japan\n",
       "54    Japan\n",
       "Name: country, dtype: object"
      ]
     },
     "execution_count": 45,
     "metadata": {},
     "output_type": "execute_result"
    }
   ],
   "source": [
    "release_dates.country[release_dates.country.str.startswith(\"J\")].head(5)"
   ]
  },
  {
   "cell_type": "code",
   "execution_count": 46,
   "metadata": {},
   "outputs": [
    {
     "data": {
      "text/html": [
       "<div>\n",
       "<table border=\"1\" class=\"dataframe\">\n",
       "  <thead>\n",
       "    <tr style=\"text-align: right;\">\n",
       "      <th></th>\n",
       "      <th>0</th>\n",
       "    </tr>\n",
       "  </thead>\n",
       "  <tbody>\n",
       "    <tr>\n",
       "      <th>0</th>\n",
       "      <td>0_1_0</td>\n",
       "    </tr>\n",
       "    <tr>\n",
       "      <th>1</th>\n",
       "      <td>Ai</td>\n",
       "    </tr>\n",
       "    <tr>\n",
       "      <th>2</th>\n",
       "      <td>A</td>\n",
       "    </tr>\n",
       "    <tr>\n",
       "      <th>3</th>\n",
       "      <td>A</td>\n",
       "    </tr>\n",
       "    <tr>\n",
       "      <th>4</th>\n",
       "      <td>A</td>\n",
       "    </tr>\n",
       "  </tbody>\n",
       "</table>\n",
       "</div>"
      ],
      "text/plain": [
       "       0\n",
       "0  0_1_0\n",
       "1     Ai\n",
       "2      A\n",
       "3      A\n",
       "4      A"
      ]
     },
     "execution_count": 46,
     "metadata": {},
     "output_type": "execute_result"
    }
   ],
   "source": [
    "release_dates.title.str.extract('^([^ ]+)', expand=True).head(5) #get first word"
   ]
  },
  {
   "cell_type": "markdown",
   "metadata": {},
   "source": [
    "## Merging\n",
    "\n",
    "Multiple DataFrames can be merged together, similar to a JOIN clause in SQL. There are many options in joining, such as what to join on, whether to do an inner/outer join, how to rename columns.\n",
    "\n",
    "The simplest case is doing an inner join on all columns in common."
   ]
  },
  {
   "cell_type": "code",
   "execution_count": 47,
   "metadata": {},
   "outputs": [
    {
     "data": {
      "text/html": [
       "<div>\n",
       "<table border=\"1\" class=\"dataframe\">\n",
       "  <thead>\n",
       "    <tr style=\"text-align: right;\">\n",
       "      <th></th>\n",
       "      <th>title</th>\n",
       "      <th>year</th>\n",
       "      <th>name</th>\n",
       "      <th>type</th>\n",
       "      <th>character</th>\n",
       "      <th>n</th>\n",
       "      <th>country</th>\n",
       "      <th>date</th>\n",
       "    </tr>\n",
       "  </thead>\n",
       "  <tbody>\n",
       "    <tr>\n",
       "      <th>0</th>\n",
       "      <td>The Core</td>\n",
       "      <td>2003</td>\n",
       "      <td>Alejandro Abellan</td>\n",
       "      <td>actor</td>\n",
       "      <td>U.S.S. Soldier</td>\n",
       "      <td>-1.0</td>\n",
       "      <td>Canada</td>\n",
       "      <td>2003-03-28</td>\n",
       "    </tr>\n",
       "    <tr>\n",
       "      <th>1</th>\n",
       "      <td>The Core</td>\n",
       "      <td>2003</td>\n",
       "      <td>Alejandro Abellan</td>\n",
       "      <td>actor</td>\n",
       "      <td>U.S.S. Soldier</td>\n",
       "      <td>-1.0</td>\n",
       "      <td>Ireland</td>\n",
       "      <td>2003-03-28</td>\n",
       "    </tr>\n",
       "    <tr>\n",
       "      <th>2</th>\n",
       "      <td>The Core</td>\n",
       "      <td>2003</td>\n",
       "      <td>Alejandro Abellan</td>\n",
       "      <td>actor</td>\n",
       "      <td>U.S.S. Soldier</td>\n",
       "      <td>-1.0</td>\n",
       "      <td>Mexico</td>\n",
       "      <td>2003-03-28</td>\n",
       "    </tr>\n",
       "    <tr>\n",
       "      <th>3</th>\n",
       "      <td>The Core</td>\n",
       "      <td>2003</td>\n",
       "      <td>Alejandro Abellan</td>\n",
       "      <td>actor</td>\n",
       "      <td>U.S.S. Soldier</td>\n",
       "      <td>-1.0</td>\n",
       "      <td>Spain</td>\n",
       "      <td>2003-03-28</td>\n",
       "    </tr>\n",
       "    <tr>\n",
       "      <th>4</th>\n",
       "      <td>The Core</td>\n",
       "      <td>2003</td>\n",
       "      <td>Alejandro Abellan</td>\n",
       "      <td>actor</td>\n",
       "      <td>U.S.S. Soldier</td>\n",
       "      <td>-1.0</td>\n",
       "      <td>UK</td>\n",
       "      <td>2003-03-28</td>\n",
       "    </tr>\n",
       "    <tr>\n",
       "      <th>5</th>\n",
       "      <td>The Core</td>\n",
       "      <td>2003</td>\n",
       "      <td>Alejandro Abellan</td>\n",
       "      <td>actor</td>\n",
       "      <td>U.S.S. Soldier</td>\n",
       "      <td>-1.0</td>\n",
       "      <td>USA</td>\n",
       "      <td>2003-03-28</td>\n",
       "    </tr>\n",
       "    <tr>\n",
       "      <th>6</th>\n",
       "      <td>The Core</td>\n",
       "      <td>2003</td>\n",
       "      <td>Alejandro Abellan</td>\n",
       "      <td>actor</td>\n",
       "      <td>U.S.S. Soldier</td>\n",
       "      <td>-1.0</td>\n",
       "      <td>Philippines</td>\n",
       "      <td>2003-04-02</td>\n",
       "    </tr>\n",
       "    <tr>\n",
       "      <th>7</th>\n",
       "      <td>The Core</td>\n",
       "      <td>2003</td>\n",
       "      <td>Alejandro Abellan</td>\n",
       "      <td>actor</td>\n",
       "      <td>U.S.S. Soldier</td>\n",
       "      <td>-1.0</td>\n",
       "      <td>Argentina</td>\n",
       "      <td>2003-04-03</td>\n",
       "    </tr>\n",
       "    <tr>\n",
       "      <th>8</th>\n",
       "      <td>The Core</td>\n",
       "      <td>2003</td>\n",
       "      <td>Alejandro Abellan</td>\n",
       "      <td>actor</td>\n",
       "      <td>U.S.S. Soldier</td>\n",
       "      <td>-1.0</td>\n",
       "      <td>Germany</td>\n",
       "      <td>2003-04-03</td>\n",
       "    </tr>\n",
       "    <tr>\n",
       "      <th>9</th>\n",
       "      <td>The Core</td>\n",
       "      <td>2003</td>\n",
       "      <td>Alejandro Abellan</td>\n",
       "      <td>actor</td>\n",
       "      <td>U.S.S. Soldier</td>\n",
       "      <td>-1.0</td>\n",
       "      <td>Hong Kong</td>\n",
       "      <td>2003-04-03</td>\n",
       "    </tr>\n",
       "    <tr>\n",
       "      <th>10</th>\n",
       "      <td>The Core</td>\n",
       "      <td>2003</td>\n",
       "      <td>Alejandro Abellan</td>\n",
       "      <td>actor</td>\n",
       "      <td>U.S.S. Soldier</td>\n",
       "      <td>-1.0</td>\n",
       "      <td>Austria</td>\n",
       "      <td>2003-04-04</td>\n",
       "    </tr>\n",
       "    <tr>\n",
       "      <th>11</th>\n",
       "      <td>The Core</td>\n",
       "      <td>2003</td>\n",
       "      <td>Alejandro Abellan</td>\n",
       "      <td>actor</td>\n",
       "      <td>U.S.S. Soldier</td>\n",
       "      <td>-1.0</td>\n",
       "      <td>Brazil</td>\n",
       "      <td>2003-04-04</td>\n",
       "    </tr>\n",
       "    <tr>\n",
       "      <th>12</th>\n",
       "      <td>The Core</td>\n",
       "      <td>2003</td>\n",
       "      <td>Alejandro Abellan</td>\n",
       "      <td>actor</td>\n",
       "      <td>U.S.S. Soldier</td>\n",
       "      <td>-1.0</td>\n",
       "      <td>Greece</td>\n",
       "      <td>2003-04-04</td>\n",
       "    </tr>\n",
       "    <tr>\n",
       "      <th>13</th>\n",
       "      <td>The Core</td>\n",
       "      <td>2003</td>\n",
       "      <td>Alejandro Abellan</td>\n",
       "      <td>actor</td>\n",
       "      <td>U.S.S. Soldier</td>\n",
       "      <td>-1.0</td>\n",
       "      <td>Iceland</td>\n",
       "      <td>2003-04-04</td>\n",
       "    </tr>\n",
       "    <tr>\n",
       "      <th>14</th>\n",
       "      <td>The Core</td>\n",
       "      <td>2003</td>\n",
       "      <td>Alejandro Abellan</td>\n",
       "      <td>actor</td>\n",
       "      <td>U.S.S. Soldier</td>\n",
       "      <td>-1.0</td>\n",
       "      <td>Turkey</td>\n",
       "      <td>2003-04-04</td>\n",
       "    </tr>\n",
       "    <tr>\n",
       "      <th>15</th>\n",
       "      <td>The Core</td>\n",
       "      <td>2003</td>\n",
       "      <td>Alejandro Abellan</td>\n",
       "      <td>actor</td>\n",
       "      <td>U.S.S. Soldier</td>\n",
       "      <td>-1.0</td>\n",
       "      <td>Peru</td>\n",
       "      <td>2003-04-10</td>\n",
       "    </tr>\n",
       "    <tr>\n",
       "      <th>16</th>\n",
       "      <td>The Core</td>\n",
       "      <td>2003</td>\n",
       "      <td>Alejandro Abellan</td>\n",
       "      <td>actor</td>\n",
       "      <td>U.S.S. Soldier</td>\n",
       "      <td>-1.0</td>\n",
       "      <td>Belgium</td>\n",
       "      <td>2003-04-16</td>\n",
       "    </tr>\n",
       "    <tr>\n",
       "      <th>17</th>\n",
       "      <td>The Core</td>\n",
       "      <td>2003</td>\n",
       "      <td>Alejandro Abellan</td>\n",
       "      <td>actor</td>\n",
       "      <td>U.S.S. Soldier</td>\n",
       "      <td>-1.0</td>\n",
       "      <td>Denmark</td>\n",
       "      <td>2003-04-16</td>\n",
       "    </tr>\n",
       "    <tr>\n",
       "      <th>18</th>\n",
       "      <td>The Core</td>\n",
       "      <td>2003</td>\n",
       "      <td>Alejandro Abellan</td>\n",
       "      <td>actor</td>\n",
       "      <td>U.S.S. Soldier</td>\n",
       "      <td>-1.0</td>\n",
       "      <td>France</td>\n",
       "      <td>2003-04-16</td>\n",
       "    </tr>\n",
       "    <tr>\n",
       "      <th>19</th>\n",
       "      <td>The Core</td>\n",
       "      <td>2003</td>\n",
       "      <td>Alejandro Abellan</td>\n",
       "      <td>actor</td>\n",
       "      <td>U.S.S. Soldier</td>\n",
       "      <td>-1.0</td>\n",
       "      <td>Israel</td>\n",
       "      <td>2003-04-16</td>\n",
       "    </tr>\n",
       "    <tr>\n",
       "      <th>20</th>\n",
       "      <td>The Core</td>\n",
       "      <td>2003</td>\n",
       "      <td>Alejandro Abellan</td>\n",
       "      <td>actor</td>\n",
       "      <td>U.S.S. Soldier</td>\n",
       "      <td>-1.0</td>\n",
       "      <td>Norway</td>\n",
       "      <td>2003-04-16</td>\n",
       "    </tr>\n",
       "    <tr>\n",
       "      <th>21</th>\n",
       "      <td>The Core</td>\n",
       "      <td>2003</td>\n",
       "      <td>Alejandro Abellan</td>\n",
       "      <td>actor</td>\n",
       "      <td>U.S.S. Soldier</td>\n",
       "      <td>-1.0</td>\n",
       "      <td>Hungary</td>\n",
       "      <td>2003-04-17</td>\n",
       "    </tr>\n",
       "    <tr>\n",
       "      <th>22</th>\n",
       "      <td>The Core</td>\n",
       "      <td>2003</td>\n",
       "      <td>Alejandro Abellan</td>\n",
       "      <td>actor</td>\n",
       "      <td>U.S.S. Soldier</td>\n",
       "      <td>-1.0</td>\n",
       "      <td>Italy</td>\n",
       "      <td>2003-04-17</td>\n",
       "    </tr>\n",
       "    <tr>\n",
       "      <th>23</th>\n",
       "      <td>The Core</td>\n",
       "      <td>2003</td>\n",
       "      <td>Alejandro Abellan</td>\n",
       "      <td>actor</td>\n",
       "      <td>U.S.S. Soldier</td>\n",
       "      <td>-1.0</td>\n",
       "      <td>Netherlands</td>\n",
       "      <td>2003-04-17</td>\n",
       "    </tr>\n",
       "    <tr>\n",
       "      <th>24</th>\n",
       "      <td>The Core</td>\n",
       "      <td>2003</td>\n",
       "      <td>Alejandro Abellan</td>\n",
       "      <td>actor</td>\n",
       "      <td>U.S.S. Soldier</td>\n",
       "      <td>-1.0</td>\n",
       "      <td>Finland</td>\n",
       "      <td>2003-04-18</td>\n",
       "    </tr>\n",
       "    <tr>\n",
       "      <th>25</th>\n",
       "      <td>The Core</td>\n",
       "      <td>2003</td>\n",
       "      <td>Alejandro Abellan</td>\n",
       "      <td>actor</td>\n",
       "      <td>U.S.S. Soldier</td>\n",
       "      <td>-1.0</td>\n",
       "      <td>Portugal</td>\n",
       "      <td>2003-04-18</td>\n",
       "    </tr>\n",
       "    <tr>\n",
       "      <th>26</th>\n",
       "      <td>The Core</td>\n",
       "      <td>2003</td>\n",
       "      <td>Alejandro Abellan</td>\n",
       "      <td>actor</td>\n",
       "      <td>U.S.S. Soldier</td>\n",
       "      <td>-1.0</td>\n",
       "      <td>South Korea</td>\n",
       "      <td>2003-04-18</td>\n",
       "    </tr>\n",
       "    <tr>\n",
       "      <th>27</th>\n",
       "      <td>The Core</td>\n",
       "      <td>2003</td>\n",
       "      <td>Alejandro Abellan</td>\n",
       "      <td>actor</td>\n",
       "      <td>U.S.S. Soldier</td>\n",
       "      <td>-1.0</td>\n",
       "      <td>Sweden</td>\n",
       "      <td>2003-04-18</td>\n",
       "    </tr>\n",
       "    <tr>\n",
       "      <th>28</th>\n",
       "      <td>The Core</td>\n",
       "      <td>2003</td>\n",
       "      <td>Alejandro Abellan</td>\n",
       "      <td>actor</td>\n",
       "      <td>U.S.S. Soldier</td>\n",
       "      <td>-1.0</td>\n",
       "      <td>Russia</td>\n",
       "      <td>2003-04-24</td>\n",
       "    </tr>\n",
       "    <tr>\n",
       "      <th>29</th>\n",
       "      <td>The Core</td>\n",
       "      <td>2003</td>\n",
       "      <td>Alejandro Abellan</td>\n",
       "      <td>actor</td>\n",
       "      <td>U.S.S. Soldier</td>\n",
       "      <td>-1.0</td>\n",
       "      <td>Lithuania</td>\n",
       "      <td>2003-05-09</td>\n",
       "    </tr>\n",
       "    <tr>\n",
       "      <th>30</th>\n",
       "      <td>The Core</td>\n",
       "      <td>2003</td>\n",
       "      <td>Alejandro Abellan</td>\n",
       "      <td>actor</td>\n",
       "      <td>U.S.S. Soldier</td>\n",
       "      <td>-1.0</td>\n",
       "      <td>New Zealand</td>\n",
       "      <td>2003-05-29</td>\n",
       "    </tr>\n",
       "    <tr>\n",
       "      <th>31</th>\n",
       "      <td>The Core</td>\n",
       "      <td>2003</td>\n",
       "      <td>Alejandro Abellan</td>\n",
       "      <td>actor</td>\n",
       "      <td>U.S.S. Soldier</td>\n",
       "      <td>-1.0</td>\n",
       "      <td>Egypt</td>\n",
       "      <td>2003-06-04</td>\n",
       "    </tr>\n",
       "    <tr>\n",
       "      <th>32</th>\n",
       "      <td>The Core</td>\n",
       "      <td>2003</td>\n",
       "      <td>Alejandro Abellan</td>\n",
       "      <td>actor</td>\n",
       "      <td>U.S.S. Soldier</td>\n",
       "      <td>-1.0</td>\n",
       "      <td>Czech Republic</td>\n",
       "      <td>2003-06-05</td>\n",
       "    </tr>\n",
       "    <tr>\n",
       "      <th>33</th>\n",
       "      <td>The Core</td>\n",
       "      <td>2003</td>\n",
       "      <td>Alejandro Abellan</td>\n",
       "      <td>actor</td>\n",
       "      <td>U.S.S. Soldier</td>\n",
       "      <td>-1.0</td>\n",
       "      <td>Poland</td>\n",
       "      <td>2003-06-06</td>\n",
       "    </tr>\n",
       "    <tr>\n",
       "      <th>34</th>\n",
       "      <td>The Core</td>\n",
       "      <td>2003</td>\n",
       "      <td>Alejandro Abellan</td>\n",
       "      <td>actor</td>\n",
       "      <td>U.S.S. Soldier</td>\n",
       "      <td>-1.0</td>\n",
       "      <td>Japan</td>\n",
       "      <td>2003-06-07</td>\n",
       "    </tr>\n",
       "    <tr>\n",
       "      <th>35</th>\n",
       "      <td>The Core</td>\n",
       "      <td>2003</td>\n",
       "      <td>Alejandro Abellan</td>\n",
       "      <td>actor</td>\n",
       "      <td>U.S.S. Soldier</td>\n",
       "      <td>-1.0</td>\n",
       "      <td>Australia</td>\n",
       "      <td>2003-06-12</td>\n",
       "    </tr>\n",
       "    <tr>\n",
       "      <th>36</th>\n",
       "      <td>The Core</td>\n",
       "      <td>2003</td>\n",
       "      <td>Alejandro Abellan</td>\n",
       "      <td>actor</td>\n",
       "      <td>U.S.S. Soldier</td>\n",
       "      <td>-1.0</td>\n",
       "      <td>Kuwait</td>\n",
       "      <td>2003-06-17</td>\n",
       "    </tr>\n",
       "    <tr>\n",
       "      <th>37</th>\n",
       "      <td>The Core</td>\n",
       "      <td>2003</td>\n",
       "      <td>Alejandro Abellan</td>\n",
       "      <td>actor</td>\n",
       "      <td>U.S.S. Soldier</td>\n",
       "      <td>-1.0</td>\n",
       "      <td>Slovenia</td>\n",
       "      <td>2003-07-10</td>\n",
       "    </tr>\n",
       "    <tr>\n",
       "      <th>38</th>\n",
       "      <td>Il momento di uccidere</td>\n",
       "      <td>1968</td>\n",
       "      <td>Remo De Angelis</td>\n",
       "      <td>actor</td>\n",
       "      <td>Dago</td>\n",
       "      <td>9.0</td>\n",
       "      <td>Italy</td>\n",
       "      <td>1968-08-04</td>\n",
       "    </tr>\n",
       "    <tr>\n",
       "      <th>39</th>\n",
       "      <td>Il momento di uccidere</td>\n",
       "      <td>1968</td>\n",
       "      <td>Remo De Angelis</td>\n",
       "      <td>actor</td>\n",
       "      <td>Dago</td>\n",
       "      <td>9.0</td>\n",
       "      <td>West Germany</td>\n",
       "      <td>1968-11-28</td>\n",
       "    </tr>\n",
       "    <tr>\n",
       "      <th>40</th>\n",
       "      <td>Il momento di uccidere</td>\n",
       "      <td>1968</td>\n",
       "      <td>Remo De Angelis</td>\n",
       "      <td>actor</td>\n",
       "      <td>Dago</td>\n",
       "      <td>9.0</td>\n",
       "      <td>Portugal</td>\n",
       "      <td>1970-07-31</td>\n",
       "    </tr>\n",
       "    <tr>\n",
       "      <th>41</th>\n",
       "      <td>Il momento di uccidere</td>\n",
       "      <td>1968</td>\n",
       "      <td>Remo De Angelis</td>\n",
       "      <td>actor</td>\n",
       "      <td>Dago</td>\n",
       "      <td>9.0</td>\n",
       "      <td>Denmark</td>\n",
       "      <td>1971-07-09</td>\n",
       "    </tr>\n",
       "    <tr>\n",
       "      <th>42</th>\n",
       "      <td>Il momento di uccidere</td>\n",
       "      <td>1968</td>\n",
       "      <td>Remo De Angelis</td>\n",
       "      <td>actor</td>\n",
       "      <td>Dago</td>\n",
       "      <td>9.0</td>\n",
       "      <td>Mexico</td>\n",
       "      <td>1973-01-26</td>\n",
       "    </tr>\n",
       "    <tr>\n",
       "      <th>43</th>\n",
       "      <td>Il momento di uccidere</td>\n",
       "      <td>1968</td>\n",
       "      <td>Remo De Angelis</td>\n",
       "      <td>actor</td>\n",
       "      <td>Dago</td>\n",
       "      <td>9.0</td>\n",
       "      <td>Finland</td>\n",
       "      <td>1974-07-19</td>\n",
       "    </tr>\n",
       "    <tr>\n",
       "      <th>44</th>\n",
       "      <td>Across the Divide</td>\n",
       "      <td>1921</td>\n",
       "      <td>Thomas Delmar</td>\n",
       "      <td>actor</td>\n",
       "      <td>Dago</td>\n",
       "      <td>4.0</td>\n",
       "      <td>USA</td>\n",
       "      <td>1921-10-09</td>\n",
       "    </tr>\n",
       "    <tr>\n",
       "      <th>45</th>\n",
       "      <td>Un homme marche dans la ville</td>\n",
       "      <td>1950</td>\n",
       "      <td>Fabien Loris</td>\n",
       "      <td>actor</td>\n",
       "      <td>Dago</td>\n",
       "      <td>12.0</td>\n",
       "      <td>Sweden</td>\n",
       "      <td>1951-03-22</td>\n",
       "    </tr>\n",
       "  </tbody>\n",
       "</table>\n",
       "</div>"
      ],
      "text/plain": [
       "                            title  year               name   type  \\\n",
       "0                        The Core  2003  Alejandro Abellan  actor   \n",
       "1                        The Core  2003  Alejandro Abellan  actor   \n",
       "2                        The Core  2003  Alejandro Abellan  actor   \n",
       "3                        The Core  2003  Alejandro Abellan  actor   \n",
       "4                        The Core  2003  Alejandro Abellan  actor   \n",
       "5                        The Core  2003  Alejandro Abellan  actor   \n",
       "6                        The Core  2003  Alejandro Abellan  actor   \n",
       "7                        The Core  2003  Alejandro Abellan  actor   \n",
       "8                        The Core  2003  Alejandro Abellan  actor   \n",
       "9                        The Core  2003  Alejandro Abellan  actor   \n",
       "10                       The Core  2003  Alejandro Abellan  actor   \n",
       "11                       The Core  2003  Alejandro Abellan  actor   \n",
       "12                       The Core  2003  Alejandro Abellan  actor   \n",
       "13                       The Core  2003  Alejandro Abellan  actor   \n",
       "14                       The Core  2003  Alejandro Abellan  actor   \n",
       "15                       The Core  2003  Alejandro Abellan  actor   \n",
       "16                       The Core  2003  Alejandro Abellan  actor   \n",
       "17                       The Core  2003  Alejandro Abellan  actor   \n",
       "18                       The Core  2003  Alejandro Abellan  actor   \n",
       "19                       The Core  2003  Alejandro Abellan  actor   \n",
       "20                       The Core  2003  Alejandro Abellan  actor   \n",
       "21                       The Core  2003  Alejandro Abellan  actor   \n",
       "22                       The Core  2003  Alejandro Abellan  actor   \n",
       "23                       The Core  2003  Alejandro Abellan  actor   \n",
       "24                       The Core  2003  Alejandro Abellan  actor   \n",
       "25                       The Core  2003  Alejandro Abellan  actor   \n",
       "26                       The Core  2003  Alejandro Abellan  actor   \n",
       "27                       The Core  2003  Alejandro Abellan  actor   \n",
       "28                       The Core  2003  Alejandro Abellan  actor   \n",
       "29                       The Core  2003  Alejandro Abellan  actor   \n",
       "30                       The Core  2003  Alejandro Abellan  actor   \n",
       "31                       The Core  2003  Alejandro Abellan  actor   \n",
       "32                       The Core  2003  Alejandro Abellan  actor   \n",
       "33                       The Core  2003  Alejandro Abellan  actor   \n",
       "34                       The Core  2003  Alejandro Abellan  actor   \n",
       "35                       The Core  2003  Alejandro Abellan  actor   \n",
       "36                       The Core  2003  Alejandro Abellan  actor   \n",
       "37                       The Core  2003  Alejandro Abellan  actor   \n",
       "38         Il momento di uccidere  1968    Remo De Angelis  actor   \n",
       "39         Il momento di uccidere  1968    Remo De Angelis  actor   \n",
       "40         Il momento di uccidere  1968    Remo De Angelis  actor   \n",
       "41         Il momento di uccidere  1968    Remo De Angelis  actor   \n",
       "42         Il momento di uccidere  1968    Remo De Angelis  actor   \n",
       "43         Il momento di uccidere  1968    Remo De Angelis  actor   \n",
       "44              Across the Divide  1921      Thomas Delmar  actor   \n",
       "45  Un homme marche dans la ville  1950       Fabien Loris  actor   \n",
       "\n",
       "         character     n         country       date  \n",
       "0   U.S.S. Soldier  -1.0          Canada 2003-03-28  \n",
       "1   U.S.S. Soldier  -1.0         Ireland 2003-03-28  \n",
       "2   U.S.S. Soldier  -1.0          Mexico 2003-03-28  \n",
       "3   U.S.S. Soldier  -1.0           Spain 2003-03-28  \n",
       "4   U.S.S. Soldier  -1.0              UK 2003-03-28  \n",
       "5   U.S.S. Soldier  -1.0             USA 2003-03-28  \n",
       "6   U.S.S. Soldier  -1.0     Philippines 2003-04-02  \n",
       "7   U.S.S. Soldier  -1.0       Argentina 2003-04-03  \n",
       "8   U.S.S. Soldier  -1.0         Germany 2003-04-03  \n",
       "9   U.S.S. Soldier  -1.0       Hong Kong 2003-04-03  \n",
       "10  U.S.S. Soldier  -1.0         Austria 2003-04-04  \n",
       "11  U.S.S. Soldier  -1.0          Brazil 2003-04-04  \n",
       "12  U.S.S. Soldier  -1.0          Greece 2003-04-04  \n",
       "13  U.S.S. Soldier  -1.0         Iceland 2003-04-04  \n",
       "14  U.S.S. Soldier  -1.0          Turkey 2003-04-04  \n",
       "15  U.S.S. Soldier  -1.0            Peru 2003-04-10  \n",
       "16  U.S.S. Soldier  -1.0         Belgium 2003-04-16  \n",
       "17  U.S.S. Soldier  -1.0         Denmark 2003-04-16  \n",
       "18  U.S.S. Soldier  -1.0          France 2003-04-16  \n",
       "19  U.S.S. Soldier  -1.0          Israel 2003-04-16  \n",
       "20  U.S.S. Soldier  -1.0          Norway 2003-04-16  \n",
       "21  U.S.S. Soldier  -1.0         Hungary 2003-04-17  \n",
       "22  U.S.S. Soldier  -1.0           Italy 2003-04-17  \n",
       "23  U.S.S. Soldier  -1.0     Netherlands 2003-04-17  \n",
       "24  U.S.S. Soldier  -1.0         Finland 2003-04-18  \n",
       "25  U.S.S. Soldier  -1.0        Portugal 2003-04-18  \n",
       "26  U.S.S. Soldier  -1.0     South Korea 2003-04-18  \n",
       "27  U.S.S. Soldier  -1.0          Sweden 2003-04-18  \n",
       "28  U.S.S. Soldier  -1.0          Russia 2003-04-24  \n",
       "29  U.S.S. Soldier  -1.0       Lithuania 2003-05-09  \n",
       "30  U.S.S. Soldier  -1.0     New Zealand 2003-05-29  \n",
       "31  U.S.S. Soldier  -1.0           Egypt 2003-06-04  \n",
       "32  U.S.S. Soldier  -1.0  Czech Republic 2003-06-05  \n",
       "33  U.S.S. Soldier  -1.0          Poland 2003-06-06  \n",
       "34  U.S.S. Soldier  -1.0           Japan 2003-06-07  \n",
       "35  U.S.S. Soldier  -1.0       Australia 2003-06-12  \n",
       "36  U.S.S. Soldier  -1.0          Kuwait 2003-06-17  \n",
       "37  U.S.S. Soldier  -1.0        Slovenia 2003-07-10  \n",
       "38            Dago   9.0           Italy 1968-08-04  \n",
       "39            Dago   9.0    West Germany 1968-11-28  \n",
       "40            Dago   9.0        Portugal 1970-07-31  \n",
       "41            Dago   9.0         Denmark 1971-07-09  \n",
       "42            Dago   9.0          Mexico 1973-01-26  \n",
       "43            Dago   9.0         Finland 1974-07-19  \n",
       "44            Dago   4.0             USA 1921-10-09  \n",
       "45            Dago  12.0          Sweden 1951-03-22  "
      ]
     },
     "execution_count": 47,
     "metadata": {},
     "output_type": "execute_result"
    }
   ],
   "source": [
    "cast.head(5).merge(release_dates) #note this join results in more than 5 rows since each movie will have multiple release date entries"
   ]
  },
  {
   "cell_type": "markdown",
   "metadata": {},
   "source": [
    "## Using Pandas to Answer Questions\n",
    "\n",
    "We will give some examples of using the three data sets (titles, cast, release_dates) to answer some questions using pandas"
   ]
  },
  {
   "cell_type": "code",
   "execution_count": 48,
   "metadata": {},
   "outputs": [
    {
     "name": "stdout",
     "output_type": "stream",
     "text": [
      "(306705, 2)\n",
      "CPU times: user 264 ms, sys: 3.95 ms, total: 268 ms\n",
      "Wall time: 266 ms\n"
     ]
    }
   ],
   "source": [
    "%%time\n",
    "titles = pd.DataFrame.from_csv('../data/titles.csv', index_col=None)\n",
    "print(titles.shape)"
   ]
  },
  {
   "cell_type": "code",
   "execution_count": 49,
   "metadata": {},
   "outputs": [
    {
     "data": {
      "text/plain": [
       "306705"
      ]
     },
     "execution_count": 49,
     "metadata": {},
     "output_type": "execute_result"
    }
   ],
   "source": [
    "# 1. How many movies are listed in the `titles` dataframe?\n",
    "len(titles)"
   ]
  },
  {
   "cell_type": "code",
   "execution_count": 50,
   "metadata": {},
   "outputs": [
    {
     "data": {
      "text/html": [
       "<div>\n",
       "<table border=\"1\" class=\"dataframe\">\n",
       "  <thead>\n",
       "    <tr style=\"text-align: right;\">\n",
       "      <th></th>\n",
       "      <th>title</th>\n",
       "      <th>year</th>\n",
       "    </tr>\n",
       "  </thead>\n",
       "  <tbody>\n",
       "    <tr>\n",
       "      <th>172161</th>\n",
       "      <td>Miss Jerry</td>\n",
       "      <td>1894.0</td>\n",
       "    </tr>\n",
       "  </tbody>\n",
       "</table>\n",
       "</div>"
      ],
      "text/plain": [
       "             title    year\n",
       "172161  Miss Jerry  1894.0"
      ]
     },
     "execution_count": 50,
     "metadata": {},
     "output_type": "execute_result"
    }
   ],
   "source": [
    "# 2. What is the name and year of the very first movie ever made?\n",
    "titles.sort_values('year').head(1)"
   ]
  },
  {
   "cell_type": "code",
   "execution_count": 51,
   "metadata": {},
   "outputs": [
    {
     "data": {
      "text/html": [
       "<div>\n",
       "<table border=\"1\" class=\"dataframe\">\n",
       "  <thead>\n",
       "    <tr style=\"text-align: right;\">\n",
       "      <th></th>\n",
       "      <th>title</th>\n",
       "      <th>year</th>\n",
       "    </tr>\n",
       "  </thead>\n",
       "  <tbody>\n",
       "    <tr>\n",
       "      <th>284322</th>\n",
       "      <td>The Tree of Death</td>\n",
       "      <td>2022.0</td>\n",
       "    </tr>\n",
       "    <tr>\n",
       "      <th>52606</th>\n",
       "      <td>Crime and Punishment</td>\n",
       "      <td>2022.0</td>\n",
       "    </tr>\n",
       "    <tr>\n",
       "      <th>170430</th>\n",
       "      <td>New in Village</td>\n",
       "      <td>2024.0</td>\n",
       "    </tr>\n",
       "  </tbody>\n",
       "</table>\n",
       "</div>"
      ],
      "text/plain": [
       "                       title    year\n",
       "284322     The Tree of Death  2022.0\n",
       "52606   Crime and Punishment  2022.0\n",
       "170430        New in Village  2024.0"
      ]
     },
     "execution_count": 51,
     "metadata": {},
     "output_type": "execute_result"
    }
   ],
   "source": [
    "# 3. How many years into the future does the IMDB database list movie titles?\n",
    "titles.sort_values('year').tail(3)#.year - 2015"
   ]
  },
  {
   "cell_type": "code",
   "execution_count": 52,
   "metadata": {},
   "outputs": [
    {
     "data": {
      "text/plain": [
       "1690"
      ]
     },
     "execution_count": 52,
     "metadata": {},
     "output_type": "execute_result"
    }
   ],
   "source": [
    "# 4. How many movies listed in `titles` came out in 1950?\n",
    "\n",
    "len(titles[titles.year == 1950])"
   ]
  },
  {
   "cell_type": "code",
   "execution_count": 53,
   "metadata": {},
   "outputs": [
    {
     "name": "stdout",
     "output_type": "stream",
     "text": [
      "1970 3317\n",
      "1971 3145\n",
      "1972 3021\n",
      "1973 2901\n",
      "1974 2860\n",
      "1975 2834\n",
      "1976 2835\n",
      "1977 2810\n",
      "1978 2894\n",
      "1979 3021\n"
     ]
    }
   ],
   "source": [
    "# 5. How many movies came out in each year of the 1970s?\n",
    "\n",
    "for y in range(1970, 1980):\n",
    "    print(y, (titles.year == y).sum()) #summing a Boolean Series gives the number that are True"
   ]
  },
  {
   "cell_type": "code",
   "execution_count": 54,
   "metadata": {},
   "outputs": [
    {
     "data": {
      "text/plain": [
       "year\n",
       "1970.0    3317\n",
       "1971.0    3145\n",
       "1972.0    3021\n",
       "1973.0    2901\n",
       "1974.0    2860\n",
       "1975.0    2834\n",
       "1976.0    2835\n",
       "1977.0    2810\n",
       "1978.0    2894\n",
       "1979.0    3021\n",
       "dtype: int64"
      ]
     },
     "execution_count": 54,
     "metadata": {},
     "output_type": "execute_result"
    }
   ],
   "source": [
    "# 6. Use \"groupby\" to determine how many movies came out in each year of the 1970s.\n",
    "titles.groupby('year').size().loc[1970:1979]"
   ]
  },
  {
   "cell_type": "code",
   "execution_count": 55,
   "metadata": {},
   "outputs": [
    {
     "data": {
      "text/html": [
       "<div>\n",
       "<table border=\"1\" class=\"dataframe\">\n",
       "  <thead>\n",
       "    <tr style=\"text-align: right;\">\n",
       "      <th></th>\n",
       "      <th>title</th>\n",
       "    </tr>\n",
       "  </thead>\n",
       "  <tbody>\n",
       "    <tr>\n",
       "      <th>2863</th>\n",
       "      <td>Abajo la careta</td>\n",
       "    </tr>\n",
       "    <tr>\n",
       "      <th>4010</th>\n",
       "      <td>After Dark in Central Park</td>\n",
       "    </tr>\n",
       "    <tr>\n",
       "      <th>7873</th>\n",
       "      <td>A Very Laughable Mixup</td>\n",
       "    </tr>\n",
       "    <tr>\n",
       "      <th>11843</th>\n",
       "      <td>Boarding School Girls' Pajama Parade</td>\n",
       "    </tr>\n",
       "    <tr>\n",
       "      <th>17859</th>\n",
       "      <td>Alibaba and the Forty Thieves</td>\n",
       "    </tr>\n",
       "    <tr>\n",
       "      <th>17991</th>\n",
       "      <td>Around the Big Curves on the Manhattan Elevate...</td>\n",
       "    </tr>\n",
       "    <tr>\n",
       "      <th>18043</th>\n",
       "      <td>Bombardment of Matanzas</td>\n",
       "    </tr>\n",
       "    <tr>\n",
       "      <th>19506</th>\n",
       "      <td>Battle of Jeffries and Sharkey for Championshi...</td>\n",
       "    </tr>\n",
       "    <tr>\n",
       "      <th>23718</th>\n",
       "      <td>Bettlerstolz</td>\n",
       "    </tr>\n",
       "    <tr>\n",
       "      <th>23987</th>\n",
       "      <td>Bohemios</td>\n",
       "    </tr>\n",
       "    <tr>\n",
       "      <th>25076</th>\n",
       "      <td>Buffalo Bill's Wild West Parade (III)</td>\n",
       "    </tr>\n",
       "    <tr>\n",
       "      <th>37785</th>\n",
       "      <td>Asahi katsudô daishashin</td>\n",
       "    </tr>\n",
       "    <tr>\n",
       "      <th>38519</th>\n",
       "      <td>Cake Walk</td>\n",
       "    </tr>\n",
       "    <tr>\n",
       "      <th>41296</th>\n",
       "      <td>Choque de trenes</td>\n",
       "    </tr>\n",
       "    <tr>\n",
       "      <th>44234</th>\n",
       "      <td>Der Specht</td>\n",
       "    </tr>\n",
       "    <tr>\n",
       "      <th>48044</th>\n",
       "      <td>Cavalleria infernale</td>\n",
       "    </tr>\n",
       "    <tr>\n",
       "      <th>55349</th>\n",
       "      <td>Caught</td>\n",
       "    </tr>\n",
       "    <tr>\n",
       "      <th>58968</th>\n",
       "      <td>Can Can</td>\n",
       "    </tr>\n",
       "    <tr>\n",
       "      <th>69045</th>\n",
       "      <td>El pechador</td>\n",
       "    </tr>\n",
       "    <tr>\n",
       "      <th>70669</th>\n",
       "      <td>Forward</td>\n",
       "    </tr>\n",
       "    <tr>\n",
       "      <th>76597</th>\n",
       "      <td>First Regiment Marching</td>\n",
       "    </tr>\n",
       "    <tr>\n",
       "      <th>77842</th>\n",
       "      <td>Ensalada criolla</td>\n",
       "    </tr>\n",
       "    <tr>\n",
       "      <th>79381</th>\n",
       "      <td>En jernbaneulykke</td>\n",
       "    </tr>\n",
       "    <tr>\n",
       "      <th>79834</th>\n",
       "      <td>Elämää esplanaadikadulla</td>\n",
       "    </tr>\n",
       "    <tr>\n",
       "      <th>84305</th>\n",
       "      <td>Firing Broadside at Cabanas</td>\n",
       "    </tr>\n",
       "    <tr>\n",
       "      <th>85534</th>\n",
       "      <td>Family Troubles (II)</td>\n",
       "    </tr>\n",
       "    <tr>\n",
       "      <th>86708</th>\n",
       "      <td>Eine Fliegenjagd oder Die Rache der Frau Schultze</td>\n",
       "    </tr>\n",
       "    <tr>\n",
       "      <th>89068</th>\n",
       "      <td>Freedom of Cuba</td>\n",
       "    </tr>\n",
       "    <tr>\n",
       "      <th>93028</th>\n",
       "      <td>El soldado de la Independencia</td>\n",
       "    </tr>\n",
       "    <tr>\n",
       "      <th>94508</th>\n",
       "      <td>Highlights from The Mikado</td>\n",
       "    </tr>\n",
       "    <tr>\n",
       "      <th>...</th>\n",
       "      <td>...</td>\n",
       "    </tr>\n",
       "    <tr>\n",
       "      <th>214026</th>\n",
       "      <td>Sr. Wrangler Mr. R.P. Paranjpe</td>\n",
       "    </tr>\n",
       "    <tr>\n",
       "      <th>214657</th>\n",
       "      <td>S.S. 'Coptic'</td>\n",
       "    </tr>\n",
       "    <tr>\n",
       "      <th>230240</th>\n",
       "      <td>Soldiers of the Cross</td>\n",
       "    </tr>\n",
       "    <tr>\n",
       "      <th>232956</th>\n",
       "      <td>Snow White</td>\n",
       "    </tr>\n",
       "    <tr>\n",
       "      <th>233118</th>\n",
       "      <td>See-Saw Scene</td>\n",
       "    </tr>\n",
       "    <tr>\n",
       "      <th>234279</th>\n",
       "      <td>Réactions de Suzanne</td>\n",
       "    </tr>\n",
       "    <tr>\n",
       "      <th>237509</th>\n",
       "      <td>Sharkey-McCoy Fight Reproduced in 10 Rounds</td>\n",
       "    </tr>\n",
       "    <tr>\n",
       "      <th>246505</th>\n",
       "      <td>The Bengali Fisherman</td>\n",
       "    </tr>\n",
       "    <tr>\n",
       "      <th>253292</th>\n",
       "      <td>The Joe Gans-Battling Nelson Fight</td>\n",
       "    </tr>\n",
       "    <tr>\n",
       "      <th>256749</th>\n",
       "      <td>The Highland Fling</td>\n",
       "    </tr>\n",
       "    <tr>\n",
       "      <th>258374</th>\n",
       "      <td>The Divorce</td>\n",
       "    </tr>\n",
       "    <tr>\n",
       "      <th>259084</th>\n",
       "      <td>Sønnens hævn</td>\n",
       "    </tr>\n",
       "    <tr>\n",
       "      <th>265729</th>\n",
       "      <td>The Telephone (II)</td>\n",
       "    </tr>\n",
       "    <tr>\n",
       "      <th>266409</th>\n",
       "      <td>Tub Race</td>\n",
       "    </tr>\n",
       "    <tr>\n",
       "      <th>268229</th>\n",
       "      <td>The Three Musketeers</td>\n",
       "    </tr>\n",
       "    <tr>\n",
       "      <th>269672</th>\n",
       "      <td>Valtiopäiväkuvia</td>\n",
       "    </tr>\n",
       "    <tr>\n",
       "      <th>271630</th>\n",
       "      <td>The Wrestlers</td>\n",
       "    </tr>\n",
       "    <tr>\n",
       "      <th>272860</th>\n",
       "      <td>Valsons</td>\n",
       "    </tr>\n",
       "    <tr>\n",
       "      <th>273283</th>\n",
       "      <td>Vappu Helsingissä</td>\n",
       "    </tr>\n",
       "    <tr>\n",
       "      <th>275490</th>\n",
       "      <td>The Three Macs</td>\n",
       "    </tr>\n",
       "    <tr>\n",
       "      <th>276917</th>\n",
       "      <td>The Story of the Kelly Gang</td>\n",
       "    </tr>\n",
       "    <tr>\n",
       "      <th>279639</th>\n",
       "      <td>Thrilling War Scene</td>\n",
       "    </tr>\n",
       "    <tr>\n",
       "      <th>280160</th>\n",
       "      <td>Torpedo Boat, 'Dupont'</td>\n",
       "    </tr>\n",
       "    <tr>\n",
       "      <th>283056</th>\n",
       "      <td>The Tribulations of an Amateur Photographer</td>\n",
       "    </tr>\n",
       "    <tr>\n",
       "      <th>287027</th>\n",
       "      <td>Trouble in Hogan's Alley</td>\n",
       "    </tr>\n",
       "    <tr>\n",
       "      <th>287875</th>\n",
       "      <td>The Startled Lover</td>\n",
       "    </tr>\n",
       "    <tr>\n",
       "      <th>289901</th>\n",
       "      <td>Un soulier pour un jambon</td>\n",
       "    </tr>\n",
       "    <tr>\n",
       "      <th>290497</th>\n",
       "      <td>Tôkyôza katsudô daishashin</td>\n",
       "    </tr>\n",
       "    <tr>\n",
       "      <th>291909</th>\n",
       "      <td>Winding the Maypole</td>\n",
       "    </tr>\n",
       "    <tr>\n",
       "      <th>301813</th>\n",
       "      <td>Who Said Watermelon</td>\n",
       "    </tr>\n",
       "  </tbody>\n",
       "</table>\n",
       "<p>90 rows × 1 columns</p>\n",
       "</div>"
      ],
      "text/plain": [
       "                                                    title\n",
       "2863                                      Abajo la careta\n",
       "4010                           After Dark in Central Park\n",
       "7873                               A Very Laughable Mixup\n",
       "11843                Boarding School Girls' Pajama Parade\n",
       "17859                       Alibaba and the Forty Thieves\n",
       "17991   Around the Big Curves on the Manhattan Elevate...\n",
       "18043                             Bombardment of Matanzas\n",
       "19506   Battle of Jeffries and Sharkey for Championshi...\n",
       "23718                                        Bettlerstolz\n",
       "23987                                            Bohemios\n",
       "25076               Buffalo Bill's Wild West Parade (III)\n",
       "37785                            Asahi katsudô daishashin\n",
       "38519                                           Cake Walk\n",
       "41296                                    Choque de trenes\n",
       "44234                                          Der Specht\n",
       "48044                                Cavalleria infernale\n",
       "55349                                              Caught\n",
       "58968                                             Can Can\n",
       "69045                                         El pechador\n",
       "70669                                             Forward\n",
       "76597                             First Regiment Marching\n",
       "77842                                    Ensalada criolla\n",
       "79381                                   En jernbaneulykke\n",
       "79834                            Elämää esplanaadikadulla\n",
       "84305                         Firing Broadside at Cabanas\n",
       "85534                                Family Troubles (II)\n",
       "86708   Eine Fliegenjagd oder Die Rache der Frau Schultze\n",
       "89068                                     Freedom of Cuba\n",
       "93028                      El soldado de la Independencia\n",
       "94508                          Highlights from The Mikado\n",
       "...                                                   ...\n",
       "214026                     Sr. Wrangler Mr. R.P. Paranjpe\n",
       "214657                                      S.S. 'Coptic'\n",
       "230240                              Soldiers of the Cross\n",
       "232956                                         Snow White\n",
       "233118                                      See-Saw Scene\n",
       "234279                               Réactions de Suzanne\n",
       "237509        Sharkey-McCoy Fight Reproduced in 10 Rounds\n",
       "246505                              The Bengali Fisherman\n",
       "253292                 The Joe Gans-Battling Nelson Fight\n",
       "256749                                 The Highland Fling\n",
       "258374                                        The Divorce\n",
       "259084                                       Sønnens hævn\n",
       "265729                                 The Telephone (II)\n",
       "266409                                           Tub Race\n",
       "268229                               The Three Musketeers\n",
       "269672                                   Valtiopäiväkuvia\n",
       "271630                                      The Wrestlers\n",
       "272860                                            Valsons\n",
       "273283                                  Vappu Helsingissä\n",
       "275490                                     The Three Macs\n",
       "276917                        The Story of the Kelly Gang\n",
       "279639                                Thrilling War Scene\n",
       "280160                             Torpedo Boat, 'Dupont'\n",
       "283056        The Tribulations of an Amateur Photographer\n",
       "287027                           Trouble in Hogan's Alley\n",
       "287875                                 The Startled Lover\n",
       "289901                          Un soulier pour un jambon\n",
       "290497                         Tôkyôza katsudô daishashin\n",
       "291909                                Winding the Maypole\n",
       "301813                                Who Said Watermelon\n",
       "\n",
       "[90 rows x 1 columns]"
      ]
     },
     "execution_count": 55,
     "metadata": {},
     "output_type": "execute_result"
    }
   ],
   "source": [
    "# 7. What are the names of the movies made through 1906?\n",
    "\n",
    "titles[titles.year <= 1906][['title']]"
   ]
  },
  {
   "cell_type": "code",
   "execution_count": 56,
   "metadata": {},
   "outputs": [
    {
     "data": {
      "text/html": [
       "<div>\n",
       "<table border=\"1\" class=\"dataframe\">\n",
       "  <thead>\n",
       "    <tr style=\"text-align: right;\">\n",
       "      <th></th>\n",
       "      <th>title</th>\n",
       "      <th>year</th>\n",
       "    </tr>\n",
       "  </thead>\n",
       "  <tbody>\n",
       "    <tr>\n",
       "      <th>230886</th>\n",
       "      <td>Star Trek</td>\n",
       "      <td>2009.0</td>\n",
       "    </tr>\n",
       "    <tr>\n",
       "      <th>216815</th>\n",
       "      <td>Star Trek I: Specter of the Past</td>\n",
       "      <td>2010.0</td>\n",
       "    </tr>\n",
       "    <tr>\n",
       "      <th>220793</th>\n",
       "      <td>Star Trek III: The Search for Spock</td>\n",
       "      <td>1984.0</td>\n",
       "    </tr>\n",
       "    <tr>\n",
       "      <th>228520</th>\n",
       "      <td>Star Trek IV: The Voyage Home</td>\n",
       "      <td>1986.0</td>\n",
       "    </tr>\n",
       "    <tr>\n",
       "      <th>241619</th>\n",
       "      <td>Star Trek Into Darkness</td>\n",
       "      <td>2013.0</td>\n",
       "    </tr>\n",
       "    <tr>\n",
       "      <th>235350</th>\n",
       "      <td>Star Trek V: The Final Frontier</td>\n",
       "      <td>1989.0</td>\n",
       "    </tr>\n",
       "    <tr>\n",
       "      <th>224302</th>\n",
       "      <td>Star Trek VI: The Undiscovered Country</td>\n",
       "      <td>1991.0</td>\n",
       "    </tr>\n",
       "    <tr>\n",
       "      <th>226252</th>\n",
       "      <td>Star Trek World Tour</td>\n",
       "      <td>1998.0</td>\n",
       "    </tr>\n",
       "    <tr>\n",
       "      <th>233186</th>\n",
       "      <td>Star Trek: First Contact</td>\n",
       "      <td>1996.0</td>\n",
       "    </tr>\n",
       "    <tr>\n",
       "      <th>239229</th>\n",
       "      <td>Star Trek: Generations</td>\n",
       "      <td>1994.0</td>\n",
       "    </tr>\n",
       "    <tr>\n",
       "      <th>239946</th>\n",
       "      <td>Star Trek: Horizon</td>\n",
       "      <td>2015.0</td>\n",
       "    </tr>\n",
       "    <tr>\n",
       "      <th>235642</th>\n",
       "      <td>Star Trek: Insurrection</td>\n",
       "      <td>1998.0</td>\n",
       "    </tr>\n",
       "    <tr>\n",
       "      <th>216596</th>\n",
       "      <td>Star Trek: Nemesis</td>\n",
       "      <td>2002.0</td>\n",
       "    </tr>\n",
       "    <tr>\n",
       "      <th>217454</th>\n",
       "      <td>Star Trek: Operation Beta Shield</td>\n",
       "      <td>2008.0</td>\n",
       "    </tr>\n",
       "    <tr>\n",
       "      <th>214796</th>\n",
       "      <td>Star Trek: Temporal Anomaly</td>\n",
       "      <td>2015.0</td>\n",
       "    </tr>\n",
       "    <tr>\n",
       "      <th>233340</th>\n",
       "      <td>Star Trek: The Motion Picture</td>\n",
       "      <td>1979.0</td>\n",
       "    </tr>\n",
       "    <tr>\n",
       "      <th>234570</th>\n",
       "      <td>Star Trek: The Wrath of Khan</td>\n",
       "      <td>1982.0</td>\n",
       "    </tr>\n",
       "    <tr>\n",
       "      <th>221367</th>\n",
       "      <td>Star Trek: USS PAN</td>\n",
       "      <td>2018.0</td>\n",
       "    </tr>\n",
       "    <tr>\n",
       "      <th>229271</th>\n",
       "      <td>Star Trip</td>\n",
       "      <td>2012.0</td>\n",
       "    </tr>\n",
       "    <tr>\n",
       "      <th>222557</th>\n",
       "      <td>Star Vehicle</td>\n",
       "      <td>2010.0</td>\n",
       "    </tr>\n",
       "    <tr>\n",
       "      <th>229768</th>\n",
       "      <td>Star Wars</td>\n",
       "      <td>1977.0</td>\n",
       "    </tr>\n",
       "  </tbody>\n",
       "</table>\n",
       "</div>"
      ],
      "text/plain": [
       "                                         title    year\n",
       "230886                               Star Trek  2009.0\n",
       "216815        Star Trek I: Specter of the Past  2010.0\n",
       "220793     Star Trek III: The Search for Spock  1984.0\n",
       "228520           Star Trek IV: The Voyage Home  1986.0\n",
       "241619                 Star Trek Into Darkness  2013.0\n",
       "235350         Star Trek V: The Final Frontier  1989.0\n",
       "224302  Star Trek VI: The Undiscovered Country  1991.0\n",
       "226252                    Star Trek World Tour  1998.0\n",
       "233186                Star Trek: First Contact  1996.0\n",
       "239229                  Star Trek: Generations  1994.0\n",
       "239946                      Star Trek: Horizon  2015.0\n",
       "235642                 Star Trek: Insurrection  1998.0\n",
       "216596                      Star Trek: Nemesis  2002.0\n",
       "217454        Star Trek: Operation Beta Shield  2008.0\n",
       "214796             Star Trek: Temporal Anomaly  2015.0\n",
       "233340           Star Trek: The Motion Picture  1979.0\n",
       "234570            Star Trek: The Wrath of Khan  1982.0\n",
       "221367                      Star Trek: USS PAN  2018.0\n",
       "229271                               Star Trip  2012.0\n",
       "222557                            Star Vehicle  2010.0\n",
       "229768                               Star Wars  1977.0"
      ]
     },
     "execution_count": 56,
     "metadata": {},
     "output_type": "execute_result"
    }
   ],
   "source": [
    "# 8. What movies have titles that fall between Star Trek and Star Wars in the alphabet?\n",
    "\n",
    "titles[(titles.title >= 'Star Trek') & (titles.title <= 'Star Wars')].sort_values('title')"
   ]
  },
  {
   "cell_type": "code",
   "execution_count": 57,
   "metadata": {},
   "outputs": [
    {
     "data": {
      "text/plain": [
       "Carmen                  20\n",
       "Hamlet                  19\n",
       "Anna Karenina           16\n",
       "Macbeth                 14\n",
       "Kismet                  14\n",
       "The Three Musketeers    13\n",
       "Anna                    13\n",
       "Maya                    13\n",
       "Underground             12\n",
       "Eva                     12\n",
       "Temptation              12\n",
       "Blood Money             12\n",
       "Jackpot                 11\n",
       "The Outsider            11\n",
       "Vendetta                11\n",
       "Name: title, dtype: int64"
      ]
     },
     "execution_count": 57,
     "metadata": {},
     "output_type": "execute_result"
    }
   ],
   "source": [
    "# 9. What are the 15 most common movie titles in film history?\n",
    "\n",
    "titles.title.value_counts().head(15) #value_counts is a quick way to do a groupby, size and sort"
   ]
  },
  {
   "cell_type": "code",
   "execution_count": 58,
   "metadata": {
    "scrolled": false
   },
   "outputs": [
    {
     "name": "stderr",
     "output_type": "stream",
     "text": [
      "/mypath/lib/python3.6/site-packages/ipykernel/__main__.py:7: FutureWarning: sort(columns=....) is deprecated, use sort_values(by=.....)\n"
     ]
    },
    {
     "data": {
      "text/html": [
       "<div>\n",
       "<table border=\"1\" class=\"dataframe\">\n",
       "  <thead>\n",
       "    <tr style=\"text-align: right;\">\n",
       "      <th></th>\n",
       "      <th>title</th>\n",
       "      <th>year</th>\n",
       "      <th>len</th>\n",
       "    </tr>\n",
       "  </thead>\n",
       "  <tbody>\n",
       "    <tr>\n",
       "      <th>184221</th>\n",
       "      <td>Night of the Day of the Dawn of the Son of the Bride of the Return of the Revenge of the Terror of the Attack of the Evil Mutant Hellbound Flesh Eating Crawling Alien Zombified Subhumanoid Living Dead, Part 5</td>\n",
       "      <td>2011.0</td>\n",
       "      <td>208</td>\n",
       "    </tr>\n",
       "    <tr>\n",
       "      <th>178896</th>\n",
       "      <td>Night of the Day of the Dawn of the Son of the Bride of the Return of the Revenge of the Terror of the Attack of the Evil, Mutant, Hellbound, Flesh-Eating Subhumanoid Zombified Living Dead, Part 3</td>\n",
       "      <td>2005.0</td>\n",
       "      <td>196</td>\n",
       "    </tr>\n",
       "    <tr>\n",
       "      <th>138326</th>\n",
       "      <td>Las poquianchis (De los pormenores y otros sucedidos del dominio público que acontecieron a las hermanas de triste memoria a quienes la maledicencia así las bautizó)</td>\n",
       "      <td>1976.0</td>\n",
       "      <td>165</td>\n",
       "    </tr>\n",
       "    <tr>\n",
       "      <th>67489</th>\n",
       "      <td>Entrei em Pânico ao Saber o que Vocês Fizeram na Sexta-feira 13 do Verão Passado Parte 2 - A Hora da Volta da Vingança dos Jogos Mortais de Halloween</td>\n",
       "      <td>2011.0</td>\n",
       "      <td>149</td>\n",
       "    </tr>\n",
       "    <tr>\n",
       "      <th>12366</th>\n",
       "      <td>Ang kaisa-isang konsiyerto ng kagila-gilalas na kombo ni Kumander Kulas at ng kanyang kawawang kalabaw sa walang katapusang kalsada ng Kamyas</td>\n",
       "      <td>2011.0</td>\n",
       "      <td>141</td>\n",
       "    </tr>\n",
       "  </tbody>\n",
       "</table>\n",
       "</div>"
      ],
      "text/plain": [
       "                                                                                                                                                                                                                   title  \\\n",
       "184221  Night of the Day of the Dawn of the Son of the Bride of the Return of the Revenge of the Terror of the Attack of the Evil Mutant Hellbound Flesh Eating Crawling Alien Zombified Subhumanoid Living Dead, Part 5   \n",
       "178896              Night of the Day of the Dawn of the Son of the Bride of the Return of the Revenge of the Terror of the Attack of the Evil, Mutant, Hellbound, Flesh-Eating Subhumanoid Zombified Living Dead, Part 3   \n",
       "138326                                             Las poquianchis (De los pormenores y otros sucedidos del dominio público que acontecieron a las hermanas de triste memoria a quienes la maledicencia así las bautizó)   \n",
       "67489                                                              Entrei em Pânico ao Saber o que Vocês Fizeram na Sexta-feira 13 do Verão Passado Parte 2 - A Hora da Volta da Vingança dos Jogos Mortais de Halloween   \n",
       "12366                                                                      Ang kaisa-isang konsiyerto ng kagila-gilalas na kombo ni Kumander Kulas at ng kanyang kawawang kalabaw sa walang katapusang kalsada ng Kamyas   \n",
       "\n",
       "          year  len  \n",
       "184221  2011.0  208  \n",
       "178896  2005.0  196  \n",
       "138326  1976.0  165  \n",
       "67489   2011.0  149  \n",
       "12366   2011.0  141  "
      ]
     },
     "execution_count": 58,
     "metadata": {},
     "output_type": "execute_result"
    }
   ],
   "source": [
    "# 10. What are the 5 longest movie titles ever?\n",
    "\n",
    "pd.set_option('max_colwidth', 300) #for printing/display purposes\n",
    "\n",
    "t = titles.copy() #so we don't change the original\n",
    "t['len'] = t.title.str.len()\n",
    "t = t.sort('len', ascending=False)\n",
    "t.head()"
   ]
  },
  {
   "cell_type": "code",
   "execution_count": 59,
   "metadata": {},
   "outputs": [
    {
     "name": "stderr",
     "output_type": "stream",
     "text": [
      "/mypath/python3.6/site-packages/ipykernel/__main__.py:4: FutureWarning: currently extract(expand=None) means expand=False (return Index/Series/DataFrame) but in a future version of pandas this will be changed to expand=True (return DataFrame)\n"
     ]
    },
    {
     "data": {
      "text/plain": [
       "                        34\n",
       "Carmen                  20\n",
       "Hamlet                  19\n",
       "Broken                  16\n",
       "Anna Karenina           16\n",
       "Macbeth                 14\n",
       "Kismet                  14\n",
       "The Three Musketeers    13\n",
       "Anna                    13\n",
       "Maya                    13\n",
       "Eva                     12\n",
       "Underground             12\n",
       "Temptation              12\n",
       "Love                    12\n",
       "Blood Money             12\n",
       "Name: title, dtype: int64"
      ]
     },
     "execution_count": 59,
     "metadata": {},
     "output_type": "execute_result"
    }
   ],
   "source": [
    "# 11. What are the 15 most popular movie titles, if you strip off the suffixes like\n",
    "#    (II) and (III) that the IMDB adds to distinguish movies shown in the same year?\n",
    "\n",
    "titles.title.str.extract('^([^(]*)').value_counts().head(15)"
   ]
  },
  {
   "cell_type": "code",
   "execution_count": 60,
   "metadata": {},
   "outputs": [
    {
     "data": {
      "text/plain": [
       "21"
      ]
     },
     "execution_count": 60,
     "metadata": {},
     "output_type": "execute_result"
    }
   ],
   "source": [
    "# 13. In how many of his movies was Sidney Poitier the lead (`n==1`)?\n",
    "\n",
    "len(cast[(cast.name == 'Sidney Poitier') & (cast.n==1)])"
   ]
  },
  {
   "cell_type": "code",
   "execution_count": 61,
   "metadata": {},
   "outputs": [
    {
     "data": {
      "text/html": [
       "<div>\n",
       "<table border=\"1\" class=\"dataframe\">\n",
       "  <thead>\n",
       "    <tr style=\"text-align: right;\">\n",
       "      <th></th>\n",
       "      <th>title</th>\n",
       "      <th>year</th>\n",
       "      <th>name</th>\n",
       "      <th>type</th>\n",
       "      <th>character</th>\n",
       "      <th>n</th>\n",
       "    </tr>\n",
       "  </thead>\n",
       "  <tbody>\n",
       "    <tr>\n",
       "      <th>2814149</th>\n",
       "      <td>Sleuth</td>\n",
       "      <td>1972</td>\n",
       "      <td>Laurence Olivier</td>\n",
       "      <td>actor</td>\n",
       "      <td>Andrew Wyke</td>\n",
       "      <td>1.0</td>\n",
       "    </tr>\n",
       "    <tr>\n",
       "      <th>1984265</th>\n",
       "      <td>Sleuth</td>\n",
       "      <td>1972</td>\n",
       "      <td>Michael Caine</td>\n",
       "      <td>actor</td>\n",
       "      <td>Milo Tindle</td>\n",
       "      <td>2.0</td>\n",
       "    </tr>\n",
       "    <tr>\n",
       "      <th>2003340</th>\n",
       "      <td>Sleuth</td>\n",
       "      <td>1972</td>\n",
       "      <td>Alec Cawthorne</td>\n",
       "      <td>actor</td>\n",
       "      <td>Inspector Doppler</td>\n",
       "      <td>3.0</td>\n",
       "    </tr>\n",
       "    <tr>\n",
       "      <th>2705846</th>\n",
       "      <td>Sleuth</td>\n",
       "      <td>1972</td>\n",
       "      <td>John Matthews (II)</td>\n",
       "      <td>actor</td>\n",
       "      <td>Detective Sergeant Tarrant</td>\n",
       "      <td>4.0</td>\n",
       "    </tr>\n",
       "    <tr>\n",
       "      <th>3291632</th>\n",
       "      <td>Sleuth</td>\n",
       "      <td>1972</td>\n",
       "      <td>Eve Channing (III)</td>\n",
       "      <td>actress</td>\n",
       "      <td>Marguerite Wyke</td>\n",
       "      <td>5.0</td>\n",
       "    </tr>\n",
       "    <tr>\n",
       "      <th>2692692</th>\n",
       "      <td>Sleuth</td>\n",
       "      <td>1972</td>\n",
       "      <td>Teddy Martin</td>\n",
       "      <td>actor</td>\n",
       "      <td>Police Constable Higgs</td>\n",
       "      <td>6.0</td>\n",
       "    </tr>\n",
       "  </tbody>\n",
       "</table>\n",
       "</div>"
      ],
      "text/plain": [
       "          title  year                name     type  \\\n",
       "2814149  Sleuth  1972    Laurence Olivier    actor   \n",
       "1984265  Sleuth  1972       Michael Caine    actor   \n",
       "2003340  Sleuth  1972      Alec Cawthorne    actor   \n",
       "2705846  Sleuth  1972  John Matthews (II)    actor   \n",
       "3291632  Sleuth  1972  Eve Channing (III)  actress   \n",
       "2692692  Sleuth  1972        Teddy Martin    actor   \n",
       "\n",
       "                          character    n  \n",
       "2814149                 Andrew Wyke  1.0  \n",
       "1984265                 Milo Tindle  2.0  \n",
       "2003340           Inspector Doppler  3.0  \n",
       "2705846  Detective Sergeant Tarrant  4.0  \n",
       "3291632             Marguerite Wyke  5.0  \n",
       "2692692      Police Constable Higgs  6.0  "
      ]
     },
     "execution_count": 61,
     "metadata": {},
     "output_type": "execute_result"
    }
   ],
   "source": [
    "# 14. Who was credited in the 1972 version of Sleuth, in order by `n` rank?\n",
    "\n",
    "cast[(cast.title == 'Sleuth') & (cast.year==1972)].sort_values('n')"
   ]
  },
  {
   "cell_type": "code",
   "execution_count": 62,
   "metadata": {},
   "outputs": [
    {
     "data": {
      "text/plain": [
       "Himself      24293\n",
       "Dancer       11697\n",
       "Extra         8865\n",
       "Reporter      7792\n",
       "Doctor        7666\n",
       "Herself       7500\n",
       "Policeman     7245\n",
       "Student       6694\n",
       "Nurse         6635\n",
       "Bartender     6298\n",
       "Zombie        5785\n",
       "Name: character, dtype: int64"
      ]
     },
     "execution_count": 62,
     "metadata": {},
     "output_type": "execute_result"
    }
   ],
   "source": [
    "# 15. What are the 11 most common character names in movie history?\n",
    "\n",
    "cast.character.value_counts().head(11)"
   ]
  },
  {
   "cell_type": "code",
   "execution_count": 63,
   "metadata": {},
   "outputs": [
    {
     "data": {
      "text/plain": [
       "William H. O'Brien    80\n",
       "Jack Chefe            52\n",
       "Gino Corrado          33\n",
       "George Davis          28\n",
       "Alexander Pollard     22\n",
       "Bobby Barber          20\n",
       "Leo White             20\n",
       "Albert Pollet         19\n",
       "Thomas Martin         18\n",
       "Alphonse Martell      15\n",
       "Name: name, dtype: int64"
      ]
     },
     "execution_count": 63,
     "metadata": {},
     "output_type": "execute_result"
    }
   ],
   "source": [
    "# 16. Which actors have played the role “Waiter” the most times?\n",
    "\n",
    "cast[cast.character == 'Waiter'].name.value_counts().head(10)"
   ]
  },
  {
   "cell_type": "code",
   "execution_count": 64,
   "metadata": {},
   "outputs": [
    {
     "data": {
      "text/html": [
       "<div>\n",
       "<table border=\"1\" class=\"dataframe\">\n",
       "  <thead>\n",
       "    <tr style=\"text-align: right;\">\n",
       "      <th></th>\n",
       "      <th>character</th>\n",
       "      <th>character_ct</th>\n",
       "    </tr>\n",
       "  </thead>\n",
       "  <tbody>\n",
       "    <tr>\n",
       "      <th>0</th>\n",
       "      <td>Himself</td>\n",
       "      <td>24293</td>\n",
       "    </tr>\n",
       "    <tr>\n",
       "      <th>1</th>\n",
       "      <td>Dancer</td>\n",
       "      <td>11697</td>\n",
       "    </tr>\n",
       "    <tr>\n",
       "      <th>2</th>\n",
       "      <td>Extra</td>\n",
       "      <td>8865</td>\n",
       "    </tr>\n",
       "    <tr>\n",
       "      <th>3</th>\n",
       "      <td>Reporter</td>\n",
       "      <td>7792</td>\n",
       "    </tr>\n",
       "    <tr>\n",
       "      <th>4</th>\n",
       "      <td>Doctor</td>\n",
       "      <td>7666</td>\n",
       "    </tr>\n",
       "  </tbody>\n",
       "</table>\n",
       "</div>"
      ],
      "text/plain": [
       "  character  character_ct\n",
       "0   Himself         24293\n",
       "1    Dancer         11697\n",
       "2     Extra          8865\n",
       "3  Reporter          7792\n",
       "4    Doctor          7666"
      ]
     },
     "execution_count": 64,
     "metadata": {},
     "output_type": "execute_result"
    }
   ],
   "source": [
    "# 18a. Create a DataFrame with the 50 most common character names in film.\n",
    "chars_top50 = cast.character.value_counts().head(50).reset_index()\n",
    "chars_top50.columns = ['character', 'character_ct']\n",
    "chars_top50.head()"
   ]
  },
  {
   "cell_type": "code",
   "execution_count": 65,
   "metadata": {},
   "outputs": [
    {
     "data": {
      "text/html": [
       "<div>\n",
       "<table border=\"1\" class=\"dataframe\">\n",
       "  <thead>\n",
       "    <tr style=\"text-align: right;\">\n",
       "      <th>type</th>\n",
       "      <th>actor</th>\n",
       "      <th>actress</th>\n",
       "      <th>male_ratio</th>\n",
       "    </tr>\n",
       "    <tr>\n",
       "      <th>character</th>\n",
       "      <th></th>\n",
       "      <th></th>\n",
       "      <th></th>\n",
       "    </tr>\n",
       "  </thead>\n",
       "  <tbody>\n",
       "    <tr>\n",
       "      <th>Townsman</th>\n",
       "      <td>4963</td>\n",
       "      <td>3</td>\n",
       "      <td>0.999396</td>\n",
       "    </tr>\n",
       "    <tr>\n",
       "      <th>John</th>\n",
       "      <td>2628</td>\n",
       "      <td>2</td>\n",
       "      <td>0.999240</td>\n",
       "    </tr>\n",
       "    <tr>\n",
       "      <th>Henchman</th>\n",
       "      <td>4876</td>\n",
       "      <td>4</td>\n",
       "      <td>0.999180</td>\n",
       "    </tr>\n",
       "    <tr>\n",
       "      <th>Policeman</th>\n",
       "      <td>7233</td>\n",
       "      <td>12</td>\n",
       "      <td>0.998344</td>\n",
       "    </tr>\n",
       "    <tr>\n",
       "      <th>Himself</th>\n",
       "      <td>24251</td>\n",
       "      <td>42</td>\n",
       "      <td>0.998271</td>\n",
       "    </tr>\n",
       "  </tbody>\n",
       "</table>\n",
       "</div>"
      ],
      "text/plain": [
       "type       actor  actress  male_ratio\n",
       "character                            \n",
       "Townsman    4963        3    0.999396\n",
       "John        2628        2    0.999240\n",
       "Henchman    4876        4    0.999180\n",
       "Policeman   7233       12    0.998344\n",
       "Himself    24251       42    0.998271"
      ]
     },
     "execution_count": 65,
     "metadata": {},
     "output_type": "execute_result"
    }
   ],
   "source": [
    "#18b  Which are most often played by men?\n",
    "chars_by_type = chars_top50.merge(cast).groupby(['character', 'type']).size()\n",
    "chars_by_type = chars_by_type .unstack() #unstack will take indices with multiple levels an unstack them\n",
    "chars_by_type['male_ratio'] = chars_by_type.actor / (chars_by_type.actor + chars_by_type.actress)\n",
    "chars_by_type = chars_by_type.sort_values('male_ratio', ascending=0)\n",
    "chars_by_type.head(5)"
   ]
  },
  {
   "cell_type": "code",
   "execution_count": 66,
   "metadata": {},
   "outputs": [
    {
     "data": {
      "text/html": [
       "<div>\n",
       "<table border=\"1\" class=\"dataframe\">\n",
       "  <thead>\n",
       "    <tr style=\"text-align: right;\">\n",
       "      <th>type</th>\n",
       "      <th>actor</th>\n",
       "      <th>actress</th>\n",
       "      <th>male_ratio</th>\n",
       "    </tr>\n",
       "    <tr>\n",
       "      <th>character</th>\n",
       "      <th></th>\n",
       "      <th></th>\n",
       "      <th></th>\n",
       "    </tr>\n",
       "  </thead>\n",
       "  <tbody>\n",
       "    <tr>\n",
       "      <th>Anna</th>\n",
       "      <td>86</td>\n",
       "      <td>2868</td>\n",
       "      <td>0.029113</td>\n",
       "    </tr>\n",
       "    <tr>\n",
       "      <th>Mary</th>\n",
       "      <td>46</td>\n",
       "      <td>2232</td>\n",
       "      <td>0.020193</td>\n",
       "    </tr>\n",
       "    <tr>\n",
       "      <th>Girl</th>\n",
       "      <td>43</td>\n",
       "      <td>2512</td>\n",
       "      <td>0.016830</td>\n",
       "    </tr>\n",
       "    <tr>\n",
       "      <th>Maria</th>\n",
       "      <td>27</td>\n",
       "      <td>3080</td>\n",
       "      <td>0.008690</td>\n",
       "    </tr>\n",
       "    <tr>\n",
       "      <th>Herself</th>\n",
       "      <td>59</td>\n",
       "      <td>7441</td>\n",
       "      <td>0.007867</td>\n",
       "    </tr>\n",
       "  </tbody>\n",
       "</table>\n",
       "</div>"
      ],
      "text/plain": [
       "type       actor  actress  male_ratio\n",
       "character                            \n",
       "Anna          86     2868    0.029113\n",
       "Mary          46     2232    0.020193\n",
       "Girl          43     2512    0.016830\n",
       "Maria         27     3080    0.008690\n",
       "Herself       59     7441    0.007867"
      ]
     },
     "execution_count": 66,
     "metadata": {},
     "output_type": "execute_result"
    }
   ],
   "source": [
    "#18c  Which are most often played by men?\n",
    "chars_by_type.tail(5)"
   ]
  },
  {
   "cell_type": "code",
   "execution_count": 67,
   "metadata": {},
   "outputs": [
    {
     "data": {
      "text/html": [
       "<div>\n",
       "<table border=\"1\" class=\"dataframe\">\n",
       "  <thead>\n",
       "    <tr style=\"text-align: right;\">\n",
       "      <th>type</th>\n",
       "      <th>actor</th>\n",
       "      <th>actress</th>\n",
       "      <th>male_ratio</th>\n",
       "    </tr>\n",
       "    <tr>\n",
       "      <th>character</th>\n",
       "      <th></th>\n",
       "      <th></th>\n",
       "      <th></th>\n",
       "    </tr>\n",
       "  </thead>\n",
       "  <tbody>\n",
       "    <tr>\n",
       "      <th>Student</th>\n",
       "      <td>3845</td>\n",
       "      <td>2849</td>\n",
       "      <td>0.574395</td>\n",
       "    </tr>\n",
       "    <tr>\n",
       "      <th>Singer</th>\n",
       "      <td>1706</td>\n",
       "      <td>1811</td>\n",
       "      <td>0.485073</td>\n",
       "    </tr>\n",
       "    <tr>\n",
       "      <th>Teacher</th>\n",
       "      <td>1079</td>\n",
       "      <td>1234</td>\n",
       "      <td>0.466494</td>\n",
       "    </tr>\n",
       "  </tbody>\n",
       "</table>\n",
       "</div>"
      ],
      "text/plain": [
       "type       actor  actress  male_ratio\n",
       "character                            \n",
       "Student     3845     2849    0.574395\n",
       "Singer      1706     1811    0.485073\n",
       "Teacher     1079     1234    0.466494"
      ]
     },
     "execution_count": 67,
     "metadata": {},
     "output_type": "execute_result"
    }
   ],
   "source": [
    "# 18d. …which of those 50 characters have a ratio closest to 0.5?\n",
    "chars_by_type[(chars_by_type.male_ratio > 0.4) & (chars_by_type.male_ratio < 0.6)]"
   ]
  },
  {
   "cell_type": "markdown",
   "metadata": {},
   "source": [
    "### Who has been in the most movies"
   ]
  },
  {
   "cell_type": "code",
   "execution_count": 68,
   "metadata": {},
   "outputs": [
    {
     "data": {
      "text/plain": [
       "Nestore Cavaricci       14\n",
       "Akira Takahashi (II)    13\n",
       "Tom Felleghy            13\n",
       "Timuçin Caymaz          13\n",
       "Dharmendra              12\n",
       "Naomi Oka               12\n",
       "Aruna Irani             12\n",
       "Femi Benussi            11\n",
       "Helen                   11\n",
       "Asrani                  11\n",
       "Name: name, dtype: int64"
      ]
     },
     "execution_count": 68,
     "metadata": {},
     "output_type": "execute_result"
    }
   ],
   "source": [
    "# 19. Which actors or actresses appeared in the most movies in the year 1975?\n",
    "cast[cast.year == 1975].name.value_counts().head(10)"
   ]
  },
  {
   "cell_type": "code",
   "execution_count": 69,
   "metadata": {},
   "outputs": [
    {
     "name": "stdout",
     "output_type": "stream",
     "text": [
      "CPU times: user 12.3 s, sys: 751 ms, total: 13.1 s\n",
      "Wall time: 13.1 s\n"
     ]
    }
   ],
   "source": [
    "%%time\n",
    "# 20. Create a `cast_by_title_year` dataframe indexed by title and year\n",
    "#    to use in the next few questions.\n",
    "\n",
    "#indexing can speed up opertions in which we will often filter or sort by the indexed columns\n",
    "\n",
    "cast_by_title_year = cast.set_index(['title', 'year']).sort_index()\n",
    "cast_by_title_year.head()"
   ]
  },
  {
   "cell_type": "code",
   "execution_count": 70,
   "metadata": {},
   "outputs": [
    {
     "name": "stdout",
     "output_type": "stream",
     "text": [
      "Mark Hamill 42\n",
      "Harrison Ford 44\n",
      "Carrie Fisher 40\n",
      "Peter Cushing 10\n",
      "Alec Guinness 9\n",
      "Anthony Daniels 11\n",
      "Kenny Baker 18\n",
      "Peter Mayhew (II) 7\n",
      "David Prowse 5\n",
      "CPU times: user 4.99 s, sys: 55.1 ms, total: 5.05 s\n",
      "Wall time: 5.03 s\n"
     ]
    }
   ],
   "source": [
    "%%time\n",
    "# 22. Write a `for` loop that, for the top 9 actors in the 1977 movie Star Wars,\n",
    "#    determines how many movies they starred in after 1977.\n",
    "\n",
    "names = cast_by_title_year[cast_by_title_year.n > -1].loc['Star Wars',1977].sort_values('n').head(9).name\n",
    "for name in names:\n",
    "    print(name, len(cast[(cast.name == name) & (cast.year > 1977)]))"
   ]
  },
  {
   "cell_type": "code",
   "execution_count": 71,
   "metadata": {},
   "outputs": [
    {
     "name": "stdout",
     "output_type": "stream",
     "text": [
      "CPU times: user 19.4 s, sys: 311 ms, total: 19.7 s\n",
      "Wall time: 19.7 s\n"
     ]
    }
   ],
   "source": [
    "%%time\n",
    "# 23. Create an indexed version of `cast` that, once built, lets you answer\n",
    "#    the previous question with a `for` loop that finishes in under a second.\n",
    "\n",
    "i = cast.set_index('name').sort_index()"
   ]
  },
  {
   "cell_type": "code",
   "execution_count": 72,
   "metadata": {},
   "outputs": [
    {
     "name": "stdout",
     "output_type": "stream",
     "text": [
      "Mark Hamill 42\n",
      "Harrison Ford 44\n",
      "Carrie Fisher 40\n",
      "Peter Cushing 10\n",
      "Alec Guinness 9\n",
      "Anthony Daniels 11\n",
      "Kenny Baker 18\n",
      "Peter Mayhew (II) 7\n",
      "David Prowse 5\n",
      "CPU times: user 2.1 s, sys: 23.3 ms, total: 2.12 s\n",
      "Wall time: 2.13 s\n"
     ]
    }
   ],
   "source": [
    "%%time\n",
    "for name in names:\n",
    "    c = i.loc[name]\n",
    "    c = c[c.year > 1977]\n",
    "    #c = c[(c.character != 'Himself') & (c.character != 'Herself')]\n",
    "    print(name, len(c))"
   ]
  },
  {
   "cell_type": "code",
   "execution_count": 73,
   "metadata": {},
   "outputs": [
    {
     "data": {
      "text/plain": [
       "year\n",
       "1910     1\n",
       "1911     6\n",
       "1913    21\n",
       "1921     9\n",
       "1948    25\n",
       "1954     1\n",
       "1964    33\n",
       "1969    24\n",
       "1973     8\n",
       "1976    11\n",
       "1987     3\n",
       "1990    29\n",
       "1996    55\n",
       "2000    38\n",
       "2009    17\n",
       "2011    12\n",
       "2015     6\n",
       "dtype: int64"
      ]
     },
     "execution_count": 73,
     "metadata": {},
     "output_type": "execute_result"
    }
   ],
   "source": [
    "# 24. How many people were cast in each of the movies named \"Hamlet”?\n",
    "\n",
    "cast[cast.title == 'Hamlet'].groupby('year').size() "
   ]
  },
  {
   "cell_type": "code",
   "execution_count": 74,
   "metadata": {},
   "outputs": [
    {
     "data": {
      "text/plain": [
       "1986.5"
      ]
     },
     "execution_count": 74,
     "metadata": {},
     "output_type": "execute_result"
    }
   ],
   "source": [
    "# 25a. Define “leading actor” as an actor or actress whose `n==1`\n",
    "#    and “supporting actor” as `n==2` — what is the average year\n",
    "#    of all the supporting roles Judi Dench has had?\n",
    "\n",
    "cast[(cast.name == 'Judi Dench') & (cast.n==2)].year.median()"
   ]
  },
  {
   "cell_type": "code",
   "execution_count": 75,
   "metadata": {},
   "outputs": [
    {
     "data": {
      "text/plain": [
       "2005.5"
      ]
     },
     "execution_count": 75,
     "metadata": {},
     "output_type": "execute_result"
    }
   ],
   "source": [
    "# 25b. What is the average year of Judi Dench’s leading roles —\n",
    "#    is her career moving forwards toward leading roles\n",
    "#    or backwards towards supporting ones?\n",
    "\n",
    "cast[(cast.name == 'Judi Dench') & (cast.n==1)].year.median()"
   ]
  },
  {
   "cell_type": "code",
   "execution_count": 76,
   "metadata": {},
   "outputs": [
    {
     "data": {
      "text/plain": [
       "11    19\n",
       "12    11\n",
       "10     9\n",
       "1      2\n",
       "7      1\n",
       "4      1\n",
       "2      1\n",
       "Name: date, dtype: int64"
      ]
     },
     "execution_count": 76,
     "metadata": {},
     "output_type": "execute_result"
    }
   ],
   "source": [
    "# 26. In which months is a movie whose name ends in the word \"Christmas\"\n",
    "#    most likely to be released?\n",
    "\n",
    "release_dates[(release_dates.title.str.endswith('Christmas')) & (release_dates.country == 'USA')].date.dt.month.value_counts()"
   ]
  },
  {
   "cell_type": "code",
   "execution_count": null,
   "metadata": {
    "collapsed": true
   },
   "outputs": [],
   "source": []
  }
 ],
 "metadata": {
  "hide_input": false,
  "kernelspec": {
   "display_name": "Data Science for SIGINT (Python 3)",
   "language": "python",
   "name": "python3ds"
  },
  "language_info": {
   "codemirror_mode": {
    "name": "ipython",
    "version": 3
   },
   "file_extension": ".py",
   "mimetype": "text/x-python",
   "name": "python",
   "nbconvert_exporter": "python",
   "pygments_lexer": "ipython3",
   "version": "3.6.3"
  },
  "toc": {
   "nav_menu": {},
   "number_sections": true,
   "sideBar": true,
   "skip_h1_title": true,
   "toc_cell": false,
   "toc_position": {},
   "toc_section_display": "block",
   "toc_window_display": false
  },
  "varInspector": {
   "cols": {
    "lenName": 16,
    "lenType": 16,
    "lenVar": 40
   },
   "kernels_config": {
    "python": {
     "delete_cmd_postfix": "",
     "delete_cmd_prefix": "del ",
     "library": "var_list.py",
     "varRefreshCmd": "print(var_dic_list())"
    },
    "r": {
     "delete_cmd_postfix": ") ",
     "delete_cmd_prefix": "rm(",
     "library": "var_list.r",
     "varRefreshCmd": "cat(var_dic_list()) "
    }
   },
   "types_to_exclude": [
    "module",
    "function",
    "builtin_function_or_method",
    "instance",
    "_Feature"
   ],
   "window_display": false
  }
 },
 "nbformat": 4,
 "nbformat_minor": 1
}
