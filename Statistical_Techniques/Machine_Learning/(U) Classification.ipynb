{
 "cells": [
  {
   "cell_type": "markdown",
   "metadata": {},
   "source": [
    "## CLASSIFICATION: UNCLASSIFIED"
   ]
  },
  {
   "cell_type": "markdown",
   "metadata": {
    "deletable": true,
    "editable": true
   },
   "source": [
    "## Data Preparation and Supervised Learning (Classification)\n",
    "### Logistic Regression, Decision Trees and Random Forests\n",
    "\n",
    "Supervised learning comes in two flavours, depending on the prediction task, namely:\n",
    "\n",
    "* classification: the prediction task is to choose from a finite set of outcomes (discrete);\n",
    "* regression: the prediction task is continuous, possibly restricted to some range;\n",
    "\n",
    "In this notebook, we consider the following classification problem: classify the passengers of the Titanic as ''surviving'' or ''non-surviving'', using a handful of features. We will first look at data preparation, namely:\n",
    "\n",
    "* 1-hot encoding for categorical features\n",
    "* simple imputation for missing features, and\n",
    "* dividing the data into training, (validation) and test sets.\n",
    "\n",
    "We will then apply a few simple classifiers, namely:\n",
    "\n",
    "* logistic regression\n",
    "* decision trees\n",
    "* random forests\n",
    "\n",
    "and illustrate a few diagnostic tools:\n",
    "\n",
    "* feature (or variable) importance measures\n",
    "* data visualisation\n"
   ]
  },
  {
   "cell_type": "markdown",
   "metadata": {
    "deletable": true,
    "editable": true
   },
   "source": [
    "## Loading csv data\n",
    "\n",
    "We load the data into a pandas table (like a data frame in R); \n",
    "typically, each row is an instance, and each column is a feature.\n",
    "In this case, the value we wish to model ('survived') is included as a column,\n",
    "and we extract it in a separate vector.\n",
    "We load the data from a csv (comma separated values) file."
   ]
  },
  {
   "cell_type": "code",
   "execution_count": 1,
   "metadata": {
    "collapsed": false,
    "deletable": true,
    "editable": true
   },
   "outputs": [
    {
     "data": {
      "text/html": [
       "<div>\n",
       "<table border=\"1\" class=\"dataframe\">\n",
       "  <thead>\n",
       "    <tr style=\"text-align: right;\">\n",
       "      <th></th>\n",
       "      <th>pclass</th>\n",
       "      <th>survived</th>\n",
       "      <th>name</th>\n",
       "      <th>sex</th>\n",
       "      <th>age</th>\n",
       "      <th>sibsp</th>\n",
       "      <th>parch</th>\n",
       "      <th>ticket</th>\n",
       "      <th>fare</th>\n",
       "      <th>cabin</th>\n",
       "      <th>embarked</th>\n",
       "      <th>boat</th>\n",
       "      <th>body</th>\n",
       "      <th>home.dest</th>\n",
       "    </tr>\n",
       "  </thead>\n",
       "  <tbody>\n",
       "    <tr>\n",
       "      <th>0</th>\n",
       "      <td>1</td>\n",
       "      <td>1</td>\n",
       "      <td>Allen, Miss. Elisabeth Walton</td>\n",
       "      <td>female</td>\n",
       "      <td>29.0000</td>\n",
       "      <td>0</td>\n",
       "      <td>0</td>\n",
       "      <td>24160</td>\n",
       "      <td>211.3375</td>\n",
       "      <td>B5</td>\n",
       "      <td>S</td>\n",
       "      <td>2</td>\n",
       "      <td>NaN</td>\n",
       "      <td>St Louis, MO</td>\n",
       "    </tr>\n",
       "    <tr>\n",
       "      <th>1</th>\n",
       "      <td>1</td>\n",
       "      <td>1</td>\n",
       "      <td>Allison, Master. Hudson Trevor</td>\n",
       "      <td>male</td>\n",
       "      <td>0.9167</td>\n",
       "      <td>1</td>\n",
       "      <td>2</td>\n",
       "      <td>113781</td>\n",
       "      <td>151.5500</td>\n",
       "      <td>C22 C26</td>\n",
       "      <td>S</td>\n",
       "      <td>11</td>\n",
       "      <td>NaN</td>\n",
       "      <td>Montreal, PQ / Chesterville, ON</td>\n",
       "    </tr>\n",
       "    <tr>\n",
       "      <th>2</th>\n",
       "      <td>1</td>\n",
       "      <td>0</td>\n",
       "      <td>Allison, Miss. Helen Loraine</td>\n",
       "      <td>female</td>\n",
       "      <td>2.0000</td>\n",
       "      <td>1</td>\n",
       "      <td>2</td>\n",
       "      <td>113781</td>\n",
       "      <td>151.5500</td>\n",
       "      <td>C22 C26</td>\n",
       "      <td>S</td>\n",
       "      <td>NaN</td>\n",
       "      <td>NaN</td>\n",
       "      <td>Montreal, PQ / Chesterville, ON</td>\n",
       "    </tr>\n",
       "    <tr>\n",
       "      <th>3</th>\n",
       "      <td>1</td>\n",
       "      <td>0</td>\n",
       "      <td>Allison, Mr. Hudson Joshua Creighton</td>\n",
       "      <td>male</td>\n",
       "      <td>30.0000</td>\n",
       "      <td>1</td>\n",
       "      <td>2</td>\n",
       "      <td>113781</td>\n",
       "      <td>151.5500</td>\n",
       "      <td>C22 C26</td>\n",
       "      <td>S</td>\n",
       "      <td>NaN</td>\n",
       "      <td>135.0</td>\n",
       "      <td>Montreal, PQ / Chesterville, ON</td>\n",
       "    </tr>\n",
       "    <tr>\n",
       "      <th>4</th>\n",
       "      <td>1</td>\n",
       "      <td>0</td>\n",
       "      <td>Allison, Mrs. Hudson J C (Bessie Waldo Daniels)</td>\n",
       "      <td>female</td>\n",
       "      <td>25.0000</td>\n",
       "      <td>1</td>\n",
       "      <td>2</td>\n",
       "      <td>113781</td>\n",
       "      <td>151.5500</td>\n",
       "      <td>C22 C26</td>\n",
       "      <td>S</td>\n",
       "      <td>NaN</td>\n",
       "      <td>NaN</td>\n",
       "      <td>Montreal, PQ / Chesterville, ON</td>\n",
       "    </tr>\n",
       "  </tbody>\n",
       "</table>\n",
       "</div>"
      ],
      "text/plain": [
       "   pclass  survived                                             name     sex  \\\n",
       "0       1         1                    Allen, Miss. Elisabeth Walton  female   \n",
       "1       1         1                   Allison, Master. Hudson Trevor    male   \n",
       "2       1         0                     Allison, Miss. Helen Loraine  female   \n",
       "3       1         0             Allison, Mr. Hudson Joshua Creighton    male   \n",
       "4       1         0  Allison, Mrs. Hudson J C (Bessie Waldo Daniels)  female   \n",
       "\n",
       "       age  sibsp  parch  ticket      fare    cabin embarked boat   body  \\\n",
       "0  29.0000      0      0   24160  211.3375       B5        S    2    NaN   \n",
       "1   0.9167      1      2  113781  151.5500  C22 C26        S   11    NaN   \n",
       "2   2.0000      1      2  113781  151.5500  C22 C26        S  NaN    NaN   \n",
       "3  30.0000      1      2  113781  151.5500  C22 C26        S  NaN  135.0   \n",
       "4  25.0000      1      2  113781  151.5500  C22 C26        S  NaN    NaN   \n",
       "\n",
       "                         home.dest  \n",
       "0                     St Louis, MO  \n",
       "1  Montreal, PQ / Chesterville, ON  \n",
       "2  Montreal, PQ / Chesterville, ON  \n",
       "3  Montreal, PQ / Chesterville, ON  \n",
       "4  Montreal, PQ / Chesterville, ON  "
      ]
     },
     "execution_count": 1,
     "metadata": {},
     "output_type": "execute_result"
    }
   ],
   "source": [
    "## Titanic survival data\n",
    "from IPython.core.display import Image\n",
    "import pandas as pd\n",
    "import numpy as np\n",
    "\n",
    "import get_data\n",
    "get_data.get_file(\"titanic3.csv\", \"../data/\")\n",
    "\n",
    "titanic = pd.read_csv('../data/titanic3.csv')\n",
    "labels = titanic.survived.values\n",
    "titanic.head()"
   ]
  },
  {
   "cell_type": "markdown",
   "metadata": {
    "deletable": true,
    "editable": true
   },
   "source": [
    "Here is a description of the columns: \n",
    "```\n",
    "pclass          Passenger Class\n",
    "                (1 = 1st; 2 = 2nd; 3 = 3rd)\n",
    "survival        Survival\n",
    "                (0 = No; 1 = Yes)\n",
    "name            Name\n",
    "sex             Sex\n",
    "age             Age\n",
    "sibsp           Number of Siblings/Spouses Aboard\n",
    "parch           Number of Parents/Children Aboard\n",
    "ticket          Ticket Number\n",
    "fare            Passenger Fare\n",
    "cabin           Cabin\n",
    "embarked        Port of Embarkation\n",
    "                (C = Cherbourg; Q = Queenstown; S = Southampton)\n",
    "boat            Lifeboat\n",
    "body            Body Identification Number\n",
    "home.dest       Home/Destination\n",
    "```\n"
   ]
  },
  {
   "cell_type": "markdown",
   "metadata": {
    "deletable": true,
    "editable": true
   },
   "source": [
    "## Feature selection and preparation\n",
    "\n",
    "Some columns (ex: name) are not relevant for our task. We extract a subset of the columns\n",
    "that have the potential of being useful predictors. There are several types of features:\n",
    "\n",
    "* Numerical features, such as 'age', 'sibsp' and 'fare'\n",
    "* Categorical features, for example 'pclass', 'sex' and 'embarked'\n",
    "\n",
    "There are special types of categorical features, namely:\n",
    "\n",
    "* Binary features (such as 'sex') which take on 2 possible values; we commonly encode such features as 0 or 1;\n",
    "* Ordinal features (such as 'pclass'), where the categories can be ordered; we can encode such features numerically (for example, with successive integers), but it may not be clear how to choose the values to reflect the true scale. We can also use 1-hot encoding as with non-ordinal features (see below).\n",
    "\n",
    "### 1-hot encoding\n",
    "\n",
    "This is a commonly used method with categorical features. For each possible category, we create a new binary feature, which takes on value 1 only for instances with this category, and 0 otherwise. For category 'sex', two new features are created:\n"
   ]
  },
  {
   "cell_type": "code",
   "execution_count": 2,
   "metadata": {
    "collapsed": false,
    "deletable": true,
    "editable": true
   },
   "outputs": [
    {
     "data": {
      "text/html": [
       "<div>\n",
       "<table border=\"1\" class=\"dataframe\">\n",
       "  <thead>\n",
       "    <tr style=\"text-align: right;\">\n",
       "      <th></th>\n",
       "      <th>sex_female</th>\n",
       "      <th>sex_male</th>\n",
       "    </tr>\n",
       "  </thead>\n",
       "  <tbody>\n",
       "    <tr>\n",
       "      <th>0</th>\n",
       "      <td>1</td>\n",
       "      <td>0</td>\n",
       "    </tr>\n",
       "    <tr>\n",
       "      <th>1</th>\n",
       "      <td>0</td>\n",
       "      <td>1</td>\n",
       "    </tr>\n",
       "    <tr>\n",
       "      <th>2</th>\n",
       "      <td>1</td>\n",
       "      <td>0</td>\n",
       "    </tr>\n",
       "    <tr>\n",
       "      <th>3</th>\n",
       "      <td>0</td>\n",
       "      <td>1</td>\n",
       "    </tr>\n",
       "    <tr>\n",
       "      <th>4</th>\n",
       "      <td>1</td>\n",
       "      <td>0</td>\n",
       "    </tr>\n",
       "  </tbody>\n",
       "</table>\n",
       "</div>"
      ],
      "text/plain": [
       "   sex_female  sex_male\n",
       "0           1         0\n",
       "1           0         1\n",
       "2           1         0\n",
       "3           0         1\n",
       "4           1         0"
      ]
     },
     "execution_count": 2,
     "metadata": {},
     "output_type": "execute_result"
    }
   ],
   "source": [
    "## example of 1-hot encoding\n",
    "pd.get_dummies(titanic[['sex']]).head()"
   ]
  },
  {
   "cell_type": "markdown",
   "metadata": {
    "deletable": true,
    "editable": true
   },
   "source": [
    "### Prepare data: select feature and apply 1-hot encoding\n",
    "\n",
    "Below, we select a subset of the columns, apply 1-hot encoding to the categorical features, and build an array with those new columns. The resulting format is known as a ''numpy array'', here of dimensions 1309 x 12."
   ]
  },
  {
   "cell_type": "code",
   "execution_count": 3,
   "metadata": {
    "collapsed": false,
    "deletable": true,
    "editable": true
   },
   "outputs": [
    {
     "data": {
      "text/plain": [
       "(1309, 12)"
      ]
     },
     "execution_count": 3,
     "metadata": {},
     "output_type": "execute_result"
    }
   ],
   "source": [
    "## pick a subset of columns\n",
    "features = titanic[['pclass', 'sex', 'age', 'sibsp', 'parch', 'fare', 'embarked']]\n",
    "\n",
    "## 1-hot encoding (a.k.a. dummy variables) for categorical features\n",
    "features_categ = pd.get_dummies(features, columns=['pclass', 'sex', 'embarked'])\n",
    "data = features_categ.values ## numpy array\n",
    "data.shape"
   ]
  },
  {
   "cell_type": "markdown",
   "metadata": {
    "deletable": true,
    "editable": true
   },
   "source": [
    "### Training, Validation and Test Subsets \n",
    "\n",
    "A supervised classification model is designed to label new data.\n",
    "In order to test this ability to ''generalize'', we usually divide the training data, for which \n",
    "we have known labels, into 2 sets, namely:\n",
    "\n",
    "* a training set, which is used to build the model, and\n",
    "* a test set, used to measure its performance."
   ]
  },
  {
   "cell_type": "code",
   "execution_count": 4,
   "metadata": {
    "collapsed": false,
    "deletable": true,
    "editable": true,
    "scrolled": true
   },
   "outputs": [
    {
     "data": {
      "image/png": "[encoded data removed]",
      "text/plain": [
       "<IPython.core.display.Image object>"
      ]
     },
     "execution_count": 4,
     "metadata": {
      "image/png": {
       "width": 350
      }
     },
     "output_type": "execute_result"
    }
   ],
   "source": [
    "Image(\"./trainTest.png\",width=350)"
   ]
  },
  {
   "cell_type": "markdown",
   "metadata": {
    "deletable": true,
    "editable": true
   },
   "source": [
    "Measuring performance on the training set is a common error that leads to problems such as 'overfitting'.\n",
    "\n",
    "Cross-validation refers to a procedure where the data in divided into $k$ subsets of roughly equal size, and each subset in turn is used as the test set, with the rest of the data used for training.\n",
    "\n",
    "For some models, it is necessary to set some parameters empirically, in which case the data is usually\n",
    "divided in three sets:\n",
    "\n",
    "* a training set, which is used to build the model, and\n",
    "* a validation set, which is used to measure the performance w.r.t. various choices of parameters, and\n",
    "* a test set, used to measure the performance of the final model.\n"
   ]
  },
  {
   "cell_type": "code",
   "execution_count": 5,
   "metadata": {
    "collapsed": false,
    "deletable": true,
    "editable": true
   },
   "outputs": [],
   "source": [
    "## train/test split\n",
    "## we use 2/3 for training, 1/3 for testing\n",
    "from sklearn.model_selection import train_test_split\n",
    "X_train, X_test, Y_train, Y_test = train_test_split(data, labels, test_size = 0.33)\n"
   ]
  },
  {
   "cell_type": "markdown",
   "metadata": {
    "deletable": true,
    "editable": true
   },
   "source": [
    "### Missing Values\n",
    "\n",
    "Several supervised learning algorithms can not handle missing values in the features, so we need to apply ''imputation'' to fill in those values. Some simple imputation methods are to replace the missing value(s) in a column with either:\n",
    "\n",
    "* the column mean,\n",
    "* the column median,\n",
    "* the column mode (most frequent value).\n",
    "\n",
    "We use the column mean below. \n",
    "Note that the imputation model is built on the ''training'' data.\n"
   ]
  },
  {
   "cell_type": "code",
   "execution_count": 6,
   "metadata": {
    "collapsed": false,
    "deletable": true,
    "editable": true
   },
   "outputs": [
    {
     "name": "stdout",
     "output_type": "stream",
     "text": [
      "missing before imputation: 178 after: 0\n"
     ]
    }
   ],
   "source": [
    "## impute missings with mean column value\n",
    "from sklearn.preprocessing import Imputer\n",
    "\n",
    "## impute missing values with column mean (from training set)\n",
    "## other common strategies are: median value, most common value.\n",
    "imp = Imputer(strategy='mean')\n",
    "imp.fit(X_train)\n",
    "X_train_clean = imp.transform(X_train)\n",
    "\n",
    "## impute missings for test set\n",
    "X_test_clean = imp.transform(X_test)\n",
    "\n",
    "## number of missing values before and after\n",
    "print('missing before imputation:',np.isnan(X_train).sum(),'after:',np.isnan(X_train_clean).sum())"
   ]
  },
  {
   "cell_type": "markdown",
   "metadata": {
    "deletable": true,
    "editable": true
   },
   "source": [
    "# Logistic Regression\n",
    "\n",
    "In its most commonly used version, \n",
    "logistic regression is a regression model over a ''binary'' response variable:\n",
    "$Y \\in \\{0, 1\\}$ and a set of explanatory variables (features) $X=(X_1,...,X_k)$\n",
    "which can be numerical or categorical. Categorical features are typically 1-hot encoded\n",
    "first. The model learns the conditional probability: \n",
    "\n",
    "$$\n",
    "\\Pi_i = Pr\\left(Y_i=1 ~|~ X_i = (X_{i,1},...,X_{i,k})\\right).\n",
    "$$\n",
    "\n",
    "The model is of the following form:\n",
    "\n",
    "$$\n",
    "\\log\\left(\\frac{\\Pi_i}{1-\\Pi_i}\\right) = \\beta_0 + \\beta_1 X_{i,1} + ... + \\beta_k X_{i,k}\n",
    "$$\n",
    "\n",
    "For classification, we use the prediction $Y_i = 1$ if $\\Pi_i \\ge \\Theta$, or $Y_1 = 0 $ otherwise,\n",
    "with $\\Theta = 0.5$ the default threshold.\n",
    "\n",
    "The coefficients $\\beta_i$ are interpretable, their sign and magnitude being an indication of the effect of the predictor on the response variable.\n",
    "\n",
    "With our training data already prepared (1-hot encoding for categoricals, imputation for missing values), we train a logistic regression model for the Titanic data.\n"
   ]
  },
  {
   "cell_type": "code",
   "execution_count": 7,
   "metadata": {
    "collapsed": false,
    "deletable": true,
    "editable": true
   },
   "outputs": [],
   "source": [
    "## Logistic regression\n",
    "## fit the model with training data\n",
    "from sklearn.linear_model import LogisticRegression\n",
    "logReg = LogisticRegression()\n",
    "logReg.fit(X_train_clean, Y_train);\n"
   ]
  },
  {
   "cell_type": "markdown",
   "metadata": {
    "deletable": true,
    "editable": true
   },
   "source": [
    "### Prediction (on the test data)\n",
    "\n",
    "Next, we apply the logistic regression model to the test data in two different ways:\n",
    "\n",
    "* predict the probabilities (the $\\Pi_i$), and\n",
    "* predict the response (the $Y_i$).\n",
    "\n",
    "We compare the predicted responses with the true labels and compute the accuracy score."
   ]
  },
  {
   "cell_type": "code",
   "execution_count": 8,
   "metadata": {
    "collapsed": false,
    "deletable": true,
    "editable": true
   },
   "outputs": [
    {
     "name": "stdout",
     "output_type": "stream",
     "text": [
      "[[ 0.86897535  0.13102465]\n",
      " [ 0.73817908  0.26182092]\n",
      " [ 0.97567715  0.02432285]\n",
      " [ 0.24848639  0.75151361]\n",
      " [ 0.72554133  0.27445867]] \n",
      "\n",
      "[0 0 0 1 0] \n",
      "\n",
      "accuracy = 0.770833333333\n"
     ]
    }
   ],
   "source": [
    "## 1. predict the probabilities [P(not survived), P(survived)]\n",
    "##    print first 5\n",
    "proba = logReg.predict_proba(X_test_clean)\n",
    "print(proba[:5],'\\n')\n",
    "\n",
    "## 2. predict the actual (binary) class (1=survived, 0=not)\n",
    "##    print first 5\n",
    "pred = logReg.predict(X_test_clean)\n",
    "print(pred[:5],'\\n')\n",
    "\n",
    "## 3. accuracy score: proportion correctly labelled\n",
    "print('accuracy =',logReg.score(X_test_clean, Y_test))\n"
   ]
  },
  {
   "cell_type": "markdown",
   "metadata": {
    "deletable": true,
    "editable": true
   },
   "source": [
    "### Coefficients\n",
    "\n",
    "Next, we look at the coefficients corresponding to the features, the $\\beta_j$. There are some clear interpretations from those, such as:\n",
    "\n",
    "* the strong correlation between the passenger class (1st, 2nd, 3rd) and survival;\n",
    "* the strong correlation between gender and survival, and\n",
    "* some (surprising?) correlation between port of embarkation and survival."
   ]
  },
  {
   "cell_type": "code",
   "execution_count": 9,
   "metadata": {
    "collapsed": false,
    "deletable": true,
    "editable": true
   },
   "outputs": [
    {
     "name": "stdout",
     "output_type": "stream",
     "text": [
      "            logReg coefficient\n",
      "age                  -0.035276\n",
      "sibsp                -0.318053\n",
      "parch                -0.041678\n",
      "fare                  0.004948\n",
      "pclass_1              0.997365\n",
      "pclass_2              0.284851\n",
      "pclass_3             -0.657448\n",
      "sex_female            1.596406\n",
      "sex_male             -0.971639\n",
      "embarked_C            0.318652\n",
      "embarked_Q            0.137521\n",
      "embarked_S           -0.115421\n"
     ]
    },
    {
     "data": {
      "image/png": "[encoded data removed]",
      "text/plain": [
       "<matplotlib.figure.Figure at 0x7fc2ee5ccb38>"
      ]
     },
     "metadata": {},
     "output_type": "display_data"
    }
   ],
   "source": [
    "## show the coefficients in a data frame\n",
    "F = pd.DataFrame(logReg.coef_.ravel() , features_categ.columns.ravel(), columns=['logReg coefficient'])\n",
    "print(F)\n",
    "\n",
    "## barplot 'pclass' categorized via 'survived' over original data frame\n",
    "import matplotlib.pyplot as plt\n",
    "%matplotlib inline\n",
    "pd.crosstab(titanic.survived, titanic.pclass).plot(kind='bar');\n"
   ]
  },
  {
   "cell_type": "markdown",
   "metadata": {
    "deletable": true,
    "editable": true
   },
   "source": [
    "## Other evaluation metrics\n",
    "\n",
    "We already saw the ''accuracy'' as a measure of the quality of the model, the proportion of the test labels are predicted correctly.\n",
    "\n",
    "There are other commonly used measures of quality, and we illustrate a few. First, we look at the confusion table \n",
    "$\n",
    "\\left(\n",
    "\\begin{array}{cc}\n",
    "TN & FP \\\\\n",
    "FN & TP \\\\\n",
    "\\end{array}\n",
    "\\right)\n",
    "$\n",
    "where:\n",
    "\n",
    "* TN: number of True Negatives, i.e. $Y_i=0$ predicted correctly\n",
    "* FP: number of False Positives, i.e. $Y_i=0$ predicted incorrectly\n",
    "* FN: number of False Negatives, i.e. $Y_i=1$ predicted incorrectly\n",
    "* TP: number of True Positives, i.e. $Y_i=1$ predicted correctly\n",
    "\n",
    "Some derived measures:\n",
    "\n",
    "* Precision (negatives): $\\frac{TN}{TN+FN}$\n",
    "* Precision (positives): $\\frac{TP}{TP+FP}$ \n",
    "* Recall (negatives): $\\frac{TN}{TN+FP}$\n",
    "* Recall (positives): $\\frac{TP}{TP+FN}$\n",
    "\n",
    "and the F1 score, computed as\n",
    "$ F1 = \\frac{2 \\cdot Precision \\cdot Recall}{Precision + Recall}. $\n",
    "\n",
    "### ROC and AUC\n",
    "\n",
    "When the predictions are given in terms of probabilities or some other continuous values, it is common to look at the results with a ROC curve (receiver operating characteristic), and to compute the area under the curve (AUC).\n",
    "\n",
    "Given a decision threshold $\\theta$, we use the\n",
    "prediction $Y_i = 1$ if $\\Pi_i \\ge \\theta$, or $Y_1 = 0 $ otherwise. We\n",
    "compute the True Positive Rate $TPR = \\frac{TP}{TP+FN}$ and the False Positive Rate $FPR = \\frac{FP}{FP+TN}$.\n",
    "The ROC curve is built by considering different values for the decision threshold $\\theta$, and plotting the values TPR vs FPR. \n",
    "\n",
    "The AUC is the area under the ROC curve. If all positive cases have higher probabilities than all negative cases, we obtain $AUC = 1$.\n"
   ]
  },
  {
   "cell_type": "code",
   "execution_count": 10,
   "metadata": {
    "collapsed": false,
    "deletable": true,
    "editable": true
   },
   "outputs": [
    {
     "name": "stdout",
     "output_type": "stream",
     "text": [
      "Confusion matrix:\n",
      " [[235  51]\n",
      " [ 48  98]] \n",
      "\n",
      "             precision    recall  f1-score   support\n",
      "\n",
      "          0       0.83      0.82      0.83       286\n",
      "          1       0.66      0.67      0.66       146\n",
      "\n",
      "avg / total       0.77      0.77      0.77       432\n",
      "\n"
     ]
    },
    {
     "data": {
      "image/png": "[encoded data removed]",
      "text/plain": [
       "<matplotlib.figure.Figure at 0x7fc2ee2c27b8>"
      ]
     },
     "metadata": {},
     "output_type": "display_data"
    }
   ],
   "source": [
    "from sklearn import metrics\n",
    "\n",
    "## confusion matrix\n",
    "print('Confusion matrix:\\n',metrics.confusion_matrix(Y_test, pred),'\\n')\n",
    "\n",
    "## precision, recall, F1\n",
    "print(metrics.classification_report(Y_test, pred))\n",
    "\n",
    "## ROC and AUC\n",
    "auc = metrics.roc_auc_score(Y_test, proba[:,1])\n",
    "fpr, tpr, thresh = metrics.roc_curve(Y_test, proba[:,1])\n",
    "plt.plot(fpr,tpr)\n",
    "plt.xlabel('false positive rate')\n",
    "plt.ylabel('true positive rate')\n",
    "plt.title('AUC = '+str(auc))\n",
    "plt.show()\n"
   ]
  },
  {
   "cell_type": "markdown",
   "metadata": {
    "deletable": true,
    "editable": true
   },
   "source": [
    "# Decision Trees\n",
    "\n",
    "Decision trees are simple, very interpretable models for classification or regression.\n",
    "With binary trees, each node corresponds to a split with respect to one of the features\n",
    "available. Classification (or regression) is done by looking at all training cases that \n",
    "end up at each leaf node.\n",
    "\n",
    "Several parameters can be set with such models, two of which are:\n",
    "\n",
    "* the maximum depth: shallow trees are very interpretable, but may lack accuracy; on the other hand, deep trees can overfit to the training data; a validation set can be used to help set this value;\n",
    "* the splitting criterion; by default the Gini index is used, which measures the label \"impurity\" are each node; the other commonly used criterion is entropy.\n",
    "\n",
    "Below we build a shallow decision tree to allow for visualization. We also measure accuracy on the test set, and display variable importance.\n"
   ]
  },
  {
   "cell_type": "code",
   "execution_count": 11,
   "metadata": {
    "collapsed": false,
    "deletable": true,
    "editable": true
   },
   "outputs": [
    {
     "name": "stdout",
     "output_type": "stream",
     "text": [
      "accuracy =  0.80787037037 \n",
      "\n",
      "variable importance:\n",
      "                 tree\n",
      "age         0.053224\n",
      "sibsp       0.039201\n",
      "parch       0.000000\n",
      "fare        0.048779\n",
      "pclass_1    0.031077\n",
      "pclass_2    0.000000\n",
      "pclass_3    0.161237\n",
      "sex_female  0.000000\n",
      "sex_male    0.666482\n",
      "embarked_C  0.000000\n",
      "embarked_Q  0.000000\n",
      "embarked_S  0.000000\n"
     ]
    }
   ],
   "source": [
    "## Tree classification - shallow for easy viz\n",
    "from sklearn.tree import DecisionTreeClassifier\n",
    "myTree = DecisionTreeClassifier(max_depth=3)\n",
    "myTree.fit(X_train_clean, Y_train)\n",
    "\n",
    "## accuracy on the test set\n",
    "print('accuracy = ',myTree.score(X_test_clean, Y_test),'\\n')\n",
    "\n",
    "## feature importance\n",
    "F = pd.DataFrame(myTree.feature_importances_, features_categ.columns.ravel(), columns=['tree'])\n",
    "print('variable importance:\\n',F)\n"
   ]
  },
  {
   "cell_type": "markdown",
   "metadata": {
    "deletable": true,
    "editable": true
   },
   "source": [
    "## Variable Importance and Tree Visualization\n",
    "\n",
    "Variable importance measures are useful, but may be misleading since it is often the interaction between the various features that matters. With a simple decision tree, visualizing the resulting model may bring more insight. As we see below, gender is the most important predictor. However, for male passengers (left branch), the next discriminating factor is age, while for female passengers, it is the the passenger class.  "
   ]
  },
  {
   "cell_type": "code",
   "execution_count": 14,
   "metadata": {
    "collapsed": false,
    "deletable": true,
    "editable": true
   },
   "outputs": [],
   "source": [
    "## Tree viz with graphviz and pydotplus\n",
    "from sklearn import tree\n",
    "from sklearn.externals.six import StringIO\n",
    "import pydotplus\n",
    "dotData = StringIO()\n",
    "tree.export_graphviz(myTree, out_file=dotData, feature_names=features_categ.columns.ravel())\n",
    "graph = pydotplus.graph_from_dot_data(dotData.getvalue())\n",
    "graph.write_png(\"./dt.png\");\n"
   ]
  },
  {
   "cell_type": "code",
   "execution_count": 16,
   "metadata": {
    "collapsed": false,
    "deletable": true,
    "editable": true
   },
   "outputs": [
    {
     "data": {
      "image/png": "[encoded data removed]",
      "text/plain": [
       "<IPython.core.display.Image object>"
      ]
     },
     "execution_count": 16,
     "metadata": {
      "image/png": {
       "width": 800
      }
     },
     "output_type": "execute_result"
    }
   ],
   "source": [
    "Image(\"./dt.png\", width=800)"
   ]
  },
  {
   "cell_type": "markdown",
   "metadata": {
    "deletable": true,
    "editable": true
   },
   "source": [
    "# Random Forest Classification\n",
    "\n",
    "As the name suggests, a random forest is a collection of decision trees; randomization allows to explore the feature and data spaces differently for each tree, namely:\n",
    "\n",
    "* various sub-samples of the training data are used, and\n",
    "* various sub-samples of the features are considered for splitting.\n",
    "\n",
    "There are several parameters that can be set, but in general, using the default values for most of those is fine, experimenting mainly with the number of trees (the ''n_estimators'') parameter, which can be set using a validation data set. In general, using too many trees does not affect the quality of the model, but it means bigger and slower models.\n",
    "\n",
    "Random Forests are often recommanded as a ''black box'' choice for classification, as it almost always performs amongst the best models in empirical studies. It also has a very elegant procedure to estimate variable importance. Finally, given that the final classification is obtain from all the trees, we get a score (proportion of trees that voted for a given class) which we can treat as a pseudo-probability.\n"
   ]
  },
  {
   "cell_type": "code",
   "execution_count": 17,
   "metadata": {
    "collapsed": false,
    "deletable": true,
    "editable": true
   },
   "outputs": [
    {
     "name": "stdout",
     "output_type": "stream",
     "text": [
      "accuracy = 0.777777777778\n"
     ]
    }
   ],
   "source": [
    "## Random Forest - here with 200 trees\n",
    "from sklearn.ensemble import RandomForestClassifier\n",
    "rfc = RandomForestClassifier(n_estimators=200)\n",
    "rfc.fit(X_train_clean, Y_train)\n",
    "\n",
    "## accuracy score: proportion correctly labelled\n",
    "print('accuracy =',rfc.score(X_test_clean, Y_test))\n"
   ]
  },
  {
   "cell_type": "markdown",
   "metadata": {
    "deletable": true,
    "editable": true
   },
   "source": [
    "### Variable Importance - Warnings\n",
    "\n",
    "A word of warning regarding categorical variable importance with the Python/Sklearn implementation of random forests: unlike R, this implementation does not handle categorical features naturally, and the only way to include categorical features is via 1-hot encoding. Therefore, for variable importance, the importance for each possible value of a categorical variable is measured separately. This is not necessarily bad, but has to be taken into account.\n",
    "\n",
    "For example, in the plot below, the importance of the gender is divided amongst the two possible outcomes (''sex_female'' and ''sex_male''). For binary features, we can remove one of the two without loss of information, but this is not so with multiple categories.\n",
    "\n",
    "Another general issue with variable importance in random forests is the bias toward real-valued features vs categorical ones, in particular binary. This is very simple to see: once a split is made on a binary feature, there can be no further split with this feature on the subtrees below the split. However, with real-values features, they can be used for splitting multiple times in the same tree, thus boosting their importance score.\n"
   ]
  },
  {
   "cell_type": "code",
   "execution_count": 18,
   "metadata": {
    "collapsed": false,
    "deletable": true,
    "editable": true
   },
   "outputs": [
    {
     "data": {
      "image/png": "[encoded data removed]",
      "text/plain": [
       "<matplotlib.figure.Figure at 0x7fc2ed832978>"
      ]
     },
     "metadata": {},
     "output_type": "display_data"
    }
   ],
   "source": [
    "# Variable importance measures: sort and barplot\n",
    "imp = np.argsort(rfc.feature_importances_)\n",
    "plt.barh(range(12), rfc.feature_importances_[imp], tick_label=features_categ.columns[imp]);\n"
   ]
  },
  {
   "cell_type": "markdown",
   "metadata": {
    "deletable": true,
    "editable": true
   },
   "source": [
    "### More feature importance and a Boxplot\n",
    "\n",
    "Age comes out as very important, however, when we compare the age distribution of the passengers who survived with those who did not (below), we see very little difference. \n",
    "As we saw with the decision tree, this is likely due to the fact that this feature is important for classification only when used together with some other feature(s), such as gender.\n",
    "\n",
    "Boxplots are very useful for quick EDA (exploratory data analysis) to visualize a distribution.\n",
    "The red line is the median, the box contains most of the data, and any point outside the black \n",
    "horizontal bars are ''outliers''.\n"
   ]
  },
  {
   "cell_type": "code",
   "execution_count": 19,
   "metadata": {
    "collapsed": false,
    "deletable": true,
    "editable": true,
    "scrolled": true
   },
   "outputs": [
    {
     "data": {
      "image/png": "[encoded data removed]",
      "text/plain": [
       "<matplotlib.figure.Figure at 0x7fc2ed812160>"
      ]
     },
     "metadata": {},
     "output_type": "display_data"
    }
   ],
   "source": [
    "## Boxplot - \n",
    "titanic.boxplot(column='age',by='survived', showfliers=True, figsize=(7,5));\n"
   ]
  },
  {
   "cell_type": "markdown",
   "metadata": {
    "deletable": true,
    "editable": true
   },
   "source": [
    "## ROC curve and AUC\n",
    "\n",
    "Finally, since the prodictions from the forest can be viewed as probabilities, we can build a ROC curve and compute the area under it, as we did with logistic regression.\n"
   ]
  },
  {
   "cell_type": "code",
   "execution_count": 20,
   "metadata": {
    "collapsed": false,
    "deletable": true,
    "editable": true
   },
   "outputs": [
    {
     "data": {
      "image/png": "[encoded data removed]",
      "text/plain": [
       "<matplotlib.figure.Figure at 0x7fc2ee316780>"
      ]
     },
     "metadata": {},
     "output_type": "display_data"
    }
   ],
   "source": [
    "## ROC and AUC\n",
    "auc = metrics.roc_auc_score(Y_test, proba[:,1])\n",
    "fpr, tpr, thresh = metrics.roc_curve(Y_test, proba[:,1])\n",
    "plt.plot(fpr,tpr)\n",
    "plt.xlabel('false positive rate')\n",
    "plt.ylabel('true positive rate')\n",
    "plt.title('AUC = '+str(auc))\n",
    "plt.show()"
   ]
  }
 ],
 "metadata": {
  "kernelspec": {
   "display_name": "Data Science for SIGINT (Python 3)",
   "language": "python",
   "name": "python3ds"
   },
  "language_info": {
   "codemirror_mode": {
    "name": "ipython",
    "version": 3
   },
   "file_extension": ".py",
   "mimetype": "text/x-python",
   "name": "python",
   "nbconvert_exporter": "python",
   "pygments_lexer": "ipython3",
   "version": "3.6.1"
  }
 },
 "nbformat": 4,
 "nbformat_minor": 1
}
