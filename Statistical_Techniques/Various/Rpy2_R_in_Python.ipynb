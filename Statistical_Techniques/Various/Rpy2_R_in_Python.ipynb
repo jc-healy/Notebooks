{
 "cells": [
  {
   "cell_type": "code",
   "execution_count": 2,
   "metadata": {
    "collapsed": false
   },
   "outputs": [
    {
     "name": "stderr",
     "output_type": "stream",
     "text": [
      "/mypath/lib/python3.5/site-packages/sklearn/cross_validation.py:44: DeprecationWarning: This module was deprecated in version 0.18 in favor of the model_selection module into which all the refactored classes and functions are moved. Also note that the interface of the new CV iterators are different from that of this module. This module will be removed in 0.20.\n",
      "  \"This module will be removed in 0.20.\", DeprecationWarning)\n"
     ]
    }
   ],
   "source": [
    "#needed for the random forest application\n",
    "import numpy as np\n",
    "from matplotlib import pyplot as plt\n",
    "import sklearn.cross_validation as xval\n",
    "from sklearn.ensemble import RandomForestClassifier\n",
    "import forestci as fci\n",
    "from sklearn.datasets import make_classification"
   ]
  },
  {
   "cell_type": "code",
   "execution_count": 3,
   "metadata": {
    "collapsed": false
   },
   "outputs": [],
   "source": [
    "#create fake data set\n",
    "X, y = make_classification(5000)\n",
    "xtrain, xtest, ytrain, ytest  = xval.train_test_split(X, y, test_size = 0.2)"
   ]
  },
  {
   "cell_type": "code",
   "execution_count": 4,
   "metadata": {
    "collapsed": true
   },
   "outputs": [],
   "source": [
    "#build forest and calculate inbag matrix and raw prediction matrix\n",
    "ntree = 500\n",
    "RFC = RandomForestClassifier(max_features=5, n_estimators=ntree, random_state=42)\n",
    "RFC.fit(xtrain, ytrain)\n",
    "yhat = RFC.predict_proba(xtest)\n",
    "inbag = fci.calc_inbag(xtrain.shape[0], RFC)\n",
    "pred = np.array([tree.predict(xtest) for tree in RFC]).T"
   ]
  },
  {
   "cell_type": "code",
   "execution_count": 5,
   "metadata": {
    "collapsed": false
   },
   "outputs": [
    {
     "name": "stderr",
     "output_type": "stream",
     "text": [
      "/mypath/lib/python3.5/site-packages/ipykernel/__main__.py:4: FutureWarning: The pandas.rpy module is deprecated and will be removed in a future version. We refer to external packages like rpy2. \n",
      "See here for a guide on how to port your code to rpy2: http://pandas.pydata.org/pandas-docs/stable/r_interface.html\n"
     ]
    }
   ],
   "source": [
    "#import things necessary for R and python integration\n",
    "from rpy2.robjects.packages import importr\n",
    "import rpy2.robjects as ro\n",
    "import pandas.rpy.common as com\n",
    "import pandas as pd"
   ]
  },
  {
   "cell_type": "code",
   "execution_count": 6,
   "metadata": {
    "collapsed": false
   },
   "outputs": [],
   "source": [
    "#send inbag and pred to R as matrices and run a R function on them\n",
    "ro.globalenv['inbag'] = com.convert_to_r_matrix(pd.DataFrame(inbag))\n",
    "ro.globalenv['pred'] = com.convert_to_r_matrix(pd.DataFrame(pred))\n",
    "results = ro.r('randomForestCI::infJack(pred, inbag, calibrate=TRUE)')"
   ]
  },
  {
   "cell_type": "code",
   "execution_count": 7,
   "metadata": {
    "collapsed": false
   },
   "outputs": [],
   "source": [
    "#bring results back to python\n",
    "df = com.convert_robj(results)\n",
    "df['y'] = ytest\n",
    "df['sd'] = np.sqrt(df['var.hat'])"
   ]
  },
  {
   "cell_type": "code",
   "execution_count": 8,
   "metadata": {
    "collapsed": false
   },
   "outputs": [
    {
     "data": {
      "text/plain": [
       "<matplotlib.axes._subplots.AxesSubplot at 0x7f03e6b10518>"
      ]
     },
     "execution_count": 8,
     "metadata": {},
     "output_type": "execute_result"
    },
    {
     "data": {
      "image/png": "[encoded data removed]",
      "text/plain": [
       "<matplotlib.figure.Figure at 0x7f0405606fd0>"
      ]
     },
     "metadata": {},
     "output_type": "display_data"
    }
   ],
   "source": [
    "#plot results\n",
    "%matplotlib inline\n",
    "\n",
    "ax = df[df.y==1].plot.scatter(y='sd', x= 'y.hat', label = 'Y=1', color = 'Blue')\n",
    "df[df.y==0].plot.scatter(y='sd', x= 'y.hat',  label = 'Y=0', color = 'Red', ax = ax)"
   ]
  },
  {
   "cell_type": "code",
   "execution_count": null,
   "metadata": {
    "collapsed": true
   },
   "outputs": [],
   "source": []
  }
 ],
 "metadata": {
  "anaconda-cloud": {},
  "kernelspec": {
   "display_name": "Data Science for SIGINT (Python 3)",
   "language": "python",
   "name": "python3ds"
   },
  "language_info": {
   "codemirror_mode": {
    "name": "ipython",
    "version": 3
   },
   "file_extension": ".py",
   "mimetype": "text/x-python",
   "name": "python",
   "nbconvert_exporter": "python",
   "pygments_lexer": "ipython3",
   "version": "3.6.0"
  }
 },
 "nbformat": 4,
 "nbformat_minor": 0
}
