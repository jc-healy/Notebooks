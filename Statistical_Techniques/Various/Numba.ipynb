{
 "cells": [
  {
   "cell_type": "markdown",
   "metadata": {},
   "source": [
    "# CLASSIFICATION: UNCLASSIFIED\n",
    "# UNDER CONSTRUCTION"
   ]
  },
  {
   "cell_type": "markdown",
   "metadata": {},
   "source": [
    "Numba uses just-in-time (JIT) compilation to greatly speed up functions written in python. It works especially well functions heavy on array and mathematical operations and is said to be comparable to performance in C, C++ and Fortran. \n",
    "\n",
    "We will first look at a simple example of how to sum a 2-dimensional array."
   ]
  },
  {
   "cell_type": "markdown",
   "metadata": {},
   "source": [
    "Let's suppose we have an image and want to apply a filter to it"
   ]
  },
  {
   "cell_type": "code",
   "execution_count": 1,
   "metadata": {
    "collapsed": false
   },
   "outputs": [],
   "source": [
    "import numpy as np\n",
    "image = np.arange(256*256).reshape(256,256)\n",
    "filt = np.arange(50*50).reshape(50,50)"
   ]
  },
  {
   "cell_type": "code",
   "execution_count": 2,
   "metadata": {
    "collapsed": false
   },
   "outputs": [
    {
     "name": "stdout",
     "output_type": "stream",
     "text": [
      "CPU times: user 1min 46s, sys: 0 ns, total: 1min 46s\n",
      "Wall time: 1min 46s\n"
     ]
    }
   ],
   "source": [
    "%%time \n",
    "def filter2d(image, filt):\n",
    "    M, N = image.shape\n",
    "    Mf, Nf = filt.shape\n",
    "    Mf2 = Mf // 2\n",
    "    Nf2 = Nf // 2\n",
    "    result = np.zeros_like(image)\n",
    "    \n",
    "    for i in range(Mf2, M - Mf2):\n",
    "        for j in range(Nf2, N - Nf2):\n",
    "            num = 0.0\n",
    "            for ii in range(Mf):\n",
    "                for jj in range(Nf):\n",
    "                    num += (filt[Mf-1-ii,Nf-1-jj]*image[i-Mf+ii,j-Nf2+jj])\n",
    "            result[i,j] = num\n",
    "    return result\n",
    "    \n",
    "\n",
    "filter2d(image, filt)"
   ]
  },
  {
   "cell_type": "markdown",
   "metadata": {},
   "source": [
    "Now we do the same thing except add a jit decorator."
   ]
  },
  {
   "cell_type": "code",
   "execution_count": 3,
   "metadata": {
    "collapsed": true
   },
   "outputs": [],
   "source": [
    "from numba import jit"
   ]
  },
  {
   "cell_type": "code",
   "execution_count": 4,
   "metadata": {
    "collapsed": false
   },
   "outputs": [
    {
     "name": "stdout",
     "output_type": "stream",
     "text": [
      "CPU times: user 24.9 ms, sys: 14.1 ms, total: 39 ms\n",
      "Wall time: 39.3 ms\n"
     ]
    }
   ],
   "source": [
    "%%time \n",
    "\n",
    "@jit\n",
    "def filter2d_jit(image, filt):\n",
    "    M, N = image.shape\n",
    "    Mf, Nf = filt.shape\n",
    "    Mf2 = Mf // 2\n",
    "    Nf2 = Nf // 2\n",
    "    result = np.zeros_like(image)\n",
    "    \n",
    "    for i in range(Mf2, M - Mf2):\n",
    "        for j in range(Nf2, N - Nf2):\n",
    "            num = 0.0\n",
    "            for ii in range(Mf):\n",
    "                for jj in range(Nf):\n",
    "                    num += (filt[Mf-1-ii,Nf-1-jj]*image[i-Mf+ii,j-Nf2+jj])\n",
    "            result[i,j] = num\n",
    "    return result\n"
   ]
  },
  {
   "cell_type": "code",
   "execution_count": 6,
   "metadata": {
    "collapsed": false,
    "scrolled": true
   },
   "outputs": [
    {
     "name": "stdout",
     "output_type": "stream",
     "text": [
      "CPU times: user 280 ms, sys: 10 µs, total: 280 ms\n",
      "Wall time: 279 ms\n"
     ]
    },
    {
     "data": {
      "text/plain": [
       "array([[0, 0, 0, ..., 0, 0, 0],\n",
       "       [0, 0, 0, ..., 0, 0, 0],\n",
       "       [0, 0, 0, ..., 0, 0, 0],\n",
       "       ..., \n",
       "       [0, 0, 0, ..., 0, 0, 0],\n",
       "       [0, 0, 0, ..., 0, 0, 0],\n",
       "       [0, 0, 0, ..., 0, 0, 0]])"
      ]
     },
     "execution_count": 6,
     "metadata": {},
     "output_type": "execute_result"
    }
   ],
   "source": [
    "%%time \n",
    "\n",
    "filter2d_jit(image, filt);"
   ]
  },
  {
   "cell_type": "markdown",
   "metadata": {},
   "source": [
    "On an moderately sized image, this is 400 times faster."
   ]
  },
  {
   "cell_type": "markdown",
   "metadata": {},
   "source": [
    "Numba can also be used to vectorize functions. We will consider the function $$f(x) = \\frac{\\sin(\\pi x)}{\\pi x}$$ which is defined to be 1 when $x=0$. Note in this example, you could use np.sinc or define the function with np functions. However, there are many cases where the function does not exist in numpy."
   ]
  },
  {
   "cell_type": "code",
   "execution_count": 29,
   "metadata": {
    "collapsed": false
   },
   "outputs": [],
   "source": [
    "from numba import vectorize\n",
    "import math"
   ]
  },
  {
   "cell_type": "markdown",
   "metadata": {},
   "source": [
    "Here is the unvectorized version of it, which we must apply to each element of our vector"
   ]
  },
  {
   "cell_type": "code",
   "execution_count": 30,
   "metadata": {
    "collapsed": true
   },
   "outputs": [],
   "source": [
    "def sinc_slow(x):\n",
    "    if x == 0:\n",
    "        return 1.0\n",
    "    return math.sin(x*math.pi) / (x*math.pi)"
   ]
  },
  {
   "cell_type": "code",
   "execution_count": 31,
   "metadata": {
    "collapsed": false
   },
   "outputs": [
    {
     "name": "stdout",
     "output_type": "stream",
     "text": [
      "CPU times: user 16.2 ms, sys: 6 µs, total: 16.2 ms\n",
      "Wall time: 14.8 ms\n"
     ]
    },
    {
     "data": {
      "text/plain": [
       "array([ 0.31738475,  0.69071155,  0.0101941 , ...,  0.03863917,\n",
       "        0.98279504,  0.54119015])"
      ]
     },
     "execution_count": 31,
     "metadata": {},
     "output_type": "execute_result"
    }
   ],
   "source": [
    "%%time\n",
    "np.array([sinc_slow(x) for x in np.random.random(10000)])"
   ]
  },
  {
   "cell_type": "markdown",
   "metadata": {},
   "source": [
    "Now, we vectorize it using the vectorize decorator. We also include a signature.\n",
    "\n",
    "float32(float32) means that the function is returning a float32 and accepting a float32 argument - the first float32 is the return type and multiple argumnets can go in the paranetheses. See the numba documentation for a full list of options and their short forms.\n",
    "\n",
    "Having an array of multiple signatures will get numba to choose the most efficient one. The signatures should be ordered from simplest data type to most complex (e.g. int8 then higher ints, then floats). "
   ]
  },
  {
   "cell_type": "code",
   "execution_count": 33,
   "metadata": {
    "collapsed": false
   },
   "outputs": [],
   "source": [
    "@vectorize(['float32(float32)','float64(float64)'])\n",
    "def sinc(x):\n",
    "    if x == 0:\n",
    "        return 1.0\n",
    "    return math.sin(x*math.pi) / (x*math.pi)"
   ]
  },
  {
   "cell_type": "code",
   "execution_count": 34,
   "metadata": {
    "collapsed": false
   },
   "outputs": [
    {
     "name": "stdout",
     "output_type": "stream",
     "text": [
      "CPU times: user 880 µs, sys: 1.01 ms, total: 1.89 ms\n",
      "Wall time: 3.23 ms\n"
     ]
    },
    {
     "data": {
      "text/plain": [
       "array([ 0.31922822,  0.99091863,  0.7181361 , ...,  0.05047162,\n",
       "        0.52803751,  0.17092169])"
      ]
     },
     "execution_count": 34,
     "metadata": {},
     "output_type": "execute_result"
    }
   ],
   "source": [
    "%%time\n",
    "sinc(np.random.random(10000))"
   ]
  },
  {
   "cell_type": "markdown",
   "metadata": {},
   "source": [
    "Even for a simple function, this is about five times faster."
   ]
  }
 ],
 "metadata": {
  "kernelspec": {
   "display_name": "Data Science for SIGINT (Python 3)",
   "language": "python",
   "name": "python3ds"
   },
  "language_info": {
   "codemirror_mode": {
    "name": "ipython",
    "version": 3
   },
   "file_extension": ".py",
   "mimetype": "text/x-python",
   "name": "python",
   "nbconvert_exporter": "python",
   "pygments_lexer": "ipython3",
   "version": "3.6.0"
  }
 },
 "nbformat": 4,
 "nbformat_minor": 2
}
