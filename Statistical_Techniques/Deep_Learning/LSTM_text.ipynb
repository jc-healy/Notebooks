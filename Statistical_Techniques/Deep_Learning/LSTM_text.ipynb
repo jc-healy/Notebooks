{
 "cells": [
  {
   "cell_type": "markdown",
   "metadata": {},
   "source": [
    "## CLASSIFICATION: UNCLASSIFIED"
   ]
  },
  {
   "cell_type": "markdown",
   "metadata": {
    "deletable": true,
    "editable": true
   },
   "source": [
    "## Recurrent Neural Net Example: LSTM Model\n",
    "### Learning from Alice in Wonderland\n",
    "\n",
    "Recurrent Neural Nets (RNN) are used to model problems that involve seqences of inputs; they have loops that add feedback and memory over time. The leading RNN models are currently the LSTM (long short-term memory) model and the GRU (gated recurrent units) model. For a good introduction to LSTM nets, see the external blog: \"colah.github.io/posts/2015-08-Understanding-LSTMs\" \n",
    "or the recent deep learning book by Goodfellow, Bengio and Courville.\n",
    "\n",
    "In a nutshell, LSTM units contain the following building blocks:\n",
    "\n",
    "* input gates: to model the information to keep,\n",
    "* forget gates: to model the information to drop, and\n",
    "* output gates.\n",
    "\n",
    "We illustrate the use of LSTM to learn the style of the novel 'Alice in wonderland' at the character level.\n"
   ]
  },
  {
   "cell_type": "code",
   "execution_count": 1,
   "metadata": {
    "collapsed": false,
    "deletable": true,
    "editable": true
   },
   "outputs": [
    {
     "name": "stderr",
     "output_type": "stream",
     "text": [
      "Using Theano backend.\n",
      "WARNING (theano.sandbox.cuda): The cuda backend is deprecated and will be removed in the next release (v0.10).  Please switch to the gpuarray backend. You can get more information about how to switch at this URL:\n",
      " https://github.com/Theano/Theano/wiki/Converting-to-the-new-gpu-back-end%28gpuarray%29\n",
      "\n",
      "Using gpu device 0: Tesla K80 (CNMeM is enabled with initial size: 95.0% of memory, cuDNN 5103)\n"
     ]
    }
   ],
   "source": [
    "from __future__ import print_function\n",
    "\n",
    "import keras\n",
    "from keras.models import Sequential\n",
    "from keras.layers import Dense, Dropout, Embedding, LSTM\n",
    "from keras.callbacks import ModelCheckpoint\n",
    "from keras.utils import np_utils\n",
    "\n",
    "import numpy as np\n",
    "import pandas as pd\n",
    "\n",
    "%matplotlib inline\n",
    "import matplotlib.pyplot as plt\n"
   ]
  },
  {
   "cell_type": "markdown",
   "metadata": {
    "deletable": true,
    "editable": true
   },
   "source": [
    "## Reading the text\n",
    "\n",
    "We read the text file from the novel 'Alice in worderland', map all letters to lowercase, and build dictionaries mapping characters to integers."
   ]
  },
  {
   "cell_type": "code",
   "execution_count": 2,
   "metadata": {
    "collapsed": false,
    "deletable": true,
    "editable": true
   },
   "outputs": [],
   "source": [
    "## read in text from Alice in Wonderland\n",
    "import get_data\n",
    "get_data.get_file(\"wonderland.txt\", \"../data/\")\n",
    "\n",
    "raw_text = open('../data/wonderland.txt').read()\n",
    "raw_text = raw_text.lower() ## lowercase\n",
    "drop = {'\\ufeff'}           ## character(s) to drop \n",
    "s = raw_text.translate({ord(i):None for i in drop}) \n",
    "text = ' '.join(s.split())\n",
    "chars = sorted(list(set(text)))\n",
    "char_to_int = dict((c, i) for i, c in enumerate(chars))\n",
    "int_to_char = dict((i, c) for i, c in enumerate(chars))\n",
    "n_chars = len(text) \n",
    "n_vocab = len(chars)"
   ]
  },
  {
   "cell_type": "markdown",
   "metadata": {
    "deletable": true,
    "editable": true
   },
   "source": [
    "## Build training sequences\n",
    "\n",
    "We build training sequences as follows:\n",
    "    \n",
    "* X_train: build all sequences of length 100 from the text \n",
    "* Y_train: the character immediately following each sequence in X_train\n"
   ]
  },
  {
   "cell_type": "code",
   "execution_count": 3,
   "metadata": {
    "collapsed": false,
    "deletable": true,
    "editable": true
   },
   "outputs": [
    {
     "name": "stdout",
     "output_type": "stream",
     "text": [
      "Total patterns: 142309\n"
     ]
    }
   ],
   "source": [
    "## sequences: 100-long sequences of chars with 1-long output (next char)\n",
    "seq_len = 100\n",
    "X_train = []\n",
    "Y_train = []\n",
    "for i in range(0, n_chars - seq_len, 1):\n",
    "    seq_in = text[i:i+seq_len]\n",
    "    seq_out = text[i+seq_len]\n",
    "    X_train.append([char_to_int[char] for char in seq_in])\n",
    "    Y_train.append(char_to_int[seq_out])\n",
    "n_patterns = len(X_train)\n",
    "print (\"Total patterns:\", n_patterns)\n",
    "X = np.reshape(X_train, (n_patterns, seq_len))\n",
    "Y = np_utils.to_categorical(Y_train)"
   ]
  },
  {
   "cell_type": "markdown",
   "metadata": {
    "deletable": true,
    "editable": true
   },
   "source": [
    "## The model\n",
    "\n",
    "We build a simple model with only 4 components, namely:\n",
    "\n",
    "* Embedding: map the characters into 64-dim space\n",
    "* LSTM: the long short-term memory unit with 256-dim output\n",
    "* Dropout: to reduce possible overfitting issues\n",
    "* Dense: with output dimension equal to the number of distinct characters\n"
   ]
  },
  {
   "cell_type": "code",
   "execution_count": 4,
   "metadata": {
    "collapsed": false,
    "deletable": true,
    "editable": true
   },
   "outputs": [
    {
     "name": "stdout",
     "output_type": "stream",
     "text": [
      "_________________________________________________________________\n",
      "Layer (type)                 Output Shape              Param #   \n",
      "=================================================================\n",
      "embedding_1 (Embedding)      (None, 100, 64)           2816      \n",
      "_________________________________________________________________\n",
      "lstm_1 (LSTM)                (None, 256)               328704    \n",
      "_________________________________________________________________\n",
      "dropout_1 (Dropout)          (None, 256)               0         \n",
      "_________________________________________________________________\n",
      "dense_1 (Dense)              (None, 44)                11308     \n",
      "=================================================================\n",
      "Total params: 342,828.0\n",
      "Trainable params: 342,828.0\n",
      "Non-trainable params: 0.0\n",
      "_________________________________________________________________\n"
     ]
    }
   ],
   "source": [
    "## Long short-term memory model (LSTM) with Embedding\n",
    "lstm = Sequential()\n",
    "lstm.add(Embedding(n_vocab,64,input_length=seq_len))\n",
    "lstm.add(LSTM(256))\n",
    "lstm.add(Dropout(0.25))\n",
    "lstm.add(Dense(Y.shape[1], activation='softmax'))\n",
    "lstm.summary()"
   ]
  },
  {
   "cell_type": "markdown",
   "metadata": {
    "deletable": true,
    "editable": true
   },
   "source": [
    "## Building the LSTM and saving the weights\n",
    "\n",
    "Training a LSTM model can be quite slow, so we set checkpoints to save the weights, so we do not need to re-train each time. \n"
   ]
  },
  {
   "cell_type": "code",
   "execution_count": 5,
   "metadata": {
    "collapsed": false,
    "deletable": true,
    "editable": true
   },
   "outputs": [],
   "source": [
    "## Build a new model ...\n",
    "#lstm.compile(loss='categorical_crossentropy', optimizer='adam')\n",
    "#filepath = \"Alice-weights-{epoch:02d}-{loss:.4f}.hdf5\"\n",
    "#checkpoint = ModelCheckpoint(filepath, monitor='loss', verbose=1, save_best_only=True, mode='min')\n",
    "#callback_list = [checkpoint]\n",
    "#lstm.fit(X, Y, epochs=10, batch_size=128, callbacks=callback_list)\n"
   ]
  },
  {
   "cell_type": "markdown",
   "metadata": {
    "deletable": true,
    "editable": true
   },
   "source": [
    "## Loading the weights\n",
    "\n",
    "If we already have a trained model, this is how we can load the weights.\n"
   ]
  },
  {
   "cell_type": "code",
   "execution_count": 6,
   "metadata": {
    "collapsed": false,
    "deletable": true,
    "editable": true
   },
   "outputs": [],
   "source": [
    "## ... or load weights\n",
    "fn = 'Alice-weights-09-0.8870.hdf5'\n",
    "lstm.load_weights(fn)\n",
    "lstm.compile(loss='categorical_crossentropy', optimizer='adam')\n"
   ]
  },
  {
   "cell_type": "code",
   "execution_count": 7,
   "metadata": {
    "collapsed": false,
    "deletable": true,
    "editable": true
   },
   "outputs": [
    {
     "name": "stdout",
     "output_type": "stream",
     "text": [
      "Seed:\n",
      "\" .’ ‘you’ll see me there,’ said the cat, and vanished. alice was not much surprised at this, she was  \"\n",
      "Following:\n",
      "\" getting so used to queer things happening. while she was looking at the place where it had been, it  \"\n"
     ]
    }
   ],
   "source": [
    "## random seed: strta from a string within the book\n",
    "start = np.random.randint(0, len(X_train)-1)\n",
    "pattern = X_train[start]\n",
    "print (\"Seed:\")\n",
    "print(\"\\\"\",''.join([int_to_char[value] for value in pattern]),\"\\\"\")\n",
    "print (\"Following:\")\n",
    "follow = X_train[start+seq_len]\n",
    "print(\"\\\"\",''.join([int_to_char[value] for value in follow]),\"\\\"\")\n"
   ]
  },
  {
   "cell_type": "code",
   "execution_count": 8,
   "metadata": {
    "collapsed": false,
    "deletable": true,
    "editable": true
   },
   "outputs": [
    {
     "name": "stdout",
     "output_type": "stream",
     "text": [
      "a little side of the soldiers with a great hurry and the baby, and the party was sitting on the same"
     ]
    }
   ],
   "source": [
    "import sys\n",
    "## generate characters from the model\n",
    "for i in range(seq_len):\n",
    "    x = np.reshape(pattern, (1,len(pattern)))\n",
    "    prediction = lstm.predict(x, verbose=0)\n",
    "    index = np.argmax(prediction) ## most likely character\n",
    "    result = int_to_char[index]\n",
    "    #seq_in = [int_to_char[value] for value in pattern]\n",
    "    sys.stdout.write(result)\n",
    "    pattern.append(index)\n",
    "    pattern = pattern[1:len(pattern)]\n"
   ]
  },
  {
   "cell_type": "code",
   "execution_count": 9,
   "metadata": {
    "collapsed": false,
    "deletable": true,
    "editable": true
   },
   "outputs": [],
   "source": [
    "## Look inside the box - character embeddings\n",
    "from keras.models import Model\n",
    "embed = Model(inputs=lstm.input, outputs=lstm.layers[0].output)\n",
    "pattern = [x%n_vocab for x in range(seq_len)]\n",
    "x = np.reshape(pattern, (1,len(pattern)))\n",
    "E = embed.predict(x)[0,0:n_vocab,:]\n"
   ]
  },
  {
   "cell_type": "code",
   "execution_count": 10,
   "metadata": {
    "collapsed": false,
    "deletable": true,
    "editable": true
   },
   "outputs": [
    {
     "data": {
      "image/png": "[encoded data removed]",
      "text/plain": [
       "<matplotlib.figure.Figure at 0x7f3641b676d8>"
      ]
     },
     "metadata": {},
     "output_type": "display_data"
    }
   ],
   "source": [
    "from sklearn.manifold import TSNE\n",
    "## t-SNE and plot\n",
    "data = pd.DataFrame(E)\n",
    "# Carry out tsne dimensionality reduction and make a results dataframe\n",
    "tsne = TSNE(perplexity=25, n_iter_without_progress=10, learning_rate=30)\n",
    "vizdata = pd.DataFrame(tsne.fit_transform(data), columns=['x', 'y'])\n",
    "fig, ax = plt.subplots()\n",
    "ax.scatter(vizdata.x, vizdata.y, marker='.', c='white')\n",
    "for i, txt in enumerate(chars):\n",
    "    ax.annotate(txt, (vizdata.x[i], vizdata.y[i]))\n"
   ]
  }
 ],
 "metadata": {
  "kernelspec": {
   "display_name": "Data Science for SIGINT (Python 3)",
   "language": "python",
   "name": "python3ds"
   },
  "language_info": {
   "codemirror_mode": {
    "name": "ipython",
    "version": 3
   },
   "file_extension": ".py",
   "mimetype": "text/x-python",
   "name": "python",
   "nbconvert_exporter": "python",
   "pygments_lexer": "ipython3",
   "version": "3.6.1"
  }
 },
 "nbformat": 4,
 "nbformat_minor": 1
}
