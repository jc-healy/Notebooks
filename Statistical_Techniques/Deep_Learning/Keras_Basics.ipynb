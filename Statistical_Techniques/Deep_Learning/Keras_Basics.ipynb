{
 "cells": [
  {
   "cell_type": "markdown",
   "metadata": {},
   "source": [
    "## CLASSIFICATION: UNCLASSIFIED"
   ]
  },
  {
   "cell_type": "markdown",
   "metadata": {
    "deletable": true,
    "editable": true
   },
   "source": [
    "## Using Keras with Theano or Tensorflow backend\n",
    "\n",
    "Installing in your conda environment:\n",
    "\n",
    "    conda install keras\n",
    "\n",
    "Tensorflow is the default backend. Theano can also be used. \n",
    "\n",
    "\n",
    "### Theano\n",
    "\n",
    "To use Theano, something like this should be in your ~/.keras//keras.json file:\n",
    "    \n",
    "    {\n",
    "        \"image_data_format\": \"channels_last\",\n",
    "        \"floatx\": \"float32\",\n",
    "        \"backend\": \"theano\",         \n",
    "        \"epsilon\": 1e-07\n",
    "    }\n",
    "\n",
    "To use GPU rather than CPU, the following are required:\n",
    "\n",
    "* module load cuda\n",
    "* a ''.theanorc'' file with:\n",
    "    \n",
    "        [global]\n",
    "        floatX = float32\n",
    "        device = gpu\n",
    "        [lib]\n",
    "        cnmem = 1\n",
    "    \n",
    "\n",
    "### Tensorflow\n",
    "\n",
    "To use Theano, something like this should be in your ~/.keras//keras.json file:\n",
    "\n",
    "    {\n",
    "        \"image_data_format\": \"channels_last\",\n",
    "        \"floatx\": \"float32\",\n",
    "        \"backend\": \"tensorflow\",\n",
    "        \"epsilon\": 1e-07\n",
    "    }\n",
    "\n",
    "\n"
   ]
  },
  {
   "cell_type": "markdown",
   "metadata": {
    "deletable": true,
    "editable": true
   },
   "source": [
    "## Example: simple linear regression with a FFNN\n",
    "\n",
    "We learn a 1-unit feed forward neural net, which amounts to \n",
    "linear regression. We show the three steps usewd in this process:\n",
    "\n",
    "* build the model, layer by layer (here, we define a single layer)\n",
    "* compile the model (specify the loss function, the optimizer ...)\n",
    "* fit the model to data (here, toy data)\n"
   ]
  },
  {
   "cell_type": "code",
   "execution_count": 1,
   "metadata": {
    "collapsed": false,
    "deletable": true,
    "editable": true
   },
   "outputs": [
    {
     "name": "stderr",
     "output_type": "stream",
     "text": [
      "Using Theano backend.\n"
     ]
    },
    {
     "name": "stdout",
     "output_type": "stream",
     "text": [
      "_________________________________________________________________\n",
      "Layer (type)                 Output Shape              Param #   \n",
      "=================================================================\n",
      "dense_1 (Dense)              (None, 1)                 2         \n",
      "=================================================================\n",
      "Total params: 2.0\n",
      "Trainable params: 2\n",
      "Non-trainable params: 0.0\n",
      "_________________________________________________________________\n"
     ]
    }
   ],
   "source": [
    "import keras\n",
    "from keras.models import Sequential\n",
    "from keras.layers import Dense\n",
    "\n",
    "## toy data for regression\n",
    "X = [3.3,4.4,5.5,6.71,6.93,4.168,9.779,6.182,7.59,2.167,7,11,5,8,5,9,3.1,10]\n",
    "Y = [1.7,2.7,2.1,3.2,1.7,1.6,3.3,2.6,2.5,1.2,2.8,3.4,1.6,2.9,2.4,2.9,1.3,3.8]\n",
    "\n",
    "model = Sequential()\n",
    "model.add(Dense(1, input_dim=1))\n",
    "model.summary()\n"
   ]
  },
  {
   "cell_type": "code",
   "execution_count": 2,
   "metadata": {
    "collapsed": false,
    "deletable": true,
    "editable": true
   },
   "outputs": [],
   "source": [
    "## Fit the regression\n",
    "model.compile(loss='mse', optimizer='adam')\n",
    "model.fit(X, Y, epochs=500, verbose=0, batch_size=3);\n"
   ]
  },
  {
   "cell_type": "markdown",
   "metadata": {
    "deletable": true,
    "editable": true
   },
   "source": [
    "### Extract the regression parameters\n",
    "\n",
    "In this simple example, there in a single unit, with a single weight $a$ , and the bias $b$,\n",
    "which make up the regression model $ y = a \\cdot x + b $.\n",
    "Below is the syntax to extract the weight(s) and bias from a layer in the model.\n"
   ]
  },
  {
   "cell_type": "code",
   "execution_count": 3,
   "metadata": {
    "collapsed": false,
    "deletable": true,
    "editable": true
   },
   "outputs": [
    {
     "name": "stdout",
     "output_type": "stream",
     "text": [
      "0.29105 0.542515\n"
     ]
    }
   ],
   "source": [
    "## weight(s) and bias for layer 0\n",
    "a = model.layers[0].get_weights()[0][0][0]\n",
    "b = model.layers[0].get_weights()[1][0]\n",
    "print(a,b)"
   ]
  },
  {
   "cell_type": "code",
   "execution_count": 4,
   "metadata": {
    "collapsed": false,
    "deletable": true,
    "editable": true
   },
   "outputs": [
    {
     "data": {
      "image/png": "[encoded data removed]",
      "text/plain": [
       "<matplotlib.figure.Figure at 0x7fb3f7b47320>"
      ]
     },
     "metadata": {},
     "output_type": "display_data"
    }
   ],
   "source": [
    "## compare predicted and Y values\n",
    "pred = model.predict(X)\n",
    "import matplotlib.pyplot as plt\n",
    "%matplotlib inline\n",
    "plt.plot(X,Y,'bo') ## plot true values as blue circles\n",
    "plt.xlabel('X')\n",
    "plt.ylabel('Y')\n",
    "plt.plot(X,pred,'r-') ## predicted line in red\n",
    "plt.show()"
   ]
  }
 ],
 "metadata": {
  "kernelspec": {
   "display_name": "Data Science for SIGINT (Python 3)",
   "language": "python",
   "name": "python3ds"
   },
  "language_info": {
   "codemirror_mode": {
    "name": "ipython",
    "version": 3
   },
   "file_extension": ".py",
   "mimetype": "text/x-python",
   "name": "python",
   "nbconvert_exporter": "python",
   "pygments_lexer": "ipython3",
   "version": "3.6.1"
  }
 },
 "nbformat": 4,
 "nbformat_minor": 2
}
